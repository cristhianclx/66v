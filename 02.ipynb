{
 "cells": [
  {
   "cell_type": "markdown",
   "id": "1ac5f09b",
   "metadata": {},
   "source": [
    "## files"
   ]
  },
  {
   "cell_type": "code",
   "execution_count": null,
   "id": "301d8268",
   "metadata": {},
   "outputs": [],
   "source": [
    "#file = open(\"./02/dog_breeds.txt\")\n",
    "#try:\n",
    "#    print(\"hello\")\n",
    "    # LEER ARCHIVO\n",
    "#finally:\n",
    "#    file.close()\n",
    "\n",
    "\n",
    "with open(\"./02/dog_breeds.txt\", \"r\") as reader:\n",
    "    print(\"hello\")"
   ]
  },
  {
   "cell_type": "code",
   "execution_count": null,
   "id": "8a3c03be",
   "metadata": {},
   "outputs": [],
   "source": [
    "file = open(\"./02/dog_breeds.txt\")\n",
    "print(type(file))\n",
    "\n",
    "file = open(\"./02/dog_breeds.txt\", \"rb\")\n",
    "print(type(file))\n",
    "\n",
    "file = open(\"./02/dog_breeds.txt\", \"wb\")\n",
    "print(type(file))"
   ]
  },
  {
   "cell_type": "code",
   "execution_count": null,
   "id": "c747e7e0",
   "metadata": {},
   "outputs": [],
   "source": [
    "with open(\"./02/dog_breeds.txt\", \"r\") as reader:\n",
    "    print(reader.readlines())"
   ]
  },
  {
   "cell_type": "code",
   "execution_count": null,
   "id": "b106be62",
   "metadata": {},
   "outputs": [],
   "source": [
    "with open(\"./02/dog_breeds.txt\", \"r\") as reader:\n",
    "    line = reader.readline()\n",
    "    while line != '':\n",
    "        print(line, end='')\n",
    "        line = reader.readline()"
   ]
  },
  {
   "cell_type": "code",
   "execution_count": null,
   "id": "32545fc5",
   "metadata": {},
   "outputs": [],
   "source": [
    "# basado en el archivo de texto, indicar cuantos terrier hay\n",
    "\n",
    "terriers_number = 0\n",
    "with open(\"./02/dog_breeds.txt\", \"r\") as reader:\n",
    "    for x in reader.readlines():\n",
    "        if \"Terrier\" in x:\n",
    "            terriers_number = terriers_number + 1\n",
    "\n",
    "with open(\"./02/dog_breeds_terrier_number.txt\", \"w\") as writer:\n",
    "    writer.write(str(terriers_number))"
   ]
  },
  {
   "cell_type": "code",
   "execution_count": null,
   "id": "169250bf",
   "metadata": {},
   "outputs": [],
   "source": [
    "# basado en el archivo de texto, volver a escribirlo pero ordenado de manera alfabetica en reversa\n",
    "\n",
    "with open(\"./02/dog_breeds.txt\", \"r\") as reader, open(\"./02/dog_breeds_reversed.txt\", \"w\") as writer:\n",
    "    data = reader.readlines()\n",
    "    data.sort(reverse=True)\n",
    "    writer.writelines(data)\n",
    "\n",
    "with open(\"./02/dog_breeds_reversed.txt\", \"a\") as writer:\n",
    "    writer.write(\"\\nSchnauzer\")"
   ]
  },
  {
   "cell_type": "code",
   "execution_count": null,
   "id": "baa898b3",
   "metadata": {},
   "outputs": [],
   "source": [
    "!pip install pillow\n",
    "\n",
    "# with open('./02/jack_russell.png', 'rb') as reader:\n",
    "#     print(reader.read())\n",
    "\n",
    "import PIL.Image\n",
    "from IPython.display import display\n",
    "\n",
    "image = PIL.Image.open(\"./02/jack_russell.png\")\n",
    "display(image)\n",
    "# image.show()"
   ]
  },
  {
   "cell_type": "markdown",
   "id": "692261c2",
   "metadata": {},
   "source": [
    "## sql"
   ]
  },
  {
   "cell_type": "code",
   "execution_count": null,
   "id": "7ecf08a4",
   "metadata": {},
   "outputs": [],
   "source": [
    "# ORM\n",
    "\n",
    "# from xxxx import db\n",
    "\n",
    "# class User:\n",
    "#    name = db.String(255)\n",
    "#    age = db.Integer\n",
    "#    email = db.String(255)\n",
    "\n",
    "# User.query.filter(age > 18).all().order_by(\"name\").desc().limit(10)\n",
    "\n",
    "# user = User(name=\"A\", age=20, email\"xx@xx.com\")\n",
    "# db.session.add(user)\n",
    "# db.session.commit()"
   ]
  }
 ],
 "metadata": {
  "kernelspec": {
   "display_name": ".venv",
   "language": "python",
   "name": "python3"
  },
  "language_info": {
   "codemirror_mode": {
    "name": "ipython",
    "version": 3
   },
   "file_extension": ".py",
   "mimetype": "text/x-python",
   "name": "python",
   "nbconvert_exporter": "python",
   "pygments_lexer": "ipython3",
   "version": "3.11.2"
  }
 },
 "nbformat": 4,
 "nbformat_minor": 5
}
