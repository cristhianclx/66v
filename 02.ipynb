{
 "cells": [
  {
   "cell_type": "markdown",
   "id": "1ac5f09b",
   "metadata": {},
   "source": [
    "## files"
   ]
  },
  {
   "cell_type": "code",
   "execution_count": 5,
   "id": "301d8268",
   "metadata": {},
   "outputs": [
    {
     "name": "stdout",
     "output_type": "stream",
     "text": [
      "hello\n"
     ]
    }
   ],
   "source": [
    "#file = open(\"./02/dog_breeds.txt\")\n",
    "#try:\n",
    "#    print(\"hello\")\n",
    "    # LEER ARCHIVO\n",
    "#finally:\n",
    "#    file.close()\n",
    "\n",
    "\n",
    "with open(\"./02/dog_breeds.txt\", \"r\") as reader:\n",
    "    print(\"hello\")"
   ]
  },
  {
   "cell_type": "code",
   "execution_count": 9,
   "id": "8a3c03be",
   "metadata": {},
   "outputs": [
    {
     "name": "stdout",
     "output_type": "stream",
     "text": [
      "<class '_io.TextIOWrapper'>\n",
      "<class '_io.BufferedReader'>\n",
      "<class '_io.BufferedWriter'>\n"
     ]
    }
   ],
   "source": [
    "file = open(\"./02/dog_breeds.txt\")\n",
    "print(type(file))\n",
    "\n",
    "file = open(\"./02/dog_breeds.txt\", \"rb\")\n",
    "print(type(file))\n",
    "\n",
    "file = open(\"./02/dog_breeds.txt\", \"wb\")\n",
    "print(type(file))"
   ]
  },
  {
   "cell_type": "code",
   "execution_count": 18,
   "id": "c747e7e0",
   "metadata": {},
   "outputs": [
    {
     "name": "stdout",
     "output_type": "stream",
     "text": [
      "['Pug\\n', 'Jack Russell Terrier\\n', 'English Springer Spaniel\\n', 'German Shepherd\\n', 'Staffordshire Bull Terrier\\n', 'Cavalier King Charles Spaniel\\n', 'Golden Retriever\\n', 'West Highland White Terrier\\n', 'Boxer\\n', 'Border Terrier\\n', 'Beagle']\n"
     ]
    }
   ],
   "source": [
    "with open(\"./02/dog_breeds.txt\", \"r\") as reader:\n",
    "    print(reader.readlines())"
   ]
  },
  {
   "cell_type": "code",
   "execution_count": 22,
   "id": "b106be62",
   "metadata": {},
   "outputs": [
    {
     "name": "stdout",
     "output_type": "stream",
     "text": [
      "Pug\n",
      "Jack Russell Terrier\n",
      "English Springer Spaniel\n",
      "German Shepherd\n",
      "Staffordshire Bull Terrier\n",
      "Cavalier King Charles Spaniel\n",
      "Golden Retriever\n",
      "West Highland White Terrier\n",
      "Boxer\n",
      "Border Terrier\n",
      "Beagle"
     ]
    }
   ],
   "source": [
    "with open(\"./02/dog_breeds.txt\", \"r\") as reader:\n",
    "    line = reader.readline()\n",
    "    while line != '':\n",
    "        print(line, end='')\n",
    "        line = reader.readline()"
   ]
  },
  {
   "cell_type": "code",
   "execution_count": null,
   "id": "32545fc5",
   "metadata": {},
   "outputs": [],
   "source": [
    "# basado en el archivo de texto, indicar cuantos terrier hay\n",
    "\n",
    "terriers_number = 0\n",
    "with open(\"./02/dog_breeds.txt\", \"r\") as reader:\n",
    "    for x in     reader.readlines():\n",
    "        if \"Terrier\" in x:\n",
    "            terriers_number = terriers_number + 1\n",
    "\n",
    "with open(\"./02/dog_breeds_terrier_number.txt\", \"w\") as writer:\n",
    "    writer.write(str(terriers_number))"
   ]
  },
  {
   "cell_type": "code",
   "execution_count": null,
   "id": "169250bf",
   "metadata": {},
   "outputs": [],
   "source": [
    "# basado en el archivo de texto, volver a escribirlo pero ordenado de manera alfabetica en reversa"
   ]
  }
 ],
 "metadata": {
  "kernelspec": {
   "display_name": ".venv",
   "language": "python",
   "name": "python3"
  },
  "language_info": {
   "codemirror_mode": {
    "name": "ipython",
    "version": 3
   },
   "file_extension": ".py",
   "mimetype": "text/x-python",
   "name": "python",
   "nbconvert_exporter": "python",
   "pygments_lexer": "ipython3",
   "version": "3.11.2"
  }
 },
 "nbformat": 4,
 "nbformat_minor": 5
}
