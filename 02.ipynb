{
 "cells": [
  {
   "cell_type": "markdown",
   "id": "1ac5f09b",
   "metadata": {},
   "source": [
    "## files"
   ]
  },
  {
   "cell_type": "code",
   "execution_count": null,
   "id": "301d8268",
   "metadata": {},
   "outputs": [],
   "source": [
    "#file = open(\"./02/dog_breeds.txt\")\n",
    "#try:\n",
    "#    print(\"hello\")\n",
    "    # LEER ARCHIVO\n",
    "#finally:\n",
    "#    file.close()\n",
    "\n",
    "\n",
    "with open(\"./02/dog_breeds.txt\", \"r\") as reader:\n",
    "    print(\"hello\")"
   ]
  },
  {
   "cell_type": "code",
   "execution_count": null,
   "id": "8a3c03be",
   "metadata": {},
   "outputs": [],
   "source": [
    "file = open(\"./02/dog_breeds.txt\")\n",
    "print(type(file))\n",
    "\n",
    "file = open(\"./02/dog_breeds.txt\", \"rb\")\n",
    "print(type(file))\n",
    "\n",
    "file = open(\"./02/dog_breeds.txt\", \"wb\")\n",
    "print(type(file))"
   ]
  },
  {
   "cell_type": "code",
   "execution_count": null,
   "id": "c747e7e0",
   "metadata": {},
   "outputs": [],
   "source": [
    "with open(\"./02/dog_breeds.txt\", \"r\") as reader:\n",
    "    print(reader.readlines())"
   ]
  },
  {
   "cell_type": "code",
   "execution_count": null,
   "id": "b106be62",
   "metadata": {},
   "outputs": [],
   "source": [
    "with open(\"./02/dog_breeds.txt\", \"r\") as reader:\n",
    "    line = reader.readline()\n",
    "    while line != '':\n",
    "        print(line, end='')\n",
    "        line = reader.readline()"
   ]
  },
  {
   "cell_type": "code",
   "execution_count": null,
   "id": "32545fc5",
   "metadata": {},
   "outputs": [],
   "source": [
    "# basado en el archivo de texto, indicar cuantos terrier hay\n",
    "\n",
    "terriers_number = 0\n",
    "with open(\"./02/dog_breeds.txt\", \"r\") as reader:\n",
    "    for x in reader.readlines():\n",
    "        if \"Terrier\" in x:\n",
    "            terriers_number = terriers_number + 1\n",
    "\n",
    "with open(\"./02/dog_breeds_terrier_number.txt\", \"w\") as writer:\n",
    "    writer.write(str(terriers_number))"
   ]
  },
  {
   "cell_type": "code",
   "execution_count": null,
   "id": "169250bf",
   "metadata": {},
   "outputs": [],
   "source": [
    "# basado en el archivo de texto, volver a escribirlo pero ordenado de manera alfabetica en reversa\n",
    "\n",
    "with open(\"./02/dog_breeds.txt\", \"r\") as reader, open(\"./02/dog_breeds_reversed.txt\", \"w\") as writer:\n",
    "    data = reader.readlines()\n",
    "    data.sort(reverse=True)\n",
    "    writer.writelines(data)\n",
    "\n",
    "with open(\"./02/dog_breeds_reversed.txt\", \"a\") as writer:\n",
    "    writer.write(\"\\nSchnauzer\")"
   ]
  },
  {
   "cell_type": "code",
   "execution_count": null,
   "id": "baa898b3",
   "metadata": {},
   "outputs": [],
   "source": [
    "!pip install pillow\n",
    "\n",
    "# with open('./02/jack_russell.png', 'rb') as reader:\n",
    "#     print(reader.read())\n",
    "\n",
    "import PIL.Image\n",
    "from IPython.display import display\n",
    "\n",
    "image = PIL.Image.open(\"./02/jack_russell.png\")\n",
    "display(image)\n",
    "# image.show()"
   ]
  },
  {
   "cell_type": "markdown",
   "id": "692261c2",
   "metadata": {},
   "source": [
    "## sql"
   ]
  },
  {
   "cell_type": "code",
   "execution_count": null,
   "id": "7ecf08a4",
   "metadata": {},
   "outputs": [],
   "source": [
    "# ORM\n",
    "\n",
    "# from xxxx import db\n",
    "\n",
    "# class User:\n",
    "#    name = db.String(255)\n",
    "#    age = db.Integer\n",
    "#    email = db.String(255)\n",
    "\n",
    "# User.query.filter(age > 18).all().order_by(\"name\").desc().limit(10)\n",
    "\n",
    "# user = User(name=\"A\", age=20, email\"xx@xx.com\")\n",
    "# db.session.add(user)\n",
    "# db.session.commit()"
   ]
  },
  {
   "cell_type": "code",
   "execution_count": null,
   "id": "98dd15f8",
   "metadata": {},
   "outputs": [
    {
     "name": "stdout",
     "output_type": "stream",
     "text": [
      "Collecting sqlalchemy\n",
      "  Downloading sqlalchemy-2.0.41-cp311-cp311-manylinux_2_17_x86_64.manylinux2014_x86_64.whl.metadata (9.6 kB)\n",
      "Collecting greenlet>=1 (from sqlalchemy)\n",
      "  Downloading greenlet-3.2.2-cp311-cp311-manylinux_2_24_x86_64.manylinux_2_28_x86_64.whl.metadata (4.1 kB)\n",
      "Requirement already satisfied: typing-extensions>=4.6.0 in ./.venv/lib/python3.11/site-packages (from sqlalchemy) (4.13.2)\n",
      "Downloading sqlalchemy-2.0.41-cp311-cp311-manylinux_2_17_x86_64.manylinux2014_x86_64.whl (3.3 MB)\n",
      "\u001b[2K   \u001b[90m━━━━━━━━━━━━━━━━━━━━━━━━━━━━━━━━━━━━━━━━\u001b[0m \u001b[32m3.3/3.3 MB\u001b[0m \u001b[31m11.4 MB/s\u001b[0m eta \u001b[36m0:00:00\u001b[0ma \u001b[36m0:00:01\u001b[0m\n",
      "\u001b[?25hDownloading greenlet-3.2.2-cp311-cp311-manylinux_2_24_x86_64.manylinux_2_28_x86_64.whl (583 kB)\n",
      "\u001b[2K   \u001b[90m━━━━━━━━━━━━━━━━━━━━━━━━━━━━━━━━━━━━━━━━\u001b[0m \u001b[32m583.9/583.9 kB\u001b[0m \u001b[31m11.6 MB/s\u001b[0m eta \u001b[36m0:00:00\u001b[0m\n",
      "\u001b[?25hInstalling collected packages: greenlet, sqlalchemy\n",
      "\u001b[2K   \u001b[90m━━━━━━━━━━━━━━━━━━━━━━━━━━━━━━━━━━━━━━━━\u001b[0m \u001b[32m2/2\u001b[0m [sqlalchemy]2\u001b[0m [sqlalchemy]\n",
      "\u001b[1A\u001b[2KSuccessfully installed greenlet-3.2.2 sqlalchemy-2.0.41\n"
     ]
    }
   ],
   "source": [
    "!pip install sqlalchemy"
   ]
  },
  {
   "cell_type": "code",
   "execution_count": 2,
   "id": "4aa5f7b6",
   "metadata": {},
   "outputs": [
    {
     "data": {
      "text/plain": [
       "'2.0.41'"
      ]
     },
     "execution_count": 2,
     "metadata": {},
     "output_type": "execute_result"
    }
   ],
   "source": [
    "import  sqlalchemy\n",
    "sqlalchemy.__version__"
   ]
  },
  {
   "cell_type": "code",
   "execution_count": 3,
   "id": "effad610",
   "metadata": {},
   "outputs": [],
   "source": [
    "from sqlalchemy import create_engine\n",
    "\n",
    "engine = create_engine(\"sqlite:///:memory\", echo=True)"
   ]
  },
  {
   "cell_type": "code",
   "execution_count": 9,
   "id": "d3c23cc4",
   "metadata": {},
   "outputs": [
    {
     "name": "stdout",
     "output_type": "stream",
     "text": [
      "2025-06-03 19:21:04,893 INFO sqlalchemy.engine.Engine BEGIN (implicit)\n",
      "2025-06-03 19:21:04,894 INFO sqlalchemy.engine.Engine PRAGMA main.table_info(\"users\")\n",
      "2025-06-03 19:21:04,894 INFO sqlalchemy.engine.Engine [raw sql] ()\n",
      "2025-06-03 19:21:04,895 INFO sqlalchemy.engine.Engine COMMIT\n",
      "2025-06-03 19:21:04,897 INFO sqlalchemy.engine.Engine BEGIN (implicit)\n",
      "2025-06-03 19:21:04,899 INFO sqlalchemy.engine.Engine INSERT INTO users (first_name, last_name, age) VALUES (?, ?, ?)\n",
      "2025-06-03 19:21:04,899 INFO sqlalchemy.engine.Engine [generated in 0.00057s] ('Cristhian', 'Cueva', 34)\n",
      "2025-06-03 19:21:04,900 INFO sqlalchemy.engine.Engine COMMIT\n"
     ]
    },
    {
     "name": "stderr",
     "output_type": "stream",
     "text": [
      "/tmp/ipykernel_132329/2176974831.py:5: MovedIn20Warning: The ``declarative_base()`` function is now available as sqlalchemy.orm.declarative_base(). (deprecated since: 2.0) (Background on SQLAlchemy 2.0 at: https://sqlalche.me/e/b8d9)\n",
      "  Base = declarative_base()\n"
     ]
    }
   ],
   "source": [
    "from sqlalchemy.ext.declarative import declarative_base\n",
    "from sqlalchemy import Column, Integer, String\n",
    "\n",
    "\n",
    "Base = declarative_base()\n",
    "\n",
    "\n",
    "class User(Base):\n",
    "    __tablename__ = \"users\"\n",
    "    id = Column(Integer, primary_key=True, autoincrement=True)\n",
    "    first_name = Column(String)\n",
    "    last_name = Column(String)\n",
    "    age = Column(Integer)\n",
    "    def __repr__(self):\n",
    "        return \"<User: {}>\".format(self.id)\n",
    "\n",
    "\n",
    "Base.metadata.create_all(engine)\n",
    "\n",
    "\n",
    "from sqlalchemy.orm import sessionmaker\n",
    "\n",
    "Session = sessionmaker(bind = engine)\n",
    "session = Session()\n",
    "\n",
    "\n",
    "user_1 = User(first_name=\"Cristhian\", last_name=\"Cueva\", age=34)\n",
    "session.add(user_1)\n",
    "session.commit()"
   ]
  },
  {
   "cell_type": "code",
   "execution_count": 13,
   "id": "a54d6be9",
   "metadata": {},
   "outputs": [
    {
     "name": "stdout",
     "output_type": "stream",
     "text": [
      "2025-06-03 19:23:14,176 INFO sqlalchemy.engine.Engine UPDATE users SET first_name=? WHERE users.id = ?\n",
      "2025-06-03 19:23:14,177 INFO sqlalchemy.engine.Engine [generated in 0.00086s] ('Genaro', 1)\n",
      "2025-06-03 19:23:14,178 INFO sqlalchemy.engine.Engine INSERT INTO users (first_name, last_name, age) VALUES (?, ?, ?) RETURNING id\n",
      "2025-06-03 19:23:14,179 INFO sqlalchemy.engine.Engine [generated in 0.00012s (insertmanyvalues) 1/6 (ordered; batch not supported)] ('Cristhian', 'Cueva', 32)\n",
      "2025-06-03 19:23:14,180 INFO sqlalchemy.engine.Engine INSERT INTO users (first_name, last_name, age) VALUES (?, ?, ?) RETURNING id\n",
      "2025-06-03 19:23:14,180 INFO sqlalchemy.engine.Engine [insertmanyvalues 2/6 (ordered; batch not supported)] ('Cristhian', 'Cueva', 33)\n",
      "2025-06-03 19:23:14,181 INFO sqlalchemy.engine.Engine INSERT INTO users (first_name, last_name, age) VALUES (?, ?, ?) RETURNING id\n",
      "2025-06-03 19:23:14,181 INFO sqlalchemy.engine.Engine [insertmanyvalues 3/6 (ordered; batch not supported)] ('Cristhian', 'Cueva', 31)\n",
      "2025-06-03 19:23:14,182 INFO sqlalchemy.engine.Engine INSERT INTO users (first_name, last_name, age) VALUES (?, ?, ?) RETURNING id\n",
      "2025-06-03 19:23:14,182 INFO sqlalchemy.engine.Engine [insertmanyvalues 4/6 (ordered; batch not supported)] ('Cristhian', 'Cueva', 32)\n",
      "2025-06-03 19:23:14,183 INFO sqlalchemy.engine.Engine INSERT INTO users (first_name, last_name, age) VALUES (?, ?, ?) RETURNING id\n",
      "2025-06-03 19:23:14,183 INFO sqlalchemy.engine.Engine [insertmanyvalues 5/6 (ordered; batch not supported)] ('Cristhian', 'Cueva', 33)\n",
      "2025-06-03 19:23:14,183 INFO sqlalchemy.engine.Engine INSERT INTO users (first_name, last_name, age) VALUES (?, ?, ?) RETURNING id\n",
      "2025-06-03 19:23:14,184 INFO sqlalchemy.engine.Engine [insertmanyvalues 6/6 (ordered; batch not supported)] ('Cristhian', 'Cueva', 31)\n",
      "2025-06-03 19:23:14,185 INFO sqlalchemy.engine.Engine COMMIT\n"
     ]
    }
   ],
   "source": [
    "session.add_all([\n",
    "    User(first_name=\"Cristhian\", last_name=\"Cueva\", age=32),\n",
    "    User(first_name=\"Cristhian\", last_name=\"Cueva\", age=33),\n",
    "    User(first_name=\"Cristhian\", last_name=\"Cueva\", age=31),\n",
    "])\n",
    "user_1.first_name = \"Genaro\"\n",
    "session.add(user_1)\n",
    "session.commit()"
   ]
  },
  {
   "cell_type": "code",
   "execution_count": null,
   "id": "52b67a06",
   "metadata": {},
   "outputs": [
    {
     "name": "stdout",
     "output_type": "stream",
     "text": [
      "2025-06-03 19:29:15,516 INFO sqlalchemy.engine.Engine SELECT users.id AS users_id, users.first_name AS users_first_name, users.last_name AS users_last_name, users.age AS users_age \n",
      "FROM users ORDER BY users.age\n",
      "2025-06-03 19:29:15,517 INFO sqlalchemy.engine.Engine [cached since 293s ago] ()\n",
      "4 31\n",
      "7 31\n",
      "2 32\n",
      "5 32\n",
      "3 33\n",
      "6 33\n",
      "1 34\n",
      "2025-06-03 19:29:15,519 INFO sqlalchemy.engine.Engine SELECT users.id AS users_id, users.first_name AS users_first_name, users.last_name AS users_last_name, users.age AS users_age \n",
      "FROM users \n",
      "WHERE users.first_name = ?\n",
      "2025-06-03 19:29:15,519 INFO sqlalchemy.engine.Engine [cached since 223.9s ago] ('Cristhian',)\n",
      "2 Cristhian\n",
      "3 Cristhian\n",
      "4 Cristhian\n",
      "5 Cristhian\n",
      "6 Cristhian\n",
      "7 Cristhian\n",
      "2025-06-03 19:29:15,522 INFO sqlalchemy.engine.Engine SELECT users.id AS users_id, users.first_name AS users_first_name, users.last_name AS users_last_name, users.age AS users_age \n",
      "FROM users \n",
      "WHERE users.first_name IN (?, ?)\n",
      "2025-06-03 19:29:15,522 INFO sqlalchemy.engine.Engine [cached since 100.2s ago] ('Cristhian', 'Genaro')\n",
      "1 Genaro\n",
      "2 Cristhian\n",
      "3 Cristhian\n",
      "4 Cristhian\n",
      "5 Cristhian\n",
      "6 Cristhian\n",
      "7 Cristhian\n",
      "2025-06-03 19:29:15,524 INFO sqlalchemy.engine.Engine SELECT users.id AS users_id, users.first_name AS users_first_name, users.last_name AS users_last_name, users.age AS users_age \n",
      "FROM users \n",
      "WHERE users.first_name LIKE ?\n",
      "2025-06-03 19:29:15,525 INFO sqlalchemy.engine.Engine [cached since 42.44s ago] ('%isthia%',)\n",
      "2 Cristhian\n",
      "3 Cristhian\n",
      "4 Cristhian\n",
      "5 Cristhian\n",
      "6 Cristhian\n",
      "7 Cristhian\n",
      "2025-06-03 19:29:15,526 INFO sqlalchemy.engine.Engine SELECT users.id AS users_id, users.first_name AS users_first_name, users.last_name AS users_last_name, users.age AS users_age \n",
      "FROM users ORDER BY users.age\n",
      "2025-06-03 19:29:15,527 INFO sqlalchemy.engine.Engine [cached since 293.1s ago] ()\n",
      "[<User: 4>, <User: 7>, <User: 2>, <User: 5>, <User: 3>, <User: 6>, <User: 1>]\n"
     ]
    }
   ],
   "source": [
    "# https://www.codementor.io/@sheena/understanding-sqlalchemy-cheat-sheet-du107lawl\n",
    "\n",
    "for i in session.query(User).order_by(User.age):\n",
    "    print(i.id, i.age)\n",
    "\n",
    "for i in session.query(User).filter_by(first_name=\"Cristhian\"):\n",
    "    print(i.id, i.first_name)\n",
    "\n",
    "for i in session.query(User).filter(User.first_name.in_([\"Cristhian\", \"Genaro\"])):\n",
    "    print(i.id, i.first_name)\n",
    "\n",
    "for i in session.query(User).filter(User.first_name.like(\"%isthia%\")):\n",
    "    print(i.id, i.first_name)\n",
    "\n",
    "q = session.query(User).order_by(User.age).all()\n",
    "print(q)"
   ]
  },
  {
   "cell_type": "code",
   "execution_count": 23,
   "id": "da682c75",
   "metadata": {},
   "outputs": [],
   "source": [
    "# persistente en disco\n",
    "\n",
    "from sqlalchemy import create_engine\n",
    "\n",
    "engine = create_engine(\"sqlite:///02/users.db\", echo=True)"
   ]
  },
  {
   "cell_type": "code",
   "execution_count": 24,
   "id": "60a64402",
   "metadata": {},
   "outputs": [
    {
     "name": "stdout",
     "output_type": "stream",
     "text": [
      "2025-06-03 19:31:17,701 INFO sqlalchemy.engine.Engine BEGIN (implicit)\n",
      "2025-06-03 19:31:17,701 INFO sqlalchemy.engine.Engine PRAGMA main.table_info(\"users\")\n",
      "2025-06-03 19:31:17,702 INFO sqlalchemy.engine.Engine [raw sql] ()\n",
      "2025-06-03 19:31:17,702 INFO sqlalchemy.engine.Engine PRAGMA temp.table_info(\"users\")\n",
      "2025-06-03 19:31:17,703 INFO sqlalchemy.engine.Engine [raw sql] ()\n",
      "2025-06-03 19:31:17,704 INFO sqlalchemy.engine.Engine \n",
      "CREATE TABLE users (\n",
      "\tid INTEGER NOT NULL, \n",
      "\tfirst_name VARCHAR, \n",
      "\tlast_name VARCHAR, \n",
      "\tage INTEGER, \n",
      "\tPRIMARY KEY (id)\n",
      ")\n",
      "\n",
      "\n",
      "2025-06-03 19:31:17,704 INFO sqlalchemy.engine.Engine [no key 0.00033s] ()\n",
      "2025-06-03 19:31:17,710 INFO sqlalchemy.engine.Engine COMMIT\n"
     ]
    },
    {
     "name": "stderr",
     "output_type": "stream",
     "text": [
      "/tmp/ipykernel_132329/3345363984.py:5: MovedIn20Warning: The ``declarative_base()`` function is now available as sqlalchemy.orm.declarative_base(). (deprecated since: 2.0) (Background on SQLAlchemy 2.0 at: https://sqlalche.me/e/b8d9)\n",
      "  Base = declarative_base()\n"
     ]
    }
   ],
   "source": [
    "from sqlalchemy.ext.declarative import declarative_base\n",
    "from sqlalchemy import Column, Integer, String\n",
    "\n",
    "\n",
    "Base = declarative_base()\n",
    "\n",
    "\n",
    "class User(Base):\n",
    "    __tablename__ = \"users\"\n",
    "    id = Column(Integer, primary_key=True, autoincrement=True)\n",
    "    first_name = Column(String)\n",
    "    last_name = Column(String)\n",
    "    age = Column(Integer)\n",
    "    def __repr__(self):\n",
    "        return \"<User: {}>\".format(self.id)\n",
    "\n",
    "\n",
    "Base.metadata.create_all(engine)"
   ]
  },
  {
   "cell_type": "code",
   "execution_count": 25,
   "id": "6e583233",
   "metadata": {},
   "outputs": [
    {
     "name": "stdout",
     "output_type": "stream",
     "text": [
      "2025-06-03 19:32:18,615 INFO sqlalchemy.engine.Engine BEGIN (implicit)\n",
      "2025-06-03 19:32:18,617 INFO sqlalchemy.engine.Engine INSERT INTO users (first_name, last_name, age) VALUES (?, ?, ?)\n",
      "2025-06-03 19:32:18,617 INFO sqlalchemy.engine.Engine [generated in 0.00056s] ('Cristhian', 'Cueva', 34)\n",
      "2025-06-03 19:32:18,618 INFO sqlalchemy.engine.Engine COMMIT\n",
      "2025-06-03 19:32:18,625 INFO sqlalchemy.engine.Engine BEGIN (implicit)\n",
      "2025-06-03 19:32:18,626 INFO sqlalchemy.engine.Engine INSERT INTO users (first_name, last_name, age) VALUES (?, ?, ?)\n",
      "2025-06-03 19:32:18,626 INFO sqlalchemy.engine.Engine [cached since 0.009599s ago] ('Alan', 'Garcia', 60)\n",
      "2025-06-03 19:32:18,627 INFO sqlalchemy.engine.Engine COMMIT\n"
     ]
    }
   ],
   "source": [
    "from sqlalchemy.orm import sessionmaker\n",
    "\n",
    "Session = sessionmaker(bind = engine)\n",
    "session = Session()\n",
    "\n",
    "\n",
    "user_1 = User(first_name=\"Cristhian\", last_name=\"Cueva\", age=34)\n",
    "session.add(user_1)\n",
    "session.commit()\n",
    "\n",
    "user_2 = User(first_name=\"Alan\", last_name=\"Garcia\", age=60)\n",
    "session.add(user_2)\n",
    "session.commit()"
   ]
  },
  {
   "cell_type": "code",
   "execution_count": 26,
   "id": "611140b1",
   "metadata": {},
   "outputs": [
    {
     "name": "stdout",
     "output_type": "stream",
     "text": [
      "2025-06-03 19:33:49,787 INFO sqlalchemy.engine.Engine BEGIN (implicit)\n",
      "2025-06-03 19:33:49,789 INFO sqlalchemy.engine.Engine SELECT users.id AS users_id, users.first_name AS users_first_name, users.last_name AS users_last_name \n",
      "FROM users \n",
      "WHERE users.id = ?\n",
      "2025-06-03 19:33:49,789 INFO sqlalchemy.engine.Engine [generated in 0.00053s] (1,)\n",
      "2025-06-03 19:33:49,791 INFO sqlalchemy.engine.Engine UPDATE users SET age=? WHERE users.id = ?\n",
      "2025-06-03 19:33:49,794 INFO sqlalchemy.engine.Engine [generated in 0.00275s] (35, 1)\n",
      "2025-06-03 19:33:49,795 INFO sqlalchemy.engine.Engine COMMIT\n"
     ]
    }
   ],
   "source": [
    "user_1.age = 35\n",
    "session.add(user_1)\n",
    "session.commit()"
   ]
  },
  {
   "cell_type": "code",
   "execution_count": 27,
   "id": "a15d07b0",
   "metadata": {},
   "outputs": [
    {
     "name": "stdout",
     "output_type": "stream",
     "text": [
      "2025-06-03 19:36:58,594 INFO sqlalchemy.engine.Engine BEGIN (implicit)\n",
      "2025-06-03 19:36:58,595 INFO sqlalchemy.engine.Engine SELECT users.id AS users_id, users.first_name AS users_first_name, users.last_name AS users_last_name, users.age AS users_age \n",
      "FROM users \n",
      "WHERE users.id = ?\n",
      " LIMIT ? OFFSET ?\n",
      "2025-06-03 19:36:58,596 INFO sqlalchemy.engine.Engine [generated in 0.00049s] (1, 1, 0)\n",
      "2025-06-03 19:36:58,597 INFO sqlalchemy.engine.Engine DELETE FROM users WHERE users.id = ?\n",
      "2025-06-03 19:36:58,598 INFO sqlalchemy.engine.Engine [generated in 0.00049s] (1,)\n",
      "2025-06-03 19:36:58,599 INFO sqlalchemy.engine.Engine COMMIT\n"
     ]
    }
   ],
   "source": [
    "user_1 = session.query(User).filter_by(id = 1).first()\n",
    "session.delete(user_1)\n",
    "session.commit()"
   ]
  },
  {
   "cell_type": "code",
   "execution_count": null,
   "id": "16813dc7",
   "metadata": {},
   "outputs": [],
   "source": [
    "# https://www.sqlite.org/download.html (https://www.sqlite.org/2025/sqlite-tools-win-x64-3500000.zip)\n",
    "# https://sqlitebrowser.org/dl/\n",
    "\n",
    "# crear una tabla Student (first_name, last_name, id, document_type, document_number, section, score ...)\n",
    "\n",
    "# agregar al menos 6 usuarios\n",
    "\n",
    "# filtrar los Student cuyo document_type sea DNI, cuyo document_number empiece con 7, \n",
    "# que pertenezcan a la seccion A, y cuyo score sea menor a 11"
   ]
  },
  {
   "cell_type": "code",
   "execution_count": null,
   "id": "5a639790",
   "metadata": {},
   "outputs": [],
   "source": []
  }
 ],
 "metadata": {
  "kernelspec": {
   "display_name": ".venv",
   "language": "python",
   "name": "python3"
  },
  "language_info": {
   "codemirror_mode": {
    "name": "ipython",
    "version": 3
   },
   "file_extension": ".py",
   "mimetype": "text/x-python",
   "name": "python",
   "nbconvert_exporter": "python",
   "pygments_lexer": "ipython3",
   "version": "3.11.2"
  }
 },
 "nbformat": 4,
 "nbformat_minor": 5
}
