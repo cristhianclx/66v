{
 "cells": [
  {
   "cell_type": "markdown",
   "id": "1ac5f09b",
   "metadata": {},
   "source": [
    "## files"
   ]
  },
  {
   "cell_type": "code",
   "execution_count": null,
   "id": "301d8268",
   "metadata": {},
   "outputs": [],
   "source": [
    "#file = open(\"./02/dog_breeds.txt\")\n",
    "#try:\n",
    "#    print(\"hello\")\n",
    "    # LEER ARCHIVO\n",
    "#finally:\n",
    "#    file.close()\n",
    "\n",
    "\n",
    "with open(\"./02/dog_breeds.txt\", \"r\") as reader:\n",
    "    print(\"hello\")"
   ]
  },
  {
   "cell_type": "code",
   "execution_count": null,
   "id": "8a3c03be",
   "metadata": {},
   "outputs": [],
   "source": [
    "file = open(\"./02/dog_breeds.txt\")\n",
    "print(type(file))\n",
    "\n",
    "file = open(\"./02/dog_breeds.txt\", \"rb\")\n",
    "print(type(file))\n",
    "\n",
    "file = open(\"./02/dog_breeds.txt\", \"wb\")\n",
    "print(type(file))"
   ]
  },
  {
   "cell_type": "code",
   "execution_count": null,
   "id": "c747e7e0",
   "metadata": {},
   "outputs": [],
   "source": [
    "with open(\"./02/dog_breeds.txt\", \"r\") as reader:\n",
    "    print(reader.readlines())"
   ]
  },
  {
   "cell_type": "code",
   "execution_count": null,
   "id": "b106be62",
   "metadata": {},
   "outputs": [],
   "source": [
    "with open(\"./02/dog_breeds.txt\", \"r\") as reader:\n",
    "    line = reader.readline()\n",
    "    while line != '':\n",
    "        print(line, end='')\n",
    "        line = reader.readline()"
   ]
  },
  {
   "cell_type": "code",
   "execution_count": null,
   "id": "32545fc5",
   "metadata": {},
   "outputs": [],
   "source": [
    "# basado en el archivo de texto, indicar cuantos terrier hay\n",
    "\n",
    "terriers_number = 0\n",
    "with open(\"./02/dog_breeds.txt\", \"r\") as reader:\n",
    "    for x in reader.readlines():\n",
    "        if \"Terrier\" in x:\n",
    "            terriers_number = terriers_number + 1\n",
    "\n",
    "with open(\"./02/dog_breeds_terrier_number.txt\", \"w\") as writer:\n",
    "    writer.write(str(terriers_number))"
   ]
  },
  {
   "cell_type": "code",
   "execution_count": null,
   "id": "169250bf",
   "metadata": {},
   "outputs": [],
   "source": [
    "# basado en el archivo de texto, volver a escribirlo pero ordenado de manera alfabetica en reversa\n",
    "\n",
    "with open(\"./02/dog_breeds.txt\", \"r\") as reader, open(\"./02/dog_breeds_reversed.txt\", \"w\") as writer:\n",
    "    data = reader.readlines()\n",
    "    data.sort(reverse=True)\n",
    "    writer.writelines(data)\n",
    "\n",
    "with open(\"./02/dog_breeds_reversed.txt\", \"a\") as writer:\n",
    "    writer.write(\"\\nSchnauzer\")"
   ]
  },
  {
   "cell_type": "code",
   "execution_count": null,
   "id": "baa898b3",
   "metadata": {},
   "outputs": [],
   "source": [
    "!pip install pillow\n",
    "\n",
    "# with open('./02/jack_russell.png', 'rb') as reader:\n",
    "#     print(reader.read())\n",
    "\n",
    "import PIL.Image\n",
    "from IPython.display import display\n",
    "\n",
    "image = PIL.Image.open(\"./02/jack_russell.png\")\n",
    "display(image)\n",
    "# image.show()"
   ]
  },
  {
   "cell_type": "markdown",
   "id": "692261c2",
   "metadata": {},
   "source": [
    "## sql"
   ]
  },
  {
   "cell_type": "code",
   "execution_count": null,
   "id": "7ecf08a4",
   "metadata": {},
   "outputs": [],
   "source": [
    "# ORM\n",
    "\n",
    "# from xxxx import db\n",
    "\n",
    "# class User:\n",
    "#    name = db.String(255)\n",
    "#    age = db.Integer\n",
    "#    email = db.String(255)\n",
    "\n",
    "# User.query.filter(age > 18).all().order_by(\"name\").desc().limit(10)\n",
    "\n",
    "# user = User(name=\"A\", age=20, email\"xx@xx.com\")\n",
    "# db.session.add(user)\n",
    "# db.session.commit()"
   ]
  },
  {
   "cell_type": "code",
   "execution_count": null,
   "id": "98dd15f8",
   "metadata": {},
   "outputs": [],
   "source": [
    "!pip install sqlalchemy"
   ]
  },
  {
   "cell_type": "code",
   "execution_count": null,
   "id": "4aa5f7b6",
   "metadata": {},
   "outputs": [],
   "source": [
    "import  sqlalchemy\n",
    "sqlalchemy.__version__"
   ]
  },
  {
   "cell_type": "code",
   "execution_count": null,
   "id": "effad610",
   "metadata": {},
   "outputs": [],
   "source": [
    "from sqlalchemy import create_engine\n",
    "\n",
    "engine = create_engine(\"sqlite:///:memory\", echo=True)"
   ]
  },
  {
   "cell_type": "code",
   "execution_count": null,
   "id": "d3c23cc4",
   "metadata": {},
   "outputs": [],
   "source": [
    "from sqlalchemy.ext.declarative import declarative_base\n",
    "from sqlalchemy import Column, Integer, String\n",
    "\n",
    "\n",
    "Base = declarative_base()\n",
    "\n",
    "\n",
    "class User(Base):\n",
    "    __tablename__ = \"users\"\n",
    "    id = Column(Integer, primary_key=True, autoincrement=True)\n",
    "    first_name = Column(String)\n",
    "    last_name = Column(String)\n",
    "    age = Column(Integer)\n",
    "    def __repr__(self):\n",
    "        return \"<User: {}>\".format(self.id)\n",
    "\n",
    "\n",
    "Base.metadata.create_all(engine)\n",
    "\n",
    "\n",
    "from sqlalchemy.orm import sessionmaker\n",
    "\n",
    "Session = sessionmaker(bind = engine)\n",
    "session = Session()\n",
    "\n",
    "\n",
    "user_1 = User(first_name=\"Cristhian\", last_name=\"Cueva\", age=34)\n",
    "session.add(user_1)\n",
    "session.commit()"
   ]
  },
  {
   "cell_type": "code",
   "execution_count": null,
   "id": "a54d6be9",
   "metadata": {},
   "outputs": [],
   "source": [
    "session.add_all([\n",
    "    User(first_name=\"Cristhian\", last_name=\"Cueva\", age=32),\n",
    "    User(first_name=\"Cristhian\", last_name=\"Cueva\", age=33),\n",
    "    User(first_name=\"Cristhian\", last_name=\"Cueva\", age=31),\n",
    "])\n",
    "user_1.first_name = \"Genaro\"\n",
    "session.add(user_1)\n",
    "session.commit()"
   ]
  },
  {
   "cell_type": "code",
   "execution_count": null,
   "id": "52b67a06",
   "metadata": {},
   "outputs": [],
   "source": [
    "# https://www.codementor.io/@sheena/understanding-sqlalchemy-cheat-sheet-du107lawl\n",
    "\n",
    "for i in session.query(User).order_by(User.age):\n",
    "    print(i.id, i.age)\n",
    "\n",
    "for i in session.query(User).filter_by(first_name=\"Cristhian\"):\n",
    "    print(i.id, i.first_name)\n",
    "\n",
    "for i in session.query(User).filter(User.first_name.in_([\"Cristhian\", \"Genaro\"])):\n",
    "    print(i.id, i.first_name)\n",
    "\n",
    "for i in session.query(User).filter(User.first_name.like(\"%isthia%\")):\n",
    "    print(i.id, i.first_name)\n",
    "\n",
    "q = session.query(User).order_by(User.age).all()\n",
    "print(q)"
   ]
  },
  {
   "cell_type": "code",
   "execution_count": null,
   "id": "da682c75",
   "metadata": {},
   "outputs": [],
   "source": [
    "# persistente en disco\n",
    "\n",
    "from sqlalchemy import create_engine\n",
    "\n",
    "engine = create_engine(\"sqlite:///02/users.db\", echo=True)"
   ]
  },
  {
   "cell_type": "code",
   "execution_count": null,
   "id": "60a64402",
   "metadata": {},
   "outputs": [],
   "source": [
    "from sqlalchemy.ext.declarative import declarative_base\n",
    "from sqlalchemy import Column, Integer, String\n",
    "\n",
    "\n",
    "Base = declarative_base()\n",
    "\n",
    "\n",
    "class User(Base):\n",
    "    __tablename__ = \"users\"\n",
    "    id = Column(Integer, primary_key=True, autoincrement=True)\n",
    "    first_name = Column(String)\n",
    "    last_name = Column(String)\n",
    "    age = Column(Integer)\n",
    "    def __repr__(self):\n",
    "        return \"<User: {}>\".format(self.id)\n",
    "\n",
    "\n",
    "Base.metadata.create_all(engine)"
   ]
  },
  {
   "cell_type": "code",
   "execution_count": null,
   "id": "6e583233",
   "metadata": {},
   "outputs": [],
   "source": [
    "from sqlalchemy.orm import sessionmaker\n",
    "\n",
    "Session = sessionmaker(bind = engine)\n",
    "session = Session()\n",
    "\n",
    "\n",
    "user_1 = User(first_name=\"Cristhian\", last_name=\"Cueva\", age=34)\n",
    "session.add(user_1)\n",
    "session.commit()\n",
    "\n",
    "user_2 = User(first_name=\"Alan\", last_name=\"Garcia\", age=60)\n",
    "session.add(user_2)\n",
    "session.commit()"
   ]
  },
  {
   "cell_type": "code",
   "execution_count": null,
   "id": "611140b1",
   "metadata": {},
   "outputs": [],
   "source": [
    "user_1.age = 35\n",
    "session.add(user_1)\n",
    "session.commit()"
   ]
  },
  {
   "cell_type": "code",
   "execution_count": null,
   "id": "a15d07b0",
   "metadata": {},
   "outputs": [],
   "source": [
    "user_1 = session.query(User).filter_by(id = 1).first()\n",
    "session.delete(user_1)\n",
    "session.commit()"
   ]
  },
  {
   "cell_type": "code",
   "execution_count": null,
   "id": "16813dc7",
   "metadata": {},
   "outputs": [],
   "source": [
    "# https://www.sqlite.org/download.html (https://www.sqlite.org/2025/sqlite-tools-win-x64-3500000.zip)\n",
    "# https://sqlitebrowser.org/dl/\n",
    "\n",
    "# crear una tabla Student (first_name, last_name, id, document_type, document_number, section, score ...)\n",
    "\n",
    "# agregar al menos 6 usuarios\n",
    "\n",
    "# filtrar los Student cuyo document_type sea DNI, cuyo document_number empiece con 7, \n",
    "# que pertenezcan a la seccion A, y cuyo score sea menor a 11"
   ]
  },
  {
   "cell_type": "code",
   "execution_count": null,
   "id": "5a639790",
   "metadata": {},
   "outputs": [],
   "source": [
    "from sqlalchemy import create_engine\n",
    "\n",
    "engine = create_engine(\"sqlite:///02/students.db\", echo=True)"
   ]
  },
  {
   "cell_type": "code",
   "execution_count": null,
   "id": "6b9c5372",
   "metadata": {},
   "outputs": [],
   "source": [
    "from sqlalchemy.ext.declarative import declarative_base\n",
    "from sqlalchemy import Column, Integer, String, Float\n",
    "\n",
    "\n",
    "Base = declarative_base()\n",
    "\n",
    "\n",
    "class Student(Base):\n",
    "    __tablename__ = \"students\"\n",
    "    id = Column(Integer, primary_key=True, autoincrement=True)\n",
    "    first_name = Column(String)\n",
    "    last_name = Column(String)\n",
    "    document_type = Column(String)\n",
    "    document_number = Column(String)\n",
    "    section = Column(String)\n",
    "    score = Column(Float)\n",
    "    def __repr__(self):\n",
    "        return \"<Student: {}>\".format(self.id)\n",
    "\n",
    "\n",
    "Base.metadata.create_all(engine)"
   ]
  },
  {
   "cell_type": "code",
   "execution_count": null,
   "id": "4d95f58d",
   "metadata": {},
   "outputs": [],
   "source": [
    "from sqlalchemy.orm import sessionmaker\n",
    "\n",
    "Session = sessionmaker(bind = engine)\n",
    "session = Session()\n",
    "\n",
    "session.add_all([\n",
    "    Student(first_name=\"Cristhian1\", last_name=\"Cueva\", document_type=\"DNI\", document_number=\"712345678\", section=\"A\", score=10),\n",
    "    Student(first_name=\"Cristhian2\", last_name=\"Cueva\", document_type=\"DNI\", document_number=\"812345678\", section=\"B\", score=11),\n",
    "    Student(first_name=\"Cristhian3\", last_name=\"Cueva\", document_type=\"DNI\", document_number=\"912345678\", section=\"C\", score=12),\n",
    "    Student(first_name=\"Cristhian4\", last_name=\"Cueva\", document_type=\"DNI\", document_number=\"012345678\", section=\"D\", score=13),\n",
    "    Student(first_name=\"Cristhian5\", last_name=\"Cueva\", document_type=\"DNI\", document_number=\"112345678\", section=\"A\", score=14),\n",
    "    Student(first_name=\"Cristhian6\", last_name=\"Cueva\", document_type=\"DNI\", document_number=\"212345678\", section=\"B\", score=15),\n",
    "])\n",
    "session.commit()"
   ]
  },
  {
   "cell_type": "code",
   "execution_count": null,
   "id": "b3cf2983",
   "metadata": {},
   "outputs": [],
   "source": [
    "\n",
    "# filtrar los Student cuyo document_type sea DNI, cuyo document_number empiece con 7, \n",
    "# que pertenezcan a la seccion A, y cuyo score sea menor a 11\n",
    "\n",
    "session.query(Student).filter(Student.document_type==\"DNI\", Student.document_number.like(\"7%\"), Student.section == \"A\", Student.score < 11).all()"
   ]
  },
  {
   "cell_type": "markdown",
   "id": "3fdbde5b",
   "metadata": {},
   "source": [
    "## CSV"
   ]
  },
  {
   "cell_type": "code",
   "execution_count": null,
   "id": "acb706a0",
   "metadata": {},
   "outputs": [],
   "source": [
    "import csv\n",
    "\n",
    "with open('./02/birthday.csv') as csv_file:\n",
    "    csv_reader = csv.reader(csv_file, delimiter=\",\")\n",
    "    line_number = 0\n",
    "    for row in csv_reader:\n",
    "        if line_number == 0:\n",
    "            print(\"headers are {}\".format(row))\n",
    "        else:\n",
    "            print(\"{} works in {}, and his birthday is in {}\".format(row[0], row[1], row[2]))\n",
    "        line_number = line_number + 1\n",
    "    print(\"lines found: {}\".format(line_number))"
   ]
  },
  {
   "cell_type": "code",
   "execution_count": null,
   "id": "15151b90",
   "metadata": {},
   "outputs": [],
   "source": [
    "import csv\n",
    "\n",
    "with open('./02/birthday.csv', mode=\"r\") as csv_file:\n",
    "    csv_reader = csv.DictReader(csv_file)\n",
    "    line_number = 0\n",
    "    for row in csv_reader:\n",
    "        if line_number == 0:\n",
    "            print(\"headers are {}\".format(row.keys()))\n",
    "        print(\"{} works in {}, and his birthday is in {}\".format(row[\"name\"], row[\"department\"], row[\"birthday month\"]))\n",
    "        line_number = line_number + 1"
   ]
  },
  {
   "cell_type": "code",
   "execution_count": null,
   "id": "2dbc512e",
   "metadata": {},
   "outputs": [],
   "source": [
    "!pip install pandas"
   ]
  },
  {
   "cell_type": "code",
   "execution_count": null,
   "id": "c8838ed8",
   "metadata": {},
   "outputs": [],
   "source": [
    "import pandas\n",
    "\n",
    "df = pandas.read_csv(\"./02/hrdata.csv\")\n",
    "print(df)"
   ]
  },
  {
   "cell_type": "code",
   "execution_count": null,
   "id": "9682c75c",
   "metadata": {},
   "outputs": [],
   "source": [
    "df = pandas.read_csv(\"./02/hrdata.csv\", parse_dates=[\"Hire Date\"], names=[\"Name\", \"Salary\", \"Hire Date\"])\n",
    "print(df)\n",
    "df.to_csv(\"./02/hrdata_new.csv\")"
   ]
  },
  {
   "cell_type": "markdown",
   "id": "36ae749f",
   "metadata": {},
   "source": [
    "## json"
   ]
  },
  {
   "cell_type": "code",
   "execution_count": 64,
   "id": "24e20823",
   "metadata": {},
   "outputs": [
    {
     "data": {
      "text/plain": [
       "{'name': 'cristhian',\n",
       " 'age': 34,\n",
       " 'courses': [{'id': 'math', 'score': 16}, {'id': 'english', 'score': 18}]}"
      ]
     },
     "execution_count": 64,
     "metadata": {},
     "output_type": "execute_result"
    }
   ],
   "source": [
    "{\n",
    "    \"name\": \"cristhian\",\n",
    "    \"age\": 34,\n",
    "    \"courses\": [{\n",
    "        \"id\": \"math\",\n",
    "        \"score\": 16\n",
    "    }, {\n",
    "        \"id\": \"english\",\n",
    "        \"score\": 18\n",
    "    }]\n",
    "}\n",
    "\n",
    "# name,age\n",
    "# cristhian,34"
   ]
  },
  {
   "cell_type": "code",
   "execution_count": null,
   "id": "cc28fcd2",
   "metadata": {},
   "outputs": [
    {
     "name": "stdout",
     "output_type": "stream",
     "text": [
      "3772\n",
      "{'address': {'building': '1007', 'coord': [-73.856077, 40.848447], 'street': 'Morris Park Ave', 'zipcode': '10462'}, 'borough': 'Bronx', 'cuisine': 'Bakery', 'grades': [{'date': {'$date': 1393804800000}, 'grade': 'A', 'score': 2}, {'date': {'$date': 1378857600000}, 'grade': 'A', 'score': 6}, {'date': {'$date': 1358985600000}, 'grade': 'A', 'score': 10}, {'date': {'$date': 1322006400000}, 'grade': 'A', 'score': 9}, {'date': {'$date': 1299715200000}, 'grade': 'B', 'score': 14}], 'name': 'Morris Park Bake Shop', 'restaurant_id': '30075445'}\n"
     ]
    }
   ],
   "source": [
    "import json\n",
    "\n",
    "with open(\"./02/restaurants.json\", \"r\") as read_file:\n",
    "    data = json.load(read_file)\n",
    "\n",
    "print(len(data))\n",
    "print(data[0])\n"
   ]
  },
  {
   "cell_type": "code",
   "execution_count": 70,
   "id": "5f33d865",
   "metadata": {},
   "outputs": [
    {
     "name": "stdout",
     "output_type": "stream",
     "text": [
      "Collecting requests\n",
      "  Downloading requests-2.32.3-py3-none-any.whl.metadata (4.6 kB)\n",
      "Collecting charset-normalizer<4,>=2 (from requests)\n",
      "  Downloading charset_normalizer-3.4.2-cp311-cp311-manylinux_2_17_x86_64.manylinux2014_x86_64.whl.metadata (35 kB)\n",
      "Collecting idna<4,>=2.5 (from requests)\n",
      "  Downloading idna-3.10-py3-none-any.whl.metadata (10 kB)\n",
      "Collecting urllib3<3,>=1.21.1 (from requests)\n",
      "  Downloading urllib3-2.4.0-py3-none-any.whl.metadata (6.5 kB)\n",
      "Collecting certifi>=2017.4.17 (from requests)\n",
      "  Downloading certifi-2025.4.26-py3-none-any.whl.metadata (2.5 kB)\n",
      "Downloading requests-2.32.3-py3-none-any.whl (64 kB)\n",
      "Downloading charset_normalizer-3.4.2-cp311-cp311-manylinux_2_17_x86_64.manylinux2014_x86_64.whl (147 kB)\n",
      "Downloading idna-3.10-py3-none-any.whl (70 kB)\n",
      "Downloading urllib3-2.4.0-py3-none-any.whl (128 kB)\n",
      "Downloading certifi-2025.4.26-py3-none-any.whl (159 kB)\n",
      "Installing collected packages: urllib3, idna, charset-normalizer, certifi, requests\n",
      "\u001b[2K   \u001b[90m━━━━━━━━━━━━━━━━━━━━━━━━━━━━━━━━━━━━━━━━\u001b[0m \u001b[32m5/5\u001b[0m [requests]4/5\u001b[0m [requests]\n",
      "\u001b[1A\u001b[2KSuccessfully installed certifi-2025.4.26 charset-normalizer-3.4.2 idna-3.10 requests-2.32.3 urllib3-2.4.0\n"
     ]
    }
   ],
   "source": [
    "!pip install requests"
   ]
  },
  {
   "cell_type": "code",
   "execution_count": 82,
   "id": "6238bd4a",
   "metadata": {},
   "outputs": [
    {
     "name": "stdout",
     "output_type": "stream",
     "text": [
      "200\n",
      "{'userId': 1, 'id': 1, 'title': 'delectus aut autem', 'completed': False}\n",
      "{1: 11, 2: 8, 3: 7, 4: 6, 5: 12, 6: 6, 7: 9, 8: 11, 9: 8, 10: 12}\n",
      "5\n"
     ]
    }
   ],
   "source": [
    "import json\n",
    "import requests\n",
    "\n",
    "response = requests.get(\"https://jsonplaceholder.typicode.com/todos\")\n",
    "data = json.loads(response.text)\n",
    "\n",
    "print(len(data))\n",
    "print(data[0])\n",
    "\n",
    "# filtrar los completed basado en el userId\n",
    "# (user_id, completed #)\n",
    "\n",
    "data_for_user_id_by_completed = {}\n",
    "for r in data:\n",
    "    if r[\"completed\"] == True:\n",
    "        if r[\"userId\"] not in data_for_user_id_by_completed:\n",
    "            data_for_user_id_by_completed[r[\"userId\"]] = 0\n",
    "        data_for_user_id_by_completed[r[\"userId\"]] = data_for_user_id_by_completed[r[\"userId\"]] + 1\n",
    "print(data_for_user_id_by_completed)\n",
    "\n",
    "users_top = sorted(data_for_user_id_by_completed.items(), key=lambda x:x[1], reverse=True)\n",
    "print(users_top[0][0])"
   ]
  },
  {
   "cell_type": "code",
   "execution_count": null,
   "id": "d04ee854",
   "metadata": {},
   "outputs": [],
   "source": [
    "# title: \"tempo\"  #  \"tempo\" in title\n",
    "# mostrar, cuantos son"
   ]
  }
 ],
 "metadata": {
  "kernelspec": {
   "display_name": ".venv",
   "language": "python",
   "name": "python3"
  },
  "language_info": {
   "codemirror_mode": {
    "name": "ipython",
    "version": 3
   },
   "file_extension": ".py",
   "mimetype": "text/x-python",
   "name": "python",
   "nbconvert_exporter": "python",
   "pygments_lexer": "ipython3",
   "version": "3.11.2"
  }
 },
 "nbformat": 4,
 "nbformat_minor": 5
}
