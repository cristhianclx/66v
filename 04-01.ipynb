{
 "cells": [
  {
   "cell_type": "markdown",
   "id": "172fa0aa",
   "metadata": {},
   "source": [
    "## titanic"
   ]
  },
  {
   "cell_type": "code",
   "execution_count": null,
   "id": "75bcd067",
   "metadata": {},
   "outputs": [],
   "source": [
    "import pandas as pd\n",
    "\n",
    "data = pd.read_csv('./04/train.csv')\n",
    "data.head()"
   ]
  },
  {
   "cell_type": "code",
   "execution_count": null,
   "id": "a8279fdd",
   "metadata": {},
   "outputs": [],
   "source": [
    "print(data.shape)\n",
    "data.describe()"
   ]
  },
  {
   "cell_type": "code",
   "execution_count": null,
   "id": "ed72bb8e",
   "metadata": {},
   "outputs": [],
   "source": [
    "data['Age'] = data['Age'].fillna(data['Age'].median())\n",
    "data.describe()"
   ]
  },
  {
   "cell_type": "code",
   "execution_count": null,
   "id": "815c0a68",
   "metadata": {},
   "outputs": [],
   "source": [
    "women = data.loc[data.Sex == 'female'][\"Survived\"]\n",
    "rate_women = sum(women)/len(women)\n",
    "\n",
    "print(\"% of women who survived:\", rate_women)\n",
    "\n",
    "men = data.loc[data.Sex == 'male'][\"Survived\"]\n",
    "rate_men = sum(men)/len(men)\n",
    "\n",
    "print(\"% of men who survived:\", rate_men)"
   ]
  },
  {
   "cell_type": "code",
   "execution_count": null,
   "id": "f6c786ce",
   "metadata": {},
   "outputs": [],
   "source": [
    "# data.info()\n",
    "\n",
    "# Survived => RESULT\n",
    "# Input => Survived, Sex, Age, PClass\n",
    "# Columns to delete: PassengerId, Cabin, Name, SibSp, Parch\n",
    "\n",
    "# 891 values, Age => 88 valores\n",
    "data['Age'].nunique()\n",
    "# 891 values, Pclass => 3 valores\n",
    "data['Pclass'].nunique()\n",
    "data['Fare'].describe()\n"
   ]
  },
  {
   "cell_type": "code",
   "execution_count": null,
   "id": "8ffa510d",
   "metadata": {},
   "outputs": [],
   "source": [
    "# PassengerId, Cabin, Name, SibSp, Parch\n",
    "data.drop(labels=['PassengerId', 'Cabin', 'Name', 'SibSp', 'Parch'], inplace=True, axis=1)\n",
    "data"
   ]
  }
 ],
 "metadata": {
  "kernelspec": {
   "display_name": ".venv",
   "language": "python",
   "name": "python3"
  },
  "language_info": {
   "codemirror_mode": {
    "name": "ipython",
    "version": 3
   },
   "file_extension": ".py",
   "mimetype": "text/x-python",
   "name": "python",
   "nbconvert_exporter": "python",
   "pygments_lexer": "ipython3",
   "version": "3.11.2"
  }
 },
 "nbformat": 4,
 "nbformat_minor": 5
}
