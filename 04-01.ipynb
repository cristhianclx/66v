{
 "cells": [
  {
   "cell_type": "markdown",
   "id": "172fa0aa",
   "metadata": {},
   "source": [
    "## titanic"
   ]
  },
  {
   "cell_type": "code",
   "execution_count": null,
   "id": "75bcd067",
   "metadata": {},
   "outputs": [],
   "source": [
    "import pandas as pd\n",
    "\n",
    "# train - 70%\n",
    "# test - 30%\n",
    "\n",
    "data = pd.read_csv('./04/train.csv')\n",
    "data.head()"
   ]
  },
  {
   "cell_type": "code",
   "execution_count": null,
   "id": "a8279fdd",
   "metadata": {},
   "outputs": [],
   "source": [
    "print(data.shape)\n",
    "data.describe()"
   ]
  },
  {
   "cell_type": "code",
   "execution_count": null,
   "id": "1a08eace",
   "metadata": {},
   "outputs": [],
   "source": [
    "data.head()"
   ]
  },
  {
   "cell_type": "code",
   "execution_count": null,
   "id": "ed72bb8e",
   "metadata": {},
   "outputs": [],
   "source": [
    "data['Age'] = data['Age'].fillna(data['Age'].median())\n",
    "data.info()"
   ]
  },
  {
   "cell_type": "code",
   "execution_count": null,
   "id": "4359f870",
   "metadata": {},
   "outputs": [],
   "source": [
    "data[data[\"Survived\"]==1][\"Sex\"].value_counts()"
   ]
  },
  {
   "cell_type": "code",
   "execution_count": null,
   "id": "e601976b",
   "metadata": {},
   "outputs": [],
   "source": [
    "survived_by_class = data[data[\"Survived\"]==1][\"Pclass\"].value_counts()\n",
    "survived_by_class.head()\n",
    "\n",
    "dead_by_class = data[data[\"Survived\"]==0][\"Pclass\"].value_counts()\n",
    "dead_by_class.head()\n",
    "\n",
    "df_by_class = pd.DataFrame([survived_by_class, dead_by_class])\n",
    "df_by_class.index = [\"Survived\", \"Died\"]\n",
    "df_by_class.plot(kind=\"bar\", stacked=True, title=\"Survived/Died by Class\")"
   ]
  },
  {
   "cell_type": "code",
   "execution_count": null,
   "id": "a9c2f47b",
   "metadata": {},
   "outputs": [],
   "source": [
    "survived_by_sex = data[data[\"Survived\"]==1][\"Sex\"].value_counts()\n",
    "survived_by_sex.head()\n",
    "\n",
    "dead_by_sex = data[data[\"Survived\"]==0][\"Sex\"].value_counts()\n",
    "dead_by_sex.head()\n",
    "\n",
    "df_by_sex = pd.DataFrame([survived_by_sex, dead_by_sex])\n",
    "df_by_sex.index = [\"Survived\", \"Died\"]\n",
    "df_by_sex.plot(kind=\"bar\", stacked=True, title=\"Survived/Died by Sex\")"
   ]
  },
  {
   "cell_type": "code",
   "execution_count": null,
   "id": "815c0a68",
   "metadata": {},
   "outputs": [],
   "source": [
    "women = data.loc[data.Sex == 'female'][\"Survived\"]\n",
    "rate_women = sum(women)/len(women)\n",
    "\n",
    "print(\"% of women who survived:\", rate_women)\n",
    "\n",
    "men = data.loc[data.Sex == 'male'][\"Survived\"]\n",
    "rate_men = sum(men)/len(men)\n",
    "\n",
    "print(\"% of men who survived:\", rate_men)"
   ]
  },
  {
   "cell_type": "code",
   "execution_count": null,
   "id": "e4fd0d18",
   "metadata": {},
   "outputs": [],
   "source": [
    "survived_by_embarked = data[data[\"Survived\"]==1][\"Embarked\"].value_counts()\n",
    "survived_by_embarked.head()\n",
    "\n",
    "dead_by_embarked = data[data[\"Survived\"]==0][\"Embarked\"].value_counts()\n",
    "dead_by_embarked.head()\n",
    "\n",
    "df_by_class = pd.DataFrame([survived_by_embarked, dead_by_embarked])\n",
    "df_by_class.index = [\"Survived\", \"Died\"]\n",
    "df_by_class.plot(kind=\"bar\", stacked=True, title=\"Survived/Died by Embarked\")"
   ]
  },
  {
   "cell_type": "code",
   "execution_count": null,
   "id": "a8219b73",
   "metadata": {},
   "outputs": [],
   "source": [
    "survived_by_age = data[data[\"Survived\"]==1][\"Age\"].value_counts()\n",
    "survived_by_age.info()\n",
    "\n",
    "dead_by_age = data[data[\"Survived\"]==0][\"Age\"].value_counts()\n",
    "dead_by_age.head()"
   ]
  },
  {
   "cell_type": "code",
   "execution_count": null,
   "id": "f6c786ce",
   "metadata": {},
   "outputs": [],
   "source": [
    "data.head()\n",
    "\n",
    "# Survived => RESULT\n",
    "# Input => Survived, Sex, Age, PClass, Embarked\n",
    "# Columns to delete: PassengerId, Cabin, Name, SibSp, Parch, Fare\n",
    "\n",
    "# 891 values, Age => 88 valores\n",
    "data['Age'].nunique()\n",
    "# 891 values, Pclass => 3 valores\n",
    "data['Pclass'].nunique()\n",
    "data['Fare'].describe()\n"
   ]
  },
  {
   "cell_type": "markdown",
   "id": "94f70f4e",
   "metadata": {},
   "source": [
    "# cleaning"
   ]
  },
  {
   "cell_type": "code",
   "execution_count": null,
   "id": "8ffa510d",
   "metadata": {},
   "outputs": [],
   "source": [
    "# PassengerId, Cabin, Name, SibSp, Parch, Age\n",
    "data.drop(labels=['PassengerId', 'Cabin', 'Name', 'SibSp', 'Parch', 'Fare', 'Ticket', 'Age'], inplace=True, axis=1)\n",
    "data"
   ]
  },
  {
   "cell_type": "code",
   "execution_count": null,
   "id": "71b09d97",
   "metadata": {},
   "outputs": [],
   "source": [
    "# data = data.dropna(subset=[\"Age\"])"
   ]
  },
  {
   "cell_type": "markdown",
   "id": "5b45c85a",
   "metadata": {},
   "source": [
    "# Y - X"
   ]
  },
  {
   "cell_type": "code",
   "execution_count": null,
   "id": "83c45d12",
   "metadata": {},
   "outputs": [],
   "source": [
    "Y = data.Survived\n",
    "X = data.drop([\"Survived\"], axis=1)"
   ]
  },
  {
   "cell_type": "code",
   "execution_count": null,
   "id": "f9a6d0ff",
   "metadata": {},
   "outputs": [],
   "source": [
    "Y.head()"
   ]
  },
  {
   "cell_type": "code",
   "execution_count": null,
   "id": "ac56eb5c",
   "metadata": {},
   "outputs": [],
   "source": [
    "X.head()"
   ]
  },
  {
   "cell_type": "code",
   "execution_count": null,
   "id": "3dd008e2",
   "metadata": {},
   "outputs": [],
   "source": [
    "!pip install scikit-learn"
   ]
  },
  {
   "cell_type": "code",
   "execution_count": null,
   "id": "168376c7",
   "metadata": {},
   "outputs": [],
   "source": [
    "# encode \"Sex\"\n",
    "\n",
    "from sklearn.preprocessing import LabelEncoder\n",
    "\n",
    "label_encoder_x = LabelEncoder()\n",
    "X.Sex = label_encoder_x.fit_transform(X.Sex)\n",
    "X.head()"
   ]
  },
  {
   "cell_type": "code",
   "execution_count": null,
   "id": "dc43ea0d",
   "metadata": {},
   "outputs": [],
   "source": [
    "# revisar los Embarked con valor nulo\n",
    "sum(X.Embarked.isnull())"
   ]
  },
  {
   "cell_type": "code",
   "execution_count": null,
   "id": "46ee9996",
   "metadata": {},
   "outputs": [],
   "source": [
    "row_with_embarked_null = X.Embarked.isnull()\n",
    "X.loc[row_with_embarked_null, \"Embarked\"] = \"S\""
   ]
  },
  {
   "cell_type": "code",
   "execution_count": null,
   "id": "730d1e70",
   "metadata": {},
   "outputs": [],
   "source": [
    "# encode \"Embarked\"\n",
    "\n",
    "from sklearn.preprocessing import LabelEncoder\n",
    "\n",
    "label_encoder_x = LabelEncoder()\n",
    "X.Embarked = label_encoder_x.fit_transform(X.Embarked)\n",
    "X.head()"
   ]
  },
  {
   "cell_type": "markdown",
   "id": "3a4a9bb9",
   "metadata": {},
   "source": [
    "# model"
   ]
  },
  {
   "cell_type": "code",
   "execution_count": null,
   "id": "f285c892",
   "metadata": {},
   "outputs": [],
   "source": [
    "# logistic regression for our data\n",
    "\n",
    "from sklearn.linear_model import LogisticRegression\n",
    "\n",
    "classifier = LogisticRegression(penalty=\"l2\", random_state=0)\n",
    "\n",
    "# apply k-fold cross validation\n",
    "\n",
    "from sklearn.model_selection import cross_val_score\n",
    "\n",
    "accuracies = cross_val_score(estimator = classifier, X=X, y=Y, cv=10)\n",
    "\n",
    "print(\"Accuracy:\", accuracies.mean())\n",
    "print(\"+/-\", accuracies.std())"
   ]
  },
  {
   "cell_type": "markdown",
   "id": "01201adc",
   "metadata": {},
   "source": [
    "## model 2"
   ]
  },
  {
   "cell_type": "code",
   "execution_count": null,
   "id": "2548cbb2",
   "metadata": {},
   "outputs": [],
   "source": [
    "import pandas as pd\n",
    "\n",
    "data = pd.read_csv('./04/train.csv')\n",
    "data.head()"
   ]
  },
  {
   "cell_type": "code",
   "execution_count": null,
   "id": "6b540355",
   "metadata": {},
   "outputs": [],
   "source": [
    "data.info()"
   ]
  },
  {
   "cell_type": "code",
   "execution_count": null,
   "id": "641348c4",
   "metadata": {},
   "outputs": [],
   "source": [
    "data = data.dropna(subset=[\"Age\"])\n",
    "data.info()"
   ]
  },
  {
   "cell_type": "code",
   "execution_count": null,
   "id": "0e13ad69",
   "metadata": {},
   "outputs": [],
   "source": [
    "def get_age_range(age):\n",
    "    if age < 3:\n",
    "        return \"baby\"\n",
    "    elif age < 12:\n",
    "        return \"child\"\n",
    "    elif age < 30:\n",
    "        return \"young\"\n",
    "    elif age < 60:\n",
    "        return \"adult\"\n",
    "    else:\n",
    "        return \"old\"\n",
    "\n",
    "data[\"age_range\"] = data[\"Age\"].apply(get_age_range)\n",
    "data.info()"
   ]
  },
  {
   "cell_type": "code",
   "execution_count": null,
   "id": "7834de33",
   "metadata": {},
   "outputs": [],
   "source": [
    "data.head()"
   ]
  },
  {
   "cell_type": "code",
   "execution_count": null,
   "id": "a8829edf",
   "metadata": {},
   "outputs": [],
   "source": [
    "data = data.dropna(subset=[\"Cabin\"])\n",
    "data.info()"
   ]
  },
  {
   "cell_type": "code",
   "execution_count": null,
   "id": "2af00fe6",
   "metadata": {},
   "outputs": [],
   "source": [
    "data[\"cabin_type\"] = data[\"Cabin\"].astype(str).str[0]\n",
    "data.info()"
   ]
  },
  {
   "cell_type": "code",
   "execution_count": null,
   "id": "6b50cb29",
   "metadata": {},
   "outputs": [],
   "source": [
    "data.head()"
   ]
  },
  {
   "cell_type": "code",
   "execution_count": null,
   "id": "5a3453bd",
   "metadata": {},
   "outputs": [],
   "source": [
    "data.drop(labels=['PassengerId', 'Name', 'Age', 'Ticket', 'Fare', 'Cabin', 'SibSp', 'Parch'], inplace=True, axis=1)\n"
   ]
  },
  {
   "cell_type": "code",
   "execution_count": null,
   "id": "08d6c6f2",
   "metadata": {},
   "outputs": [],
   "source": [
    "data.head()"
   ]
  },
  {
   "cell_type": "code",
   "execution_count": null,
   "id": "09cd6368",
   "metadata": {},
   "outputs": [],
   "source": [
    "from sklearn.preprocessing import LabelEncoder\n",
    "\n",
    "label_encoder_x = LabelEncoder()\n",
    "data.Sex = label_encoder_x.fit_transform(data.Sex)\n",
    "data.Embarked = label_encoder_x.fit_transform(data.Embarked)\n",
    "data.age_range = label_encoder_x.fit_transform(data.age_range)\n",
    "#data.cabin_type = label_encoder_x.fit_transform(data.cabin_type)\n",
    "data.head()\n"
   ]
  },
  {
   "cell_type": "code",
   "execution_count": null,
   "id": "fa77d563",
   "metadata": {},
   "outputs": [],
   "source": [
    "from sklearn.model_selection import train_test_split\n",
    "\n",
    "target = data.Survived\n",
    "features = data.drop([\"Survived\"], axis=1)\n",
    "\n",
    "x_train, x_test, y_train, y_test = train_test_split(features, target, test_size=0.33, random_state=42)\n"
   ]
  },
  {
   "cell_type": "code",
   "execution_count": null,
   "id": "edb1f575",
   "metadata": {},
   "outputs": [],
   "source": [
    "from sklearn.linear_model import LogisticRegression\n",
    "from sklearn.metrics import confusion_matrix, classification_report\n",
    "\n",
    "reg_log_model = LogisticRegression()\n",
    "reg_log_model.fit(x_train, y_train)\n",
    "reg_log_model_predictions = reg_log_model.predict(x_test)\n",
    "\n",
    "print(confusion_matrix(y_test, reg_log_model_predictions))"
   ]
  },
  {
   "cell_type": "code",
   "execution_count": null,
   "id": "10a2002a",
   "metadata": {},
   "outputs": [],
   "source": [
    "print(classification_report(y_test, reg_log_model_predictions))"
   ]
  }
 ],
 "metadata": {
  "kernelspec": {
   "display_name": ".venv",
   "language": "python",
   "name": "python3"
  },
  "language_info": {
   "codemirror_mode": {
    "name": "ipython",
    "version": 3
   },
   "file_extension": ".py",
   "mimetype": "text/x-python",
   "name": "python",
   "nbconvert_exporter": "python",
   "pygments_lexer": "ipython3",
   "version": "3.11.2"
  }
 },
 "nbformat": 4,
 "nbformat_minor": 5
}
