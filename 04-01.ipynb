{
 "cells": [
  {
   "cell_type": "markdown",
   "id": "172fa0aa",
   "metadata": {},
   "source": [
    "## titanic"
   ]
  },
  {
   "cell_type": "code",
   "execution_count": 1,
   "id": "75bcd067",
   "metadata": {},
   "outputs": [
    {
     "data": {
      "text/html": [
       "<div>\n",
       "<style scoped>\n",
       "    .dataframe tbody tr th:only-of-type {\n",
       "        vertical-align: middle;\n",
       "    }\n",
       "\n",
       "    .dataframe tbody tr th {\n",
       "        vertical-align: top;\n",
       "    }\n",
       "\n",
       "    .dataframe thead th {\n",
       "        text-align: right;\n",
       "    }\n",
       "</style>\n",
       "<table border=\"1\" class=\"dataframe\">\n",
       "  <thead>\n",
       "    <tr style=\"text-align: right;\">\n",
       "      <th></th>\n",
       "      <th>PassengerId</th>\n",
       "      <th>Survived</th>\n",
       "      <th>Pclass</th>\n",
       "      <th>Name</th>\n",
       "      <th>Sex</th>\n",
       "      <th>Age</th>\n",
       "      <th>SibSp</th>\n",
       "      <th>Parch</th>\n",
       "      <th>Ticket</th>\n",
       "      <th>Fare</th>\n",
       "      <th>Cabin</th>\n",
       "      <th>Embarked</th>\n",
       "    </tr>\n",
       "  </thead>\n",
       "  <tbody>\n",
       "    <tr>\n",
       "      <th>0</th>\n",
       "      <td>1</td>\n",
       "      <td>0</td>\n",
       "      <td>3</td>\n",
       "      <td>Braund, Mr. Owen Harris</td>\n",
       "      <td>male</td>\n",
       "      <td>22.0</td>\n",
       "      <td>1</td>\n",
       "      <td>0</td>\n",
       "      <td>A/5 21171</td>\n",
       "      <td>7.2500</td>\n",
       "      <td>NaN</td>\n",
       "      <td>S</td>\n",
       "    </tr>\n",
       "    <tr>\n",
       "      <th>1</th>\n",
       "      <td>2</td>\n",
       "      <td>1</td>\n",
       "      <td>1</td>\n",
       "      <td>Cumings, Mrs. John Bradley (Florence Briggs Th...</td>\n",
       "      <td>female</td>\n",
       "      <td>38.0</td>\n",
       "      <td>1</td>\n",
       "      <td>0</td>\n",
       "      <td>PC 17599</td>\n",
       "      <td>71.2833</td>\n",
       "      <td>C85</td>\n",
       "      <td>C</td>\n",
       "    </tr>\n",
       "    <tr>\n",
       "      <th>2</th>\n",
       "      <td>3</td>\n",
       "      <td>1</td>\n",
       "      <td>3</td>\n",
       "      <td>Heikkinen, Miss. Laina</td>\n",
       "      <td>female</td>\n",
       "      <td>26.0</td>\n",
       "      <td>0</td>\n",
       "      <td>0</td>\n",
       "      <td>STON/O2. 3101282</td>\n",
       "      <td>7.9250</td>\n",
       "      <td>NaN</td>\n",
       "      <td>S</td>\n",
       "    </tr>\n",
       "    <tr>\n",
       "      <th>3</th>\n",
       "      <td>4</td>\n",
       "      <td>1</td>\n",
       "      <td>1</td>\n",
       "      <td>Futrelle, Mrs. Jacques Heath (Lily May Peel)</td>\n",
       "      <td>female</td>\n",
       "      <td>35.0</td>\n",
       "      <td>1</td>\n",
       "      <td>0</td>\n",
       "      <td>113803</td>\n",
       "      <td>53.1000</td>\n",
       "      <td>C123</td>\n",
       "      <td>S</td>\n",
       "    </tr>\n",
       "    <tr>\n",
       "      <th>4</th>\n",
       "      <td>5</td>\n",
       "      <td>0</td>\n",
       "      <td>3</td>\n",
       "      <td>Allen, Mr. William Henry</td>\n",
       "      <td>male</td>\n",
       "      <td>35.0</td>\n",
       "      <td>0</td>\n",
       "      <td>0</td>\n",
       "      <td>373450</td>\n",
       "      <td>8.0500</td>\n",
       "      <td>NaN</td>\n",
       "      <td>S</td>\n",
       "    </tr>\n",
       "  </tbody>\n",
       "</table>\n",
       "</div>"
      ],
      "text/plain": [
       "   PassengerId  Survived  Pclass  \\\n",
       "0            1         0       3   \n",
       "1            2         1       1   \n",
       "2            3         1       3   \n",
       "3            4         1       1   \n",
       "4            5         0       3   \n",
       "\n",
       "                                                Name     Sex   Age  SibSp  \\\n",
       "0                            Braund, Mr. Owen Harris    male  22.0      1   \n",
       "1  Cumings, Mrs. John Bradley (Florence Briggs Th...  female  38.0      1   \n",
       "2                             Heikkinen, Miss. Laina  female  26.0      0   \n",
       "3       Futrelle, Mrs. Jacques Heath (Lily May Peel)  female  35.0      1   \n",
       "4                           Allen, Mr. William Henry    male  35.0      0   \n",
       "\n",
       "   Parch            Ticket     Fare Cabin Embarked  \n",
       "0      0         A/5 21171   7.2500   NaN        S  \n",
       "1      0          PC 17599  71.2833   C85        C  \n",
       "2      0  STON/O2. 3101282   7.9250   NaN        S  \n",
       "3      0            113803  53.1000  C123        S  \n",
       "4      0            373450   8.0500   NaN        S  "
      ]
     },
     "execution_count": 1,
     "metadata": {},
     "output_type": "execute_result"
    }
   ],
   "source": [
    "import pandas as pd\n",
    "\n",
    "# train - 70%\n",
    "# test - 30%\n",
    "\n",
    "data = pd.read_csv('./04/train.csv')\n",
    "data.head()"
   ]
  },
  {
   "cell_type": "code",
   "execution_count": null,
   "id": "a8279fdd",
   "metadata": {},
   "outputs": [],
   "source": [
    "print(data.shape)\n",
    "data.describe()"
   ]
  },
  {
   "cell_type": "code",
   "execution_count": null,
   "id": "1a08eace",
   "metadata": {},
   "outputs": [],
   "source": [
    "data.head()"
   ]
  },
  {
   "cell_type": "code",
   "execution_count": null,
   "id": "ed72bb8e",
   "metadata": {},
   "outputs": [],
   "source": [
    "data['Age'] = data['Age'].fillna(data['Age'].median())\n",
    "data.info()"
   ]
  },
  {
   "cell_type": "code",
   "execution_count": null,
   "id": "4359f870",
   "metadata": {},
   "outputs": [],
   "source": [
    "data[data[\"Survived\"]==1][\"Sex\"].value_counts()"
   ]
  },
  {
   "cell_type": "code",
   "execution_count": null,
   "id": "e601976b",
   "metadata": {},
   "outputs": [],
   "source": [
    "survived_by_class = data[data[\"Survived\"]==1][\"Pclass\"].value_counts()\n",
    "survived_by_class.head()\n",
    "\n",
    "dead_by_class = data[data[\"Survived\"]==0][\"Pclass\"].value_counts()\n",
    "dead_by_class.head()\n",
    "\n",
    "df_by_class = pd.DataFrame([survived_by_class, dead_by_class])\n",
    "df_by_class.index = [\"Survived\", \"Died\"]\n",
    "df_by_class.plot(kind=\"bar\", stacked=True, title=\"Survived/Died by Class\")"
   ]
  },
  {
   "cell_type": "code",
   "execution_count": null,
   "id": "a9c2f47b",
   "metadata": {},
   "outputs": [],
   "source": [
    "survived_by_sex = data[data[\"Survived\"]==1][\"Sex\"].value_counts()\n",
    "survived_by_sex.head()\n",
    "\n",
    "dead_by_sex = data[data[\"Survived\"]==0][\"Sex\"].value_counts()\n",
    "dead_by_sex.head()\n",
    "\n",
    "df_by_sex = pd.DataFrame([survived_by_sex, dead_by_sex])\n",
    "df_by_sex.index = [\"Survived\", \"Died\"]\n",
    "df_by_sex.plot(kind=\"bar\", stacked=True, title=\"Survived/Died by Sex\")"
   ]
  },
  {
   "cell_type": "code",
   "execution_count": null,
   "id": "815c0a68",
   "metadata": {},
   "outputs": [],
   "source": [
    "women = data.loc[data.Sex == 'female'][\"Survived\"]\n",
    "rate_women = sum(women)/len(women)\n",
    "\n",
    "print(\"% of women who survived:\", rate_women)\n",
    "\n",
    "men = data.loc[data.Sex == 'male'][\"Survived\"]\n",
    "rate_men = sum(men)/len(men)\n",
    "\n",
    "print(\"% of men who survived:\", rate_men)"
   ]
  },
  {
   "cell_type": "code",
   "execution_count": null,
   "id": "e4fd0d18",
   "metadata": {},
   "outputs": [],
   "source": [
    "survived_by_embarked = data[data[\"Survived\"]==1][\"Embarked\"].value_counts()\n",
    "survived_by_embarked.head()\n",
    "\n",
    "dead_by_embarked = data[data[\"Survived\"]==0][\"Embarked\"].value_counts()\n",
    "dead_by_embarked.head()\n",
    "\n",
    "df_by_class = pd.DataFrame([survived_by_embarked, dead_by_embarked])\n",
    "df_by_class.index = [\"Survived\", \"Died\"]\n",
    "df_by_class.plot(kind=\"bar\", stacked=True, title=\"Survived/Died by Embarked\")"
   ]
  },
  {
   "cell_type": "code",
   "execution_count": null,
   "id": "a8219b73",
   "metadata": {},
   "outputs": [],
   "source": [
    "survived_by_age = data[data[\"Survived\"]==1][\"Age\"].value_counts()\n",
    "survived_by_age.info()\n",
    "\n",
    "dead_by_age = data[data[\"Survived\"]==0][\"Age\"].value_counts()\n",
    "dead_by_age.head()"
   ]
  },
  {
   "cell_type": "code",
   "execution_count": null,
   "id": "f6c786ce",
   "metadata": {},
   "outputs": [],
   "source": [
    "data.head()\n",
    "\n",
    "# Survived => RESULT\n",
    "# Input => Survived, Sex, Age, PClass, Embarked\n",
    "# Columns to delete: PassengerId, Cabin, Name, SibSp, Parch, Fare\n",
    "\n",
    "# 891 values, Age => 88 valores\n",
    "data['Age'].nunique()\n",
    "# 891 values, Pclass => 3 valores\n",
    "data['Pclass'].nunique()\n",
    "data['Fare'].describe()\n"
   ]
  },
  {
   "cell_type": "markdown",
   "id": "94f70f4e",
   "metadata": {},
   "source": [
    "# cleaning"
   ]
  },
  {
   "cell_type": "code",
   "execution_count": null,
   "id": "8ffa510d",
   "metadata": {},
   "outputs": [],
   "source": [
    "# PassengerId, Cabin, Name, SibSp, Parch, Age\n",
    "data.drop(labels=['PassengerId', 'Cabin', 'Name', 'SibSp', 'Parch', 'Fare', 'Ticket', 'Age'], inplace=True, axis=1)\n",
    "data"
   ]
  },
  {
   "cell_type": "code",
   "execution_count": null,
   "id": "71b09d97",
   "metadata": {},
   "outputs": [],
   "source": [
    "data = data.dropna(subset=[\"Age\"])"
   ]
  },
  {
   "cell_type": "markdown",
   "id": "5b45c85a",
   "metadata": {},
   "source": [
    "# Y - X"
   ]
  },
  {
   "cell_type": "code",
   "execution_count": null,
   "id": "83c45d12",
   "metadata": {},
   "outputs": [],
   "source": [
    "Y = data.Survived\n",
    "X = data.drop([\"Survived\"], axis=1)"
   ]
  },
  {
   "cell_type": "code",
   "execution_count": null,
   "id": "f9a6d0ff",
   "metadata": {},
   "outputs": [],
   "source": [
    "Y.head()"
   ]
  },
  {
   "cell_type": "code",
   "execution_count": null,
   "id": "ac56eb5c",
   "metadata": {},
   "outputs": [],
   "source": [
    "X.head()"
   ]
  },
  {
   "cell_type": "code",
   "execution_count": null,
   "id": "3dd008e2",
   "metadata": {},
   "outputs": [],
   "source": [
    "!pip install scikit-learn"
   ]
  },
  {
   "cell_type": "code",
   "execution_count": null,
   "id": "168376c7",
   "metadata": {},
   "outputs": [],
   "source": [
    "# encode \"Sex\"\n",
    "\n",
    "from sklearn.preprocessing import LabelEncoder\n",
    "\n",
    "label_encoder_x = LabelEncoder()\n",
    "X.Sex = label_encoder_x.fit_transform(X.Sex)\n",
    "X.head()"
   ]
  },
  {
   "cell_type": "code",
   "execution_count": null,
   "id": "dc43ea0d",
   "metadata": {},
   "outputs": [],
   "source": [
    "# revisar los Embarked con valor nulo\n",
    "sum(X.Embarked.isnull())"
   ]
  },
  {
   "cell_type": "code",
   "execution_count": null,
   "id": "46ee9996",
   "metadata": {},
   "outputs": [],
   "source": [
    "row_with_embarked_null = X.Embarked.isnull()\n",
    "X.loc[row_with_embarked_null, \"Embarked\"] = \"S\""
   ]
  },
  {
   "cell_type": "code",
   "execution_count": null,
   "id": "730d1e70",
   "metadata": {},
   "outputs": [],
   "source": [
    "# encode \"Embarked\"\n",
    "\n",
    "from sklearn.preprocessing import LabelEncoder\n",
    "\n",
    "label_encoder_x = LabelEncoder()\n",
    "X.Embarked = label_encoder_x.fit_transform(X.Embarked)\n",
    "X.head()"
   ]
  },
  {
   "cell_type": "markdown",
   "id": "3a4a9bb9",
   "metadata": {},
   "source": [
    "# model"
   ]
  },
  {
   "cell_type": "code",
   "execution_count": null,
   "id": "f285c892",
   "metadata": {},
   "outputs": [],
   "source": [
    "# logistic regression for our data\n",
    "\n",
    "from sklearn.linear_model import LogisticRegression\n",
    "\n",
    "classifier = LogisticRegression(penalty=\"l2\", random_state=0)\n",
    "\n",
    "# apply k-fold cross validation\n",
    "\n",
    "from sklearn.model_selection import cross_val_score\n",
    "\n",
    "accuracies = cross_val_score(estimator = classifier, X=X, y=Y, cv=10)\n",
    "\n",
    "print(\"Accuracy:\", accuracies.mean())\n",
    "print(\"+/-\", accuracies.std())"
   ]
  },
  {
   "cell_type": "code",
   "execution_count": null,
   "id": "edb1f575",
   "metadata": {},
   "outputs": [],
   "source": [
    "# rehacer el modelo del titanic, usando lo que ya aprendimos\n",
    "# Sugerencia\n",
    "#    Age -> age_range: baby, child, young, adult, old\n",
    "#    CabinType -> C...\n",
    "#    ....\n",
    "\n",
    "# classification_matrix"
   ]
  }
 ],
 "metadata": {
  "kernelspec": {
   "display_name": ".venv",
   "language": "python",
   "name": "python3"
  },
  "language_info": {
   "codemirror_mode": {
    "name": "ipython",
    "version": 3
   },
   "file_extension": ".py",
   "mimetype": "text/x-python",
   "name": "python",
   "nbconvert_exporter": "python",
   "pygments_lexer": "ipython3",
   "version": "3.11.2"
  }
 },
 "nbformat": 4,
 "nbformat_minor": 5
}
