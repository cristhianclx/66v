{
 "cells": [
  {
   "cell_type": "markdown",
   "id": "7b06cff2",
   "metadata": {},
   "source": [
    "## Overview\n",
    "\n",
    "Welcome to the **Software Engineer (ML & LLMs)** Application Challenge.\n",
    "In this, you will have the opportunity to get closer to a part of the reality of the role, and demonstrate your skills and knowledge in machine learning and cloud.\n",
    "\n",
    "## Problem\n",
    "\n",
    "Predict the probability of **delay** for a flight taking off or landing at SCL airport.\n",
    "\n",
    "|Column|Description|\n",
    "|-----|-----------|\n",
    "|`Fecha-I`|Scheduled date and time of the flight.|\n",
    "|`Vlo-I`|Scheduled flight number.|\n",
    "|`Ori-I`|Programmed origin city code.|\n",
    "|`Des-I`|Programmed destination city code.|\n",
    "|`Emp-I`|Scheduled flight airline code.|\n",
    "|`Fecha-O`|Date and time of flight operation.|\n",
    "|`Vlo-O`|Flight operation number of the flight.|\n",
    "|`Ori-O`|Operation origin city code.|\n",
    "|`Des-O`|Operation destination city code.|\n",
    "|`Emp-O`|Airline code of the operated flight.|\n",
    "|`DIA`|Day of the month of flight operation.|\n",
    "|`MES`|Number of the month of operation of the flight.|\n",
    "|`AÑO`|Year of flight operation.|\n",
    "|`DIANOM`|Day of the week of flight operation.|\n",
    "|`TIPOVUELO`|Type of flight, I =International, N =National.|\n",
    "|`OPERA`|Name of the airline that operates.|\n",
    "|`SIGLAORI`|Name city of origin.|\n",
    "|`SIGLADES`|Destination city name.|\n",
    "\n",
    "|Column|Description|\n",
    "|-----|-----------|\n",
    "|`high_season`|1 if `Date-I` is between Dec-15 and Mar-3, or Jul-15 and Jul-31, or Sep-11 and Sep-30, 0 otherwise.|\n",
    "|`min_diff`|difference in minutes between `Date-O` and `Date-I`|\n",
    "|`period_day`|morning (between 5:00 and 11:59), afternoon (between 12:00 and 18:59) and night (between 19:00 and 4:59), based on `Date-I`.|\n",
    "|`delay`|1 if `min_diff` > 15, 0 if not.|"
   ]
  },
  {
   "cell_type": "code",
   "execution_count": null,
   "id": "58acc055",
   "metadata": {},
   "outputs": [],
   "source": [
    "import pandas as pd\n",
    "\n",
    "data = pd.read_csv('./04/flights.csv')\n",
    "data.info()"
   ]
  },
  {
   "cell_type": "code",
   "execution_count": null,
   "id": "e9f40dbc",
   "metadata": {},
   "outputs": [],
   "source": [
    "# `min_diff`|difference in minutes between `Date-O` and `Date-I`|\n",
    "\n",
    "from datetime import datetime\n",
    "\n",
    "def get_min_diff(data):\n",
    "    # 2017-01-01 23:30:00\n",
    "    fecha_o = datetime.strptime(data[\"Fecha-O\"], \"%Y-%m-%d %H:%M:%S\")\n",
    "    fecha_i = datetime.strptime(data[\"Fecha-I\"], \"%Y-%m-%d %H:%M:%S\")\n",
    "    min_diff = (fecha_o - fecha_i).total_seconds() / 60\n",
    "    return min_diff\n",
    "\n",
    "data[\"min_diff\"] = data.apply(get_min_diff, axis=1)"
   ]
  },
  {
   "cell_type": "code",
   "execution_count": null,
   "id": "59cb6294",
   "metadata": {},
   "outputs": [],
   "source": [
    "data.head()"
   ]
  },
  {
   "cell_type": "code",
   "execution_count": null,
   "id": "02d8c1ce",
   "metadata": {},
   "outputs": [],
   "source": [
    "import numpy as np\n",
    "\n",
    "data[\"delay\"] = np.where(data[\"min_diff\"] > 15, 1, 0)"
   ]
  },
  {
   "cell_type": "code",
   "execution_count": null,
   "id": "afbfcdaf",
   "metadata": {},
   "outputs": [],
   "source": [
    "data.head()"
   ]
  },
  {
   "cell_type": "code",
   "execution_count": null,
   "id": "3a719a2d",
   "metadata": {},
   "outputs": [],
   "source": [
    "data['delay'].value_counts()"
   ]
  },
  {
   "cell_type": "code",
   "execution_count": null,
   "id": "4bf564f0",
   "metadata": {},
   "outputs": [],
   "source": [
    "opera_by_delay = data[data[\"delay\"]==1][\"OPERA\"].value_counts()\n",
    "opera_by_delay.head()\n",
    "\n",
    "opera_by_not_delay = data[data[\"delay\"]==0][\"OPERA\"].value_counts()\n",
    "opera_by_not_delay.head()\n",
    "\n",
    "df_by_opera = pd.DataFrame([opera_by_delay, opera_by_not_delay])\n",
    "df_by_opera.index = [\"Delay\", \"No Delay\"]\n",
    "df_by_opera.plot(kind=\"bar\", stacked=True, title=\"Delay/NoDelay by OPERA\")"
   ]
  },
  {
   "cell_type": "code",
   "execution_count": null,
   "id": "bec4ec04",
   "metadata": {},
   "outputs": [],
   "source": [
    "data[\"OPERA\"].value_counts()"
   ]
  },
  {
   "cell_type": "code",
   "execution_count": null,
   "id": "d98e597e",
   "metadata": {},
   "outputs": [],
   "source": [
    "data[\"DIA\"].value_counts()"
   ]
  },
  {
   "cell_type": "code",
   "execution_count": null,
   "id": "90fb5241",
   "metadata": {},
   "outputs": [],
   "source": [
    "data[\"MES\"].value_counts()"
   ]
  },
  {
   "cell_type": "code",
   "execution_count": null,
   "id": "36bb4fff",
   "metadata": {},
   "outputs": [],
   "source": [
    "data[\"TIPOVUELO\"].value_counts()"
   ]
  },
  {
   "cell_type": "code",
   "execution_count": null,
   "id": "8466338c",
   "metadata": {},
   "outputs": [],
   "source": [
    "tipo_vuelo_by_delay = data[data[\"delay\"]==1][\"TIPOVUELO\"].value_counts()\n",
    "tipo_vuelo_by_delay.head()\n",
    "\n",
    "tipo_vuelo_by_not_delay = data[data[\"delay\"]==0][\"TIPOVUELO\"].value_counts()\n",
    "tipo_vuelo_by_not_delay.head()\n",
    "\n",
    "df_by_tipo_vuelo = pd.DataFrame([tipo_vuelo_by_delay, tipo_vuelo_by_not_delay])\n",
    "df_by_tipo_vuelo.index = [\"Delay\", \"No Delay\"]\n",
    "df_by_tipo_vuelo.plot(kind=\"bar\", stacked=True, title=\"Delay/NoDelay by TipoVuelo\")"
   ]
  },
  {
   "cell_type": "code",
   "execution_count": null,
   "id": "c141e568",
   "metadata": {},
   "outputs": [],
   "source": [
    "!pip install seaborn"
   ]
  },
  {
   "cell_type": "code",
   "execution_count": null,
   "id": "57d443ec",
   "metadata": {},
   "outputs": [],
   "source": [
    "import matplotlib.pyplot as plt\n",
    "import seaborn as sns\n",
    "\n",
    "flights_delayed_by_destination = data[data[\"delay\"]==1][\"SIGLADES\"].value_counts()\n",
    "plt.figure(figsize = (10, 2))\n",
    "sns.set(style=\"darkgrid\")\n",
    "sns.barplot(x=flights_delayed_by_destination.index, y = flights_delayed_by_destination.values)\n",
    "plt.title(\"Flights delayed by destination\")\n",
    "plt.xticks(rotation = 90)\n",
    "plt.show()\n"
   ]
  },
  {
   "cell_type": "code",
   "execution_count": null,
   "id": "4604a611",
   "metadata": {},
   "outputs": [],
   "source": [
    "# |`period_day`|\n",
    "# morning (between 5:00 and 11:59)\n",
    "# afternoon (between 12:00 and 18:59)\n",
    "# night (between 19:00 and 4:59), based on `Date-I`.|\n",
    "\n",
    "from datetime import datetime\n",
    "\n",
    "def get_period_day(date):\n",
    "    date_time = datetime.strptime(date, \"%Y-%m-%d %H:%M:%S\").time()\n",
    "    morning_min = datetime.strptime(\"05:00\", \"%H:%M\").time()\n",
    "    morning_max = datetime.strptime(\"11:59\", \"%H:%M\").time()\n",
    "    afternoon_min = datetime.strptime(\"12:00\", \"%H:%M\").time()\n",
    "    afternoon_max = datetime.strptime(\"18:59\", \"%H:%M\").time()\n",
    "    evening_min = datetime.strptime(\"19:00\", \"%H:%M\").time()\n",
    "    evening_max = datetime.strptime(\"23:59\", \"%H:%M\").time()\n",
    "    night_min = datetime.strptime(\"00:00\", \"%H:%M\").time()\n",
    "    night_max = datetime.strptime(\"04:59\", \"%H:%M\").time()\n",
    "    if date_time > morning_min and date_time < morning_max:\n",
    "        return \"morning\"\n",
    "    elif date_time > afternoon_min and date_time < afternoon_max:\n",
    "        return \"afternoon\"\n",
    "    elif (\n",
    "        (date_time > evening_min and date_time < evening_max) or\n",
    "        (date_time > night_min and date_time < night_max)\n",
    "    ):\n",
    "        return \"night\"\n",
    "\n",
    "\n",
    "data[\"period_day\"] = data[\"Fecha-I\"].apply(get_period_day)"
   ]
  },
  {
   "cell_type": "code",
   "execution_count": null,
   "id": "375b56af",
   "metadata": {},
   "outputs": [],
   "source": [
    "data.head()"
   ]
  },
  {
   "cell_type": "code",
   "execution_count": null,
   "id": "1f7442ef",
   "metadata": {},
   "outputs": [],
   "source": [
    "period_day_by_delay = data[data[\"delay\"]==1][\"period_day\"].value_counts()\n",
    "period_day_by_delay.head()\n",
    "\n",
    "period_day_by_not_delay = data[data[\"delay\"]==0][\"period_day\"].value_counts()\n",
    "period_day_by_not_delay.head()\n",
    "\n",
    "df_by_period_day = pd.DataFrame([period_day_by_delay, period_day_by_not_delay])\n",
    "df_by_period_day.index = [\"Delay\", \"No Delay\"]\n",
    "df_by_period_day.plot(kind=\"bar\", stacked=True, title=\"Delay/NoDelay by period_day\")"
   ]
  },
  {
   "cell_type": "code",
   "execution_count": null,
   "id": "44159997",
   "metadata": {},
   "outputs": [],
   "source": [
    "# |`high_season`|\n",
    "# 1 if `Date-I` is between Dec-15 and Mar-3\n",
    "# or Jul-15 and Jul-31\n",
    "# or Sep-11 and Sep-30\n",
    "# 0 otherwise.|\n",
    "\n",
    "from datetime import datetime\n",
    "\n",
    "def is_high_season(fecha_raw):\n",
    "    fecha = datetime.strptime(fecha_raw, \"%Y-%m-%d %H:%M:%S\")\n",
    "    fecha_year = fecha.year\n",
    "    range_1_min = datetime.strptime(\"15-Dec\", \"%d-%b\").replace(year = fecha_year)\n",
    "    range_1_max = datetime.strptime(\"31-Dec\", \"%d-%b\").replace(year = fecha_year)\n",
    "    range_2_min = datetime.strptime(\"1-Jan\", \"%d-%b\").replace(year = fecha_year)\n",
    "    range_2_max = datetime.strptime(\"3-Mar\", \"%d-%b\").replace(year = fecha_year)\n",
    "    range_3_min = datetime.strptime(\"15-Jul\", \"%d-%b\").replace(year = fecha_year)\n",
    "    range_3_max = datetime.strptime(\"31-Jul\", \"%d-%b\").replace(year = fecha_year)\n",
    "    range_4_min = datetime.strptime(\"11-Sep\", \"%d-%b\").replace(year = fecha_year)\n",
    "    range_4_max = datetime.strptime(\"30-Sep\", \"%d-%b\").replace(year = fecha_year)\n",
    "    if (\n",
    "        (fecha >= range_1_min and fecha <= range_1_max) or\n",
    "        (fecha >= range_2_min and fecha <= range_2_max) or\n",
    "        (fecha >= range_3_min and fecha <= range_3_max) or\n",
    "        (fecha >= range_4_min and fecha <= range_4_max)\n",
    "    ):\n",
    "        return 1\n",
    "    return 0\n",
    "\n",
    "data[\"high_season\"] = data[\"Fecha-I\"].apply(is_high_season)"
   ]
  },
  {
   "cell_type": "code",
   "execution_count": null,
   "id": "92265746",
   "metadata": {},
   "outputs": [],
   "source": [
    "data.head()"
   ]
  },
  {
   "cell_type": "code",
   "execution_count": null,
   "id": "1f98c3a8",
   "metadata": {},
   "outputs": [],
   "source": [
    "high_season_by_delay = data[data[\"delay\"]==1][\"high_season\"].value_counts()\n",
    "high_season_by_not_delay = data[data[\"delay\"]==0][\"high_season\"].value_counts()\n",
    "\n",
    "df_by_high_season = pd.DataFrame([high_season_by_delay, high_season_by_not_delay])\n",
    "df_by_high_season.index = [\"Delay\", \"No Delay\"]\n",
    "df_by_high_season.plot(kind=\"bar\", stacked=True, title=\"Delay/NoDelay by high season\")"
   ]
  },
  {
   "cell_type": "code",
   "execution_count": null,
   "id": "4f2d55e9",
   "metadata": {},
   "outputs": [],
   "source": [
    "dia_nombre_by_delay = data[data[\"delay\"]==1][\"DIANOM\"].value_counts()\n",
    "dia_nombre_by_not_delay = data[data[\"delay\"]==0][\"DIANOM\"].value_counts()\n",
    "\n",
    "df_by_dia_nombre = pd.DataFrame([dia_nombre_by_delay, dia_nombre_by_not_delay])\n",
    "df_by_dia_nombre.index = [\"Delay\", \"No Delay\"]\n",
    "df_by_dia_nombre.plot(kind=\"bar\", stacked=True, title=\"Delay/NoDelay by DiaNombre\")"
   ]
  },
  {
   "cell_type": "code",
   "execution_count": null,
   "id": "345abeec",
   "metadata": {},
   "outputs": [],
   "source": [
    "data.info()"
   ]
  },
  {
   "cell_type": "code",
   "execution_count": null,
   "id": "f6db96cc",
   "metadata": {},
   "outputs": [],
   "source": [
    "data.to_csv('./04/flights-with-delay.csv')"
   ]
  },
  {
   "cell_type": "code",
   "execution_count": null,
   "id": "b2daf033",
   "metadata": {},
   "outputs": [],
   "source": [
    "data[\"SIGLAORI\"].nunique() # delete"
   ]
  }
 ],
 "metadata": {
  "kernelspec": {
   "display_name": ".venv",
   "language": "python",
   "name": "python3"
  },
  "language_info": {
   "codemirror_mode": {
    "name": "ipython",
    "version": 3
   },
   "file_extension": ".py",
   "mimetype": "text/x-python",
   "name": "python",
   "nbconvert_exporter": "python",
   "pygments_lexer": "ipython3",
   "version": "3.11.2"
  }
 },
 "nbformat": 4,
 "nbformat_minor": 5
}
