{
 "cells": [
  {
   "cell_type": "markdown",
   "id": "bbef8397",
   "metadata": {},
   "source": [
    "## nba"
   ]
  },
  {
   "cell_type": "code",
   "execution_count": null,
   "id": "aab84659",
   "metadata": {},
   "outputs": [],
   "source": [
    "import pandas as pd\n",
    "\n",
    "data = pd.read_csv('./04/nba_all_elo.csv')\n",
    "data.head()"
   ]
  },
  {
   "cell_type": "code",
   "execution_count": null,
   "id": "3b7e5434",
   "metadata": {},
   "outputs": [],
   "source": [
    "data.shape"
   ]
  },
  {
   "cell_type": "code",
   "execution_count": null,
   "id": "f50ea165",
   "metadata": {},
   "outputs": [],
   "source": [
    "data.info()"
   ]
  },
  {
   "cell_type": "code",
   "execution_count": null,
   "id": "01237abc",
   "metadata": {},
   "outputs": [],
   "source": [
    "data.describe()"
   ]
  },
  {
   "cell_type": "code",
   "execution_count": null,
   "id": "f6efba01",
   "metadata": {},
   "outputs": [],
   "source": [
    "data[\"lg_id\"].value_counts()"
   ]
  },
  {
   "cell_type": "code",
   "execution_count": null,
   "id": "41705033",
   "metadata": {},
   "outputs": [],
   "source": [
    "data[\"team_id\"].value_counts()"
   ]
  },
  {
   "cell_type": "code",
   "execution_count": null,
   "id": "1316cb78",
   "metadata": {},
   "outputs": [],
   "source": [
    "data[\"fran_id\"].value_counts()"
   ]
  },
  {
   "cell_type": "code",
   "execution_count": null,
   "id": "8e1f4e66",
   "metadata": {},
   "outputs": [],
   "source": [
    "data.loc[data[\"fran_id\"] == \"Lakers\", \"team_id\"].value_counts()"
   ]
  },
  {
   "cell_type": "code",
   "execution_count": null,
   "id": "2b63f2ab",
   "metadata": {},
   "outputs": [],
   "source": [
    "data.loc[data[\"team_id\"] == \"MNL\", \"year_id\"].max()"
   ]
  },
  {
   "cell_type": "code",
   "execution_count": null,
   "id": "b1cc8099",
   "metadata": {},
   "outputs": [],
   "source": [
    "data_for_huskies = data[data[\"fran_id\"] == \"Huskies\"]\n",
    "data_for_huskies.loc[data_for_huskies[\"year_id\"] == 1947, \"pts\"].sum()"
   ]
  },
  {
   "cell_type": "code",
   "execution_count": null,
   "id": "830ee199",
   "metadata": {},
   "outputs": [],
   "source": [
    "data_for_huskies.axes"
   ]
  },
  {
   "cell_type": "markdown",
   "id": "0ab3a4fb",
   "metadata": {},
   "source": [
    "## loc / iloc"
   ]
  },
  {
   "cell_type": "code",
   "execution_count": null,
   "id": "90a5d907",
   "metadata": {},
   "outputs": [],
   "source": [
    "vocals = pd.Series([\"a\", \"b\", \"c\", \"d\", \"e\"], index=[1, 3, 5, 7, 9])\n",
    "print(vocals)"
   ]
  },
  {
   "cell_type": "code",
   "execution_count": null,
   "id": "0cd13a87",
   "metadata": {},
   "outputs": [],
   "source": [
    "vocals.loc[5]"
   ]
  },
  {
   "cell_type": "code",
   "execution_count": null,
   "id": "b002d197",
   "metadata": {},
   "outputs": [],
   "source": [
    "vocals.iloc[2]"
   ]
  },
  {
   "cell_type": "code",
   "execution_count": null,
   "id": "6f3cb7ad",
   "metadata": {},
   "outputs": [],
   "source": [
    "data.iloc[-1]"
   ]
  },
  {
   "cell_type": "code",
   "execution_count": null,
   "id": "4c834e69",
   "metadata": {},
   "outputs": [],
   "source": [
    "data.loc[1000:1005, [\"fran_id\", \"team_id\"]]"
   ]
  },
  {
   "cell_type": "code",
   "execution_count": null,
   "id": "db4db1d0",
   "metadata": {},
   "outputs": [],
   "source": [
    "data_after_2012 = data[data[\"year_id\"] > 2012]\n",
    "data_after_2012.shape"
   ]
  },
  {
   "cell_type": "code",
   "execution_count": null,
   "id": "995bd4bf",
   "metadata": {},
   "outputs": [],
   "source": [
    "data_with_notes = data[data[\"notes\"].notnull()]\n",
    "data_with_notes.shape"
   ]
  },
  {
   "cell_type": "code",
   "execution_count": null,
   "id": "cd7b9955",
   "metadata": {},
   "outputs": [],
   "source": [
    "# game_id termina en CLE, cuantos son\n",
    "\n",
    "data_game_id_ends_in_CLE = data[data[\"game_id\"].str.endswith(\"CLE\")]\n",
    "data_game_id_ends_in_CLE.shape"
   ]
  },
  {
   "cell_type": "code",
   "execution_count": null,
   "id": "ebf0cfa1",
   "metadata": {},
   "outputs": [],
   "source": [
    "data[\n",
    "    (data[\"pts\"] > 100) &\n",
    "    (data[\"fran_id\"] == \"Lakers\") & \n",
    "    (data[\"_iscopy\"] == 0)\n",
    "]"
   ]
  },
  {
   "cell_type": "code",
   "execution_count": null,
   "id": "4ad5ab82",
   "metadata": {},
   "outputs": [],
   "source": [
    "data[\"pts\"].min()"
   ]
  },
  {
   "cell_type": "code",
   "execution_count": null,
   "id": "939d26fd",
   "metadata": {},
   "outputs": [],
   "source": [
    "data.groupby(\"fran_id\", sort=True)[\"pts\"].sum()"
   ]
  },
  {
   "cell_type": "code",
   "execution_count": null,
   "id": "e29252c1",
   "metadata": {},
   "outputs": [],
   "source": [
    "data_2 = data.copy()\n",
    "data_2.shape"
   ]
  },
  {
   "cell_type": "code",
   "execution_count": null,
   "id": "0deeeab3",
   "metadata": {},
   "outputs": [],
   "source": [
    "data[\"difference_in_points\"] = data.pts - data.opp_pts"
   ]
  },
  {
   "cell_type": "code",
   "execution_count": null,
   "id": "89c21f4c",
   "metadata": {},
   "outputs": [],
   "source": [
    "data.difference_in_points.head()"
   ]
  },
  {
   "cell_type": "code",
   "execution_count": null,
   "id": "3f845cf9",
   "metadata": {},
   "outputs": [],
   "source": [
    "data_with_better_names = data.rename(\n",
    "    columns = {\n",
    "        \"game_result\": \"result\",\n",
    "        \"game_location\": \"location\",\n",
    "    }\n",
    ")"
   ]
  },
  {
   "cell_type": "code",
   "execution_count": null,
   "id": "51faee5c",
   "metadata": {},
   "outputs": [],
   "source": [
    "data_with_better_names.info()"
   ]
  },
  {
   "cell_type": "code",
   "execution_count": null,
   "id": "87e521ee",
   "metadata": {},
   "outputs": [],
   "source": [
    "data_without_missing_data = data.dropna()"
   ]
  },
  {
   "cell_type": "code",
   "execution_count": null,
   "id": "42d479af",
   "metadata": {},
   "outputs": [],
   "source": [
    "data_without_missing_data.shape"
   ]
  },
  {
   "cell_type": "code",
   "execution_count": null,
   "id": "6a29952e",
   "metadata": {},
   "outputs": [],
   "source": [
    "data_with_default_values = data.copy()\n",
    "data_with_default_values[\"notes\"].fillna(value=\"NO DATA\", inplace=True)"
   ]
  },
  {
   "cell_type": "code",
   "execution_count": null,
   "id": "92116187",
   "metadata": {},
   "outputs": [],
   "source": [
    "data_with_default_values[\"notes\"].describe()"
   ]
  },
  {
   "cell_type": "code",
   "execution_count": null,
   "id": "2fd998c3",
   "metadata": {},
   "outputs": [],
   "source": [
    "%matplotlib inline\n",
    "data[data[\"fran_id\"] == \"Lakers\"].groupby(\"year_id\")[\"pts\"].sum().plot()"
   ]
  },
  {
   "cell_type": "code",
   "execution_count": null,
   "id": "79f294c2",
   "metadata": {},
   "outputs": [],
   "source": [
    "%matplotlib inline\n",
    "data[data[\"fran_id\"] == \"Lakers\"].groupby(\"year_id\")[\"pts\"].sum().plot(kind=\"bar\")"
   ]
  },
  {
   "cell_type": "markdown",
   "id": "5ce33f51",
   "metadata": {},
   "source": [
    "## model"
   ]
  },
  {
   "cell_type": "code",
   "execution_count": null,
   "id": "f95191e5",
   "metadata": {},
   "outputs": [],
   "source": [
    "import pandas as pd\n",
    "\n",
    "data = pd.read_csv('./04/nba_all_elo.csv')\n",
    "data.head()"
   ]
  },
  {
   "cell_type": "code",
   "execution_count": null,
   "id": "4106c09e",
   "metadata": {},
   "outputs": [],
   "source": [
    "data.info()"
   ]
  },
  {
   "cell_type": "code",
   "execution_count": null,
   "id": "194ad2db",
   "metadata": {},
   "outputs": [],
   "source": [
    "data = data.drop(columns=['notes'])\n",
    "data.info()"
   ]
  },
  {
   "cell_type": "code",
   "execution_count": null,
   "id": "eed2f3c3",
   "metadata": {},
   "outputs": [],
   "source": [
    "data = data.drop(columns=['gameorder', 'game_id'])\n",
    "data.info()"
   ]
  },
  {
   "cell_type": "code",
   "execution_count": null,
   "id": "ff44161c",
   "metadata": {},
   "outputs": [],
   "source": [
    "data[\"lg_id\"].value_counts()"
   ]
  },
  {
   "cell_type": "code",
   "execution_count": null,
   "id": "c759dd16",
   "metadata": {},
   "outputs": [],
   "source": [
    "data = data.drop(columns=['_iscopy', 'seasongame', 'fran_id', 'opp_fran'])\n",
    "data.info()"
   ]
  },
  {
   "cell_type": "code",
   "execution_count": null,
   "id": "c3f58992",
   "metadata": {},
   "outputs": [],
   "source": [
    "data = data.drop(columns=['year_id'])\n",
    "data.info()"
   ]
  },
  {
   "cell_type": "code",
   "execution_count": null,
   "id": "e6b0d173",
   "metadata": {},
   "outputs": [],
   "source": [
    "data['date_game'] = pd.to_datetime(data['date_game'])"
   ]
  },
  {
   "cell_type": "code",
   "execution_count": null,
   "id": "54722300",
   "metadata": {},
   "outputs": [],
   "source": [
    "data.info()"
   ]
  },
  {
   "cell_type": "code",
   "execution_count": null,
   "id": "8da25661",
   "metadata": {},
   "outputs": [],
   "source": [
    "print(data.select_dtypes(include=\"object\").columns)"
   ]
  },
  {
   "cell_type": "code",
   "execution_count": null,
   "id": "37785c7f",
   "metadata": {},
   "outputs": [],
   "source": [
    "data['lg_id'].value_counts()"
   ]
  },
  {
   "cell_type": "code",
   "execution_count": null,
   "id": "1ac9d67d",
   "metadata": {},
   "outputs": [],
   "source": [
    "from sklearn.preprocessing import LabelEncoder\n",
    "\n",
    "label_encoder = LabelEncoder()\n",
    "\n",
    "for x in ['lg_id', 'game_location', 'game_result']:\n",
    "    data[x] = label_encoder.fit_transform(data[x].astype(str))"
   ]
  },
  {
   "cell_type": "code",
   "execution_count": null,
   "id": "6e259402",
   "metadata": {},
   "outputs": [],
   "source": [
    "data.info()"
   ]
  },
  {
   "cell_type": "code",
   "execution_count": null,
   "id": "86c725bc",
   "metadata": {},
   "outputs": [],
   "source": [
    "print(data.select_dtypes(include=\"object\").columns)"
   ]
  },
  {
   "cell_type": "code",
   "execution_count": null,
   "id": "b0ae6c45",
   "metadata": {},
   "outputs": [],
   "source": [
    "# data = pd.get_dummies(data, columns=['team_id', 'opp_id'], drop_first=True)\n",
    "# data.head()"
   ]
  },
  {
   "cell_type": "code",
   "execution_count": null,
   "id": "158e0246",
   "metadata": {},
   "outputs": [],
   "source": [
    "data = data.drop(columns=['team_id', 'opp_id'])\n",
    "data.info()"
   ]
  },
  {
   "cell_type": "code",
   "execution_count": null,
   "id": "463cba0e",
   "metadata": {},
   "outputs": [],
   "source": [
    "import matplotlib.pyplot as plt\n",
    "import seaborn as sns\n",
    "\n",
    "plt.figure(figsize=(12, 10))\n",
    "sns.heatmap(data.corr(), annot=True, cmap=\"coolwarm\")\n",
    "plt.title(\"Correlation Matrix\")\n",
    "plt.show()"
   ]
  },
  {
   "cell_type": "code",
   "execution_count": null,
   "id": "83898fdb",
   "metadata": {},
   "outputs": [],
   "source": [
    "features = data[['pts', 'win_equiv', 'game_location', 'forecast']]\n",
    "target = data.game_result"
   ]
  },
  {
   "cell_type": "code",
   "execution_count": null,
   "id": "aa7386a4",
   "metadata": {},
   "outputs": [],
   "source": [
    "from sklearn.model_selection import train_test_split\n",
    "\n",
    "x_train, x_test, y_train, y_test = train_test_split(features, target, test_size=0.25, random_state=42)"
   ]
  },
  {
   "cell_type": "code",
   "execution_count": null,
   "id": "73b43fb1",
   "metadata": {},
   "outputs": [],
   "source": [
    "from sklearn.linear_model import LogisticRegression\n",
    "from sklearn.metrics import confusion_matrix, classification_report\n",
    "\n",
    "reg_log_model = LogisticRegression()\n",
    "reg_log_model.fit(x_train, y_train)\n",
    "reg_log_model_predictions = reg_log_model.predict(x_test)\n",
    "\n",
    "print(confusion_matrix(y_test, reg_log_model_predictions))"
   ]
  },
  {
   "cell_type": "code",
   "execution_count": null,
   "id": "affa90d0",
   "metadata": {},
   "outputs": [],
   "source": [
    "print(classification_report(y_test, reg_log_model_predictions))"
   ]
  },
  {
   "cell_type": "markdown",
   "id": "e5efc630",
   "metadata": {},
   "source": [
    "## exercises"
   ]
  },
  {
   "cell_type": "code",
   "execution_count": null,
   "id": "7ec2b845",
   "metadata": {},
   "outputs": [],
   "source": [
    "import pandas as pd\n",
    "\n",
    "data = pd.read_csv('./04/nba_all_elo.csv')\n",
    "data.head()"
   ]
  },
  {
   "cell_type": "code",
   "execution_count": null,
   "id": "a3ea8fdf",
   "metadata": {},
   "outputs": [],
   "source": [
    "%matplotlib inline\n",
    "data[data['fran_id'] == \"Celtics\"].groupby(\"year_id\")[\"pts\"].min().plot()"
   ]
  },
  {
   "cell_type": "code",
   "execution_count": null,
   "id": "5872e874",
   "metadata": {},
   "outputs": [],
   "source": [
    "data[(data['fran_id'] == \"Celtics\") & (data['game_result'] == \"L\")].groupby(\"year_id\").size()"
   ]
  },
  {
   "cell_type": "code",
   "execution_count": null,
   "id": "3775627c",
   "metadata": {},
   "outputs": [],
   "source": [
    "data[(data['fran_id'] == \"Celtics\") & (data['game_result'] == \"W\")].groupby(\"year_id\").size()"
   ]
  },
  {
   "cell_type": "code",
   "execution_count": null,
   "id": "7411332f",
   "metadata": {},
   "outputs": [],
   "source": [
    "data['date_game'] = pd.to_datetime(data['date_game'])\n",
    "data.groupby('fran_id')[\"date_game\"].max()"
   ]
  }
 ],
 "metadata": {
  "kernelspec": {
   "display_name": ".venv",
   "language": "python",
   "name": "python3"
  },
  "language_info": {
   "codemirror_mode": {
    "name": "ipython",
    "version": 3
   },
   "file_extension": ".py",
   "mimetype": "text/x-python",
   "name": "python",
   "nbconvert_exporter": "python",
   "pygments_lexer": "ipython3",
   "version": "3.11.2"
  }
 },
 "nbformat": 4,
 "nbformat_minor": 5
}
