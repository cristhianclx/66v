{
 "cells": [
  {
   "cell_type": "markdown",
   "id": "106ec4c7",
   "metadata": {},
   "source": [
    "## Data Science"
   ]
  },
  {
   "cell_type": "code",
   "execution_count": null,
   "id": "c903ff54",
   "metadata": {},
   "outputs": [],
   "source": [
    "!pip install pandas numpy"
   ]
  },
  {
   "cell_type": "code",
   "execution_count": null,
   "id": "cb499d05",
   "metadata": {},
   "outputs": [],
   "source": [
    "import pandas as pd\n",
    "import numpy as np\n",
    "\n",
    "pd.read_csv('./01/train.csv')"
   ]
  },
  {
   "cell_type": "code",
   "execution_count": null,
   "id": "58b53e2c",
   "metadata": {},
   "outputs": [],
   "source": [
    "!pip install matplotlib"
   ]
  },
  {
   "cell_type": "code",
   "execution_count": null,
   "id": "c812e2dc",
   "metadata": {},
   "outputs": [],
   "source": [
    "import matplotlib.pyplot as plt\n",
    "\n",
    "fig, ax = plt.subplots()\n",
    "\n",
    "fruits = ['apple', 'blueberry', 'cherry', 'orange']\n",
    "counts = [40, 100, 30, 55]\n",
    "bar_labels = ['red', 'blue', '_red', 'orange']\n",
    "bar_colors = ['tab:red', 'tab:blue', 'tab:red', 'tab:orange']\n",
    "\n",
    "ax.bar(fruits, counts, label=bar_labels, color=bar_colors)\n",
    "\n",
    "ax.set_ylabel('fruit supply')\n",
    "ax.set_title('Fruit supply by kind and color')\n",
    "ax.legend(title='Fruit color')\n",
    "\n",
    "plt.show()"
   ]
  },
  {
   "cell_type": "code",
   "execution_count": null,
   "id": "870c2941",
   "metadata": {},
   "outputs": [],
   "source": [
    "!pip install nltk\n",
    "nltk.download('punkt_tab')\n",
    "nltk.download('averaged_perceptron_tagger_eng')"
   ]
  },
  {
   "cell_type": "code",
   "execution_count": null,
   "id": "d0dd827b",
   "metadata": {},
   "outputs": [],
   "source": [
    "import nltk\n",
    "\n",
    "sentence = \"\"\"At eight o'clock on Thursday morning Arthur didn't feel very good.\"\"\"\n",
    "\n",
    "tokens = nltk.word_tokenize(sentence)\n",
    "print(tokens)\n",
    "\n",
    "tagged = nltk.pos_tag(tokens)\n",
    "tagged[0:6]"
   ]
  },
  {
   "cell_type": "markdown",
   "id": "8accc1cb",
   "metadata": {},
   "source": [
    "## OOP"
   ]
  },
  {
   "cell_type": "code",
   "execution_count": null,
   "id": "2a9564cb",
   "metadata": {},
   "outputs": [],
   "source": [
    "class Animal:\n",
    "    is_live = True\n",
    "\n",
    "\n",
    "class Dog:\n",
    "    species = \"generic-dog\"\n",
    "\n",
    "    def __init__(self, name, age):\n",
    "        self.name = name\n",
    "        self.age = age\n",
    "\n",
    "    def answer(self):\n",
    "        return \"My name is {} ({}), and my age is {}.\".format(self.name, self.species, self.age)\n",
    "    \n",
    "    def speak(self, sound):\n",
    "        return \"{}: {}\".format(self.name, sound)\n",
    "\n",
    "\n",
    "class Schnauzer(Animal, Dog):\n",
    "    species = \"schnauzer\"\n",
    "    \n",
    "    def play(self):\n",
    "        return \"{}: is playing\".format(self.name)\n",
    "\n",
    "\n",
    "class Peruvian(Animal, Dog):\n",
    "    species = \"peruvian\"\n",
    "\n",
    "    def sleep(self):\n",
    "        return \"{}: is sleeping\".format(self.name)\n",
    "\n",
    "\n",
    "class GenericDog(Animal, Dog):\n",
    "    pass\n",
    "\n",
    "\n",
    "dog1 = Schnauzer(\"Marckus\", 12)\n",
    "print(\"----\")\n",
    "print(dog1.species)\n",
    "print(dog1.name)\n",
    "print(dog1.age)\n",
    "print(dog1.answer())\n",
    "print(dog1.speak(\"bark\"))\n",
    "print(dog1.play())\n",
    "print(type(dog1))\n",
    "\n",
    "dog2 = Peruvian(\"Marco\", 8)\n",
    "print(\"----\")\n",
    "print(dog2.species)\n",
    "print(dog2.name)\n",
    "print(dog2.age)\n",
    "print(dog2.answer())\n",
    "print(dog2.speak(\"bark\"))\n",
    "print(dog2.sleep())\n",
    "\n",
    "#if dog2.age < 10:\n",
    "#    print(\"dog2 is young\")\n"
   ]
  },
  {
   "cell_type": "code",
   "execution_count": null,
   "id": "9bf86c4b",
   "metadata": {},
   "outputs": [],
   "source": [
    "class Person:\n",
    "    profession = None\n",
    "    def __init__(self, name, age):\n",
    "        self.name = name\n",
    "        self.age = age\n",
    "    def __str__(self):\n",
    "        if self.profession == \"student\":\n",
    "            return \"<Student> {}: {}\".format(self.name, self.age)\n",
    "        elif self.profession == \"teacher\":\n",
    "            return \"<Teacher> {}: {}\".format(self.name, self.age)\n",
    "        else:\n",
    "            return \"<?> {}: {}\".format(self.name, self.age)\n",
    "    def eat(self):\n",
    "        return \"{} is eating\".format(self.name)\n",
    "    def sleep(self):\n",
    "        return \"{} is sleeping\".format(self.name)\n",
    "    def shop(self):\n",
    "        return \"{} is shopping\".format(self.name)\n",
    "    \n",
    "class Student(Person):\n",
    "    profession = \"student\"\n",
    "    def study(self, course):\n",
    "        return \"{} is studying {}\".format(self.name, course)\n",
    "    \n",
    "class Teacher(Person):\n",
    "    profession = \"teacher\"\n",
    "    def teach(self, course):\n",
    "        return \"{} is teaching {}\".format(self.name, course)\n",
    "    \n",
    "student_1 = Student(\"Cesar\", 22)\n",
    "print(student_1)\n",
    "student_2 = Student(\"Raul\", 24)\n",
    "print(student_2)\n",
    "teacher_1 = Teacher(\"Cristhian\", 36)\n",
    "print(teacher_1)"
   ]
  },
  {
   "cell_type": "markdown",
   "id": "f971ba54",
   "metadata": {},
   "source": [
    "## errors"
   ]
  },
  {
   "cell_type": "code",
   "execution_count": null,
   "id": "5b3ad40a",
   "metadata": {},
   "outputs": [],
   "source": [
    "def divide(x, y):\n",
    "    try:\n",
    "        return x / y\n",
    "    except ZeroDivisionError:\n",
    "        print(\"No se puede dividir entre 0\")\n",
    "        return None\n",
    "    except TypeError:\n",
    "        print(\"No se puede dividir cosas que no sean numeros\")\n",
    "        return None\n",
    "\n",
    "print(divide(3, 1))\n",
    "print(divide(4, 2))\n",
    "print(divide(5, 3))\n",
    "print(divide(0, 0))\n",
    "print(divide(\"3\", \"1\"))\n",
    "\n",
    "\n",
    "#x = 10\n",
    "#if x > 1:\n",
    "#    raise Exception(\"x needs to be less than 1\")\n",
    "\n",
    "\n",
    "data = [1, 2, 3, 4, 5]\n",
    "assert 1 in data"
   ]
  },
  {
   "cell_type": "code",
   "execution_count": null,
   "id": "3c614050",
   "metadata": {},
   "outputs": [],
   "source": [
    "def calculate(x, y):\n",
    "    try:\n",
    "        x = x + 1\n",
    "        y = y + 1\n",
    "        return x / y\n",
    "    except ZeroDivisionError:\n",
    "        print(\"No se puede dividir entre 0\")\n",
    "        return None\n",
    "    except TypeError:\n",
    "        print(\"No se puede dividir cosas que no sean numeros\")\n",
    "        return None\n",
    "    finally:\n",
    "        print(\"ended\")\n",
    "\n",
    "calculate(10, 5)   "
   ]
  },
  {
   "cell_type": "code",
   "execution_count": null,
   "id": "39115c16",
   "metadata": {},
   "outputs": [],
   "source": [
    "try:\n",
    "    f = open(\"demofile.txt\")\n",
    "    print(f.read()) \n",
    "except FileNotFoundError as exc:\n",
    "    print(exc)\n"
   ]
  },
  {
   "cell_type": "markdown",
   "id": "f7c02a11",
   "metadata": {},
   "source": [
    "## list comprenhesion"
   ]
  },
  {
   "cell_type": "code",
   "execution_count": null,
   "id": "4aa48e0f",
   "metadata": {},
   "outputs": [],
   "source": [
    "# crear una funcion que yo le de un listado de numeros y me devuelva el listado pero elevado al cuadrado\n",
    "\n",
    "def do_square_classic(nums):\n",
    "    data = []\n",
    "    for n in nums:\n",
    "        data.append(n ** 2)\n",
    "    return data\n",
    "\n",
    "def do_square(nums):\n",
    "    return [n ** 2 for n in nums]\n",
    "\n",
    "print(do_square([3, 4, 5, 6, 7])) # [9, 16, 25, 36, 49]"
   ]
  },
  {
   "cell_type": "code",
   "execution_count": null,
   "id": "92056a51",
   "metadata": {},
   "outputs": [],
   "source": [
    "# crear una funcion que yo le de un numero y me devuelva los divisibles por 3 y 5 elevados al cuadrado\n",
    "\n",
    "def do_x_classic(n):\n",
    "    data = []\n",
    "    for i in range(1, n + 1):\n",
    "        if i % 3 == 0 and i%5 == 0:\n",
    "            data.append(i ** 2)\n",
    "    return data\n",
    "\n",
    "def do_x(n):\n",
    "    return [i ** 2 for i in range(1, n+1) if i%3 == 0 and i%5 == 0]\n",
    "\n",
    "print(do_x(30)) # [225, 900]"
   ]
  },
  {
   "cell_type": "markdown",
   "id": "51ef0442",
   "metadata": {},
   "source": [
    "## lambdas"
   ]
  },
  {
   "cell_type": "code",
   "execution_count": null,
   "id": "79d13ea2",
   "metadata": {},
   "outputs": [],
   "source": [
    "def identity(x, y):\n",
    "    return x * y\n",
    "\n",
    "lambda x, y: x * y"
   ]
  },
  {
   "cell_type": "code",
   "execution_count": null,
   "id": "167fecfb",
   "metadata": {},
   "outputs": [],
   "source": [
    "full_name = lambda first, last: f'Full name: {first.title()} {last.title()}'\n",
    "\n",
    "full_name('guido', 'van rossum')"
   ]
  },
  {
   "cell_type": "markdown",
   "id": "7258a67d",
   "metadata": {},
   "source": [
    "# map, reduce, filter"
   ]
  },
  {
   "cell_type": "code",
   "execution_count": null,
   "id": "4b4cdf3e",
   "metadata": {},
   "outputs": [],
   "source": [
    "my_pets = ['alfred', 'tabitha', 'william', 'arla']\n",
    "uppered_pets = []\n",
    "\n",
    "for pet in my_pets:\n",
    "    pet_ = pet.upper()\n",
    "    uppered_pets.append(pet_)\n",
    "\n",
    "print(uppered_pets)"
   ]
  },
  {
   "cell_type": "code",
   "execution_count": null,
   "id": "2ea7774a",
   "metadata": {},
   "outputs": [],
   "source": [
    "my_pets = ['alfred', 'tabitha', 'william', 'arla']\n",
    "\n",
    "uppered_pets = list(map(str.upper, my_pets))\n",
    "\n",
    "print(uppered_pets)"
   ]
  },
  {
   "cell_type": "code",
   "execution_count": null,
   "id": "18c6992b",
   "metadata": {},
   "outputs": [],
   "source": [
    "scores = [66, 90, 68, 59, 76, 60, 88, 74, 81, 65]\n",
    "\n",
    "def is_A_student(score):\n",
    "    return score > 75\n",
    "\n",
    "over_75 = list(filter(is_A_student, scores))\n",
    "\n",
    "print(over_75)"
   ]
  },
  {
   "cell_type": "code",
   "execution_count": null,
   "id": "a8ee6211",
   "metadata": {},
   "outputs": [],
   "source": [
    "students = [ {\"name\": \"A\", \"score\": 3}, {\"name\": \"B\", \"score\": 20}, {\"name\": \"C\", \"score\": 11} ]\n",
    "\n",
    "def is_approved(student):\n",
    "    if student[\"score\"] >= 11:\n",
    "        return True\n",
    "    else:\n",
    "        return False\n",
    "    \n",
    "students_approved = list(filter(is_approved, students))\n",
    "print(students_approved)"
   ]
  },
  {
   "cell_type": "code",
   "execution_count": null,
   "id": "04c96d73",
   "metadata": {},
   "outputs": [],
   "source": [
    "from functools import reduce\n",
    "\n",
    "numbers = [3, 4, 6, 9, 34, 12]\n",
    "\n",
    "def custom_sum(first, second):\n",
    "    return first + second\n",
    "\n",
    "result = reduce(custom_sum, numbers, 10)\n",
    "print(result)\n",
    "\n",
    "\n",
    "print(sum(numbers))"
   ]
  },
  {
   "cell_type": "markdown",
   "id": "c6abe86e",
   "metadata": {},
   "source": [
    "## generators"
   ]
  },
  {
   "cell_type": "code",
   "execution_count": null,
   "id": "0472cfaf",
   "metadata": {},
   "outputs": [],
   "source": [
    "def csv_reader(file_name):\n",
    "    file = open(file_name)\n",
    "    result = file.read().split(\"\\n\")\n",
    "    return result\n",
    "\n",
    "\n",
    "def csv_reader(file_name):\n",
    "    for row in open(file_name, \"r\"):\n",
    "        yield row"
   ]
  },
  {
   "cell_type": "markdown",
   "id": "d3758929",
   "metadata": {},
   "source": [
    "## decorators"
   ]
  },
  {
   "cell_type": "code",
   "execution_count": null,
   "id": "96e539e9",
   "metadata": {},
   "outputs": [],
   "source": [
    "def decorator_custom(func):\n",
    "    def wrapper():\n",
    "        print(\"Something is happening before the function is called.\")\n",
    "        func()\n",
    "        print(\"Something is happening after the function is called.\")\n",
    "    return wrapper\n",
    "\n",
    "\n",
    "@decorator_custom\n",
    "def say_whee():\n",
    "    print(\"Whee!\")\n",
    "\n",
    "\n",
    "say_whee()\n"
   ]
  },
  {
   "cell_type": "code",
   "execution_count": null,
   "id": "50d7dee3",
   "metadata": {},
   "outputs": [],
   "source": [
    "students = [ \n",
    "    {\"name\": \"A\", \"score\": 3, \"paid\": True},\n",
    "    {\"name\": \"B\", \"score\": 20, \"paid\": True},\n",
    "    {\"name\": \"C\", \"score\": 11, \"paid\": False},\n",
    "    {\"name\": \"D\", \"score\": 12, \"paid\": False},\n",
    "    {\"name\": \"E\", \"score\": 15, \"paid\": True}\n",
    "]\n",
    "\n",
    "\n",
    "# is_super_admin\n",
    "# has_permissions\n",
    "# convert_to_something\n",
    "\n",
    "\n",
    "def can_see_score(func):\n",
    "    def wrapper(student):\n",
    "        if student[\"paid\"]:\n",
    "            func(student)\n",
    "        else:\n",
    "            print(\"{} didn't pay\".format(student[\"name\"]))\n",
    "    return wrapper\n",
    "\n",
    "\n",
    "@can_see_score\n",
    "def is_approved(student):\n",
    "    if student[\"score\"] >= 11:\n",
    "        print(\"{} is approved\".format(student[\"name\"]))\n",
    "\n",
    "\n",
    "for x in students:\n",
    "    is_approved(x)"
   ]
  },
  {
   "cell_type": "code",
   "execution_count": null,
   "id": "391a26dd",
   "metadata": {},
   "outputs": [],
   "source": [
    "# LIST COMPREHENSION - determinar si un número es primo o no\n",
    "\n",
    "def is_prime(x):\n",
    "    return True if sum([1 for n in range(1, x + 1) if x % n == 0]) <= 2 else False\n",
    "\n",
    "# is_prime(17)\n",
    "\n",
    "# para un rango de numeros, primos entre 1 y el valor que te diga\n",
    "\n",
    "def get_primes(numbers):\n",
    "    return [n for n in numbers if is_prime(n)]\n",
    "\n",
    "get_primes([x for x in range(1, 31)])"
   ]
  },
  {
   "cell_type": "code",
   "execution_count": null,
   "id": "3f9f37d2",
   "metadata": {},
   "outputs": [],
   "source": [
    "!pip install sympy"
   ]
  },
  {
   "cell_type": "code",
   "execution_count": null,
   "id": "e7628bd8",
   "metadata": {},
   "outputs": [],
   "source": [
    "from sympy import isprime\n",
    "\n",
    "isprime(17)"
   ]
  },
  {
   "cell_type": "code",
   "execution_count": null,
   "id": "dd7eb892",
   "metadata": {},
   "outputs": [],
   "source": [
    "# LAMBDA - crear para la siguiente clase un sort basado en edad.\n",
    "# Crear 4 empleados e imprimir nombre de empleado por orden de edad.\n",
    "\n",
    "class Person:\n",
    "    def __init__(self, name, age):\n",
    "        self.name = name\n",
    "        self.age = age\n",
    "    def __repr__(self):\n",
    "        return \"{}: {}\".format(self.name, self.age)\n",
    "    \n",
    "people = [\n",
    "    Person(\"C\", 30),\n",
    "    Person(\"A\", 20),\n",
    "    Person(\"B\", 40),\n",
    "    Person(\"D\", 60),\n",
    "]\n",
    "\n",
    "people.sort(key=lambda person: person.age)\n",
    "\n",
    "print(people)"
   ]
  },
  {
   "cell_type": "code",
   "execution_count": null,
   "id": "56666fcf",
   "metadata": {},
   "outputs": [],
   "source": [
    "# DECORATOR\n",
    "# crea un decorator que cada vez que se llame me imprima la fecha tambien\n",
    "\n",
    "# def hello():\n",
    "#     print(\"abcd\")     =>   \"abcd\"\n",
    "\n",
    "# @custom_decorator_date\n",
    "# def hello():               \"2025-29-05 20:22:22\"\n",
    "#     print(\"abcd\")      =>  \"abcd\"\n",
    "\n",
    "from datetime import datetime\n",
    "\n",
    "def custom_decorator_date(func):\n",
    "    def wrapper():\n",
    "        print(datetime.now().strftime(\"%Y-%m-%d %H:%M:%S\"))\n",
    "        func()\n",
    "    return wrapper\n",
    "\n",
    "@custom_decorator_date\n",
    "def hello():\n",
    "    print(\"abcd\")\n",
    "\n",
    "hello()\n",
    "\n",
    "# from datetime import datetime\n",
    "# print(datetime.now().strftime(\"%Y-%m-%d %H:%M:%S\"))\n"
   ]
  },
  {
   "cell_type": "code",
   "execution_count": null,
   "id": "f22e0281",
   "metadata": {},
   "outputs": [],
   "source": [
    "from functools import cache\n",
    "\n",
    "@cache\n",
    "def factorial(n):\n",
    "    print(\"---\")\n",
    "    print(n)\n",
    "    return n * factorial(n-1) if n else 1"
   ]
  },
  {
   "cell_type": "code",
   "execution_count": null,
   "id": "b22cc0a6",
   "metadata": {},
   "outputs": [],
   "source": [
    "factorial(3)\n",
    "\n",
    "factorial(5)"
   ]
  }
 ],
 "metadata": {
  "kernelspec": {
   "display_name": ".venv",
   "language": "python",
   "name": "python3"
  },
  "language_info": {
   "codemirror_mode": {
    "name": "ipython",
    "version": 3
   },
   "file_extension": ".py",
   "mimetype": "text/x-python",
   "name": "python",
   "nbconvert_exporter": "python",
   "pygments_lexer": "ipython3",
   "version": "3.11.2"
  }
 },
 "nbformat": 4,
 "nbformat_minor": 5
}
