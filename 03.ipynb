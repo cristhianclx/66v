{
 "cells": [
  {
   "cell_type": "markdown",
   "id": "53df96b9",
   "metadata": {},
   "source": [
    "## mongodb"
   ]
  },
  {
   "cell_type": "code",
   "execution_count": null,
   "id": "3880e380",
   "metadata": {},
   "outputs": [],
   "source": [
    "!pip install pymongo[srv]==3.10.1"
   ]
  },
  {
   "cell_type": "code",
   "execution_count": null,
   "id": "98ebe1c1",
   "metadata": {},
   "outputs": [],
   "source": [
    "from pymongo import MongoClient\n",
    "\n",
    "# client = MongoClient('localhost', 27017)\n",
    "client = MongoClient('string')"
   ]
  },
  {
   "cell_type": "code",
   "execution_count": null,
   "id": "20f3c2c7",
   "metadata": {},
   "outputs": [],
   "source": [
    "db = client.pymongo_test"
   ]
  },
  {
   "cell_type": "code",
   "execution_count": null,
   "id": "8b3d3fa4",
   "metadata": {},
   "outputs": [],
   "source": [
    "# ver bases de datos\n",
    "for db_info in client.list_database_names():\n",
    "    print(db_info)"
   ]
  },
  {
   "cell_type": "code",
   "execution_count": null,
   "id": "610e47d4",
   "metadata": {},
   "outputs": [],
   "source": [
    "posts = db.posts\n",
    "data = {\n",
    "    \"title\": \"mongodb2\",\n",
    "    \"content\": \"some content2\",\n",
    "    \"author\": \"MongoDB2\"\n",
    "}\n",
    "result = posts.insert_one(data)\n",
    "print(result.inserted_id)\n"
   ]
  },
  {
   "cell_type": "code",
   "execution_count": null,
   "id": "aec6e7f8",
   "metadata": {},
   "outputs": [],
   "source": [
    "posts = db.posts\n",
    "data_1 = {\n",
    "    \"title\": \"mongodb3\",\n",
    "    \"content\": \"some content3\",\n",
    "    \"author\": \"MongoDB3\",\n",
    "    \"courses\": []\n",
    "}\n",
    "data_2 = {\n",
    "    \"title\": \"mongodb4\",\n",
    "    \"content\": \"some content4\",\n",
    "    \"author\": \"MongoDB4\"\n",
    "}\n",
    "data_3 = {\n",
    "    \"title\": \"mongodb5\",\n",
    "    \"content\": \"some content4\",\n",
    "    \"author\": \"MongoDB4\"\n",
    "}\n",
    "result = posts.insert_many([data_1, data_2, data_3])\n",
    "print(result.inserted_ids)"
   ]
  },
  {
   "cell_type": "code",
   "execution_count": null,
   "id": "a8b66294",
   "metadata": {},
   "outputs": [],
   "source": [
    "posts = db.posts\n",
    "\n",
    "post_found = posts.find_one({\"author\": \"MongoDB4\"})\n",
    "print(post_found)\n",
    "print(\"-------\")\n",
    "\n",
    "posts_found = posts.find({\"author\": \"MongoDB4\"})\n",
    "for x in posts_found:\n",
    "    print(x)"
   ]
  },
  {
   "cell_type": "code",
   "execution_count": null,
   "id": "e9bbb23a",
   "metadata": {},
   "outputs": [],
   "source": [
    "posts = db.posts\n",
    "\n",
    "posts_found = posts.find({\"title\": { \"$regex\": \"^mongo\" }})\n",
    "for x in posts_found:\n",
    "    print(x)"
   ]
  },
  {
   "cell_type": "code",
   "execution_count": null,
   "id": "139e0140",
   "metadata": {},
   "outputs": [],
   "source": [
    "!pip install mongoengine"
   ]
  },
  {
   "cell_type": "code",
   "execution_count": null,
   "id": "8f14c432",
   "metadata": {},
   "outputs": [],
   "source": [
    "from mongoengine import *\n",
    "\n",
    "connect(host = 'string')"
   ]
  },
  {
   "cell_type": "code",
   "execution_count": null,
   "id": "fd2ea343",
   "metadata": {},
   "outputs": [],
   "source": [
    "import datetime\n",
    "\n",
    "class Post(Document):\n",
    "    title = StringField(required=True, max_length=200)\n",
    "    content = StringField(required=True) \n",
    "    author = StringField(required=True, max_length=100)\n",
    "    published = DateTimeField(default=datetime.datetime.now())\n"
   ]
  },
  {
   "cell_type": "code",
   "execution_count": null,
   "id": "9ad3cec9",
   "metadata": {},
   "outputs": [],
   "source": [
    "post_1 = Post(\n",
    "    title=\"MongoEngine 1\",\n",
    "    content=\"MongoEngine 1\",\n",
    "    author=\"MongoEngine\"\n",
    ")\n",
    "post_1.save()\n",
    "print(post_1.id)"
   ]
  },
  {
   "cell_type": "code",
   "execution_count": null,
   "id": "93e80f1d",
   "metadata": {},
   "outputs": [],
   "source": [
    "# mongoimport --db sample_algo --collection data --file ./.../data.json"
   ]
  },
  {
   "cell_type": "code",
   "execution_count": null,
   "id": "0358905c",
   "metadata": {},
   "outputs": [],
   "source": [
    "from pymongo import MongoClient\n",
    "\n",
    "client = MongoClient('string')"
   ]
  },
  {
   "cell_type": "code",
   "execution_count": null,
   "id": "2b4a8acf",
   "metadata": {},
   "outputs": [],
   "source": [
    "db = client.sample_mflix\n",
    "movies = db.movies\n",
    "\n",
    "# view all\n",
    "#results = users.find()\n",
    "#for x in results:\n",
    "#    print(x)\n",
    "\n",
    "movies.find().count()"
   ]
  },
  {
   "cell_type": "code",
   "execution_count": null,
   "id": "4abfb0ea",
   "metadata": {},
   "outputs": [],
   "source": [
    "# view only some columns\n",
    "results = movies.find({}, {\"title\": 1, \"poster\": 1, \"_id\": 0})\n",
    "for x in results:\n",
    "    print(x)"
   ]
  },
  {
   "cell_type": "code",
   "execution_count": null,
   "id": "74ff8e9e",
   "metadata": {},
   "outputs": [],
   "source": [
    "results = movies.find({\"rated\": \"TV-G\", \"year\": {\"$gt\": 1904}}).limit(5)\n",
    "for x in results:\n",
    "    print(x)"
   ]
  },
  {
   "cell_type": "code",
   "execution_count": null,
   "id": "d682f6c3",
   "metadata": {},
   "outputs": [],
   "source": [
    "results = movies.find({\"plot\": { \"$regex\": \"^A \" }, \"num_mflix_comments\": {\"$gt\": 0}})\n",
    "for x in results:\n",
    "    print(x)"
   ]
  },
  {
   "cell_type": "markdown",
   "id": "45155386",
   "metadata": {},
   "source": [
    "## scraping"
   ]
  },
  {
   "cell_type": "code",
   "execution_count": null,
   "id": "7de933f4",
   "metadata": {},
   "outputs": [],
   "source": [
    "!pip install requests beautifulsoup4"
   ]
  },
  {
   "cell_type": "code",
   "execution_count": null,
   "id": "e046257f",
   "metadata": {},
   "outputs": [],
   "source": [
    "# https://cuantoestaeldolar.pe/ # tipo de cambio SUNAT\n",
    "\n",
    "import requests\n",
    "\n",
    "raw = requests.get(\"https://cuantoestaeldolar.pe/\")\n",
    "print(raw.status_code)\n",
    "print(raw.text)\n"
   ]
  },
  {
   "cell_type": "code",
   "execution_count": null,
   "id": "f3411f81",
   "metadata": {},
   "outputs": [],
   "source": [
    "from bs4 import BeautifulSoup\n",
    "\n",
    "soup = BeautifulSoup(raw.text, 'html.parser')\n",
    "data = soup.find_all(\"p\", class_=\"ValueCurrency_item_cost__Eb_37\")\n",
    "tipo_de_cambio = {\n",
    "    \"sunat\": {\n",
    "        \"compra\": float(data[0].text),\n",
    "        \"venta\": float(data[1].text),\n",
    "    },\n",
    "    \"paralelo\": {\n",
    "        \"compra\": float(data[2].text),\n",
    "        \"venta\": float(data[3].text),\n",
    "    }\n",
    "}\n",
    "print(tipo_de_cambio)"
   ]
  },
  {
   "cell_type": "markdown",
   "id": "41ec2006",
   "metadata": {},
   "source": [
    "## apis"
   ]
  },
  {
   "cell_type": "code",
   "execution_count": null,
   "id": "f6d2706d",
   "metadata": {},
   "outputs": [],
   "source": [
    "# https://github.com/public-apis/public-apis\n",
    "\n",
    "import requests\n",
    "\n",
    "x = requests.get(\"https://ipinfo.io\")\n",
    "print(x.status_code)\n",
    "print(x.text)\n",
    "print(\"-----\")\n",
    "print(x.json())\n",
    "\n",
    "data = x.json()\n",
    "print(\"based on your ip, you are in {}\".format(data[\"city\"]))"
   ]
  },
  {
   "cell_type": "code",
   "execution_count": null,
   "id": "5a5308f5",
   "metadata": {},
   "outputs": [],
   "source": [
    "# https://pokeapi.co/\n",
    "\n",
    "def get_pokemon_data(pokemon_name):\n",
    "    raw = requests.get(\"https://pokeapi.co/api/v2/pokemon/{}\".format(pokemon_name))\n",
    "    data = raw.json()\n",
    "    return {\n",
    "        \"weight\": data[\"weight\"],\n",
    "        \"height\": data[\"height\"],\n",
    "        \"name\": data[\"name\"],\n",
    "        \"type\": [x[\"type\"][\"name\"] for x in data[\"types\"]],\n",
    "    }\n",
    "\n",
    "get_pokemon_data(\"pikachu\")"
   ]
  },
  {
   "cell_type": "code",
   "execution_count": 63,
   "id": "7dafb83a",
   "metadata": {},
   "outputs": [
    {
     "name": "stdout",
     "output_type": "stream",
     "text": [
      "{'name': 'bulbasaur', 'url': 'https://pokeapi.co/api/v2/pokemon/1/'}\n",
      "{'name': 'ivysaur', 'url': 'https://pokeapi.co/api/v2/pokemon/2/'}\n",
      "{'name': 'venusaur', 'url': 'https://pokeapi.co/api/v2/pokemon/3/'}\n",
      "{'name': 'charmander', 'url': 'https://pokeapi.co/api/v2/pokemon/4/'}\n",
      "{'name': 'charmeleon', 'url': 'https://pokeapi.co/api/v2/pokemon/5/'}\n",
      "{'name': 'charizard', 'url': 'https://pokeapi.co/api/v2/pokemon/6/'}\n",
      "{'name': 'squirtle', 'url': 'https://pokeapi.co/api/v2/pokemon/7/'}\n",
      "{'name': 'wartortle', 'url': 'https://pokeapi.co/api/v2/pokemon/8/'}\n",
      "{'name': 'blastoise', 'url': 'https://pokeapi.co/api/v2/pokemon/9/'}\n",
      "{'name': 'caterpie', 'url': 'https://pokeapi.co/api/v2/pokemon/10/'}\n",
      "{'name': 'metapod', 'url': 'https://pokeapi.co/api/v2/pokemon/11/'}\n",
      "{'name': 'butterfree', 'url': 'https://pokeapi.co/api/v2/pokemon/12/'}\n",
      "{'name': 'weedle', 'url': 'https://pokeapi.co/api/v2/pokemon/13/'}\n",
      "{'name': 'kakuna', 'url': 'https://pokeapi.co/api/v2/pokemon/14/'}\n",
      "{'name': 'beedrill', 'url': 'https://pokeapi.co/api/v2/pokemon/15/'}\n",
      "{'name': 'pidgey', 'url': 'https://pokeapi.co/api/v2/pokemon/16/'}\n",
      "{'name': 'pidgeotto', 'url': 'https://pokeapi.co/api/v2/pokemon/17/'}\n",
      "{'name': 'pidgeot', 'url': 'https://pokeapi.co/api/v2/pokemon/18/'}\n",
      "{'name': 'rattata', 'url': 'https://pokeapi.co/api/v2/pokemon/19/'}\n",
      "{'name': 'raticate', 'url': 'https://pokeapi.co/api/v2/pokemon/20/'}\n",
      "{'name': 'spearow', 'url': 'https://pokeapi.co/api/v2/pokemon/21/'}\n",
      "{'name': 'fearow', 'url': 'https://pokeapi.co/api/v2/pokemon/22/'}\n",
      "{'name': 'ekans', 'url': 'https://pokeapi.co/api/v2/pokemon/23/'}\n",
      "{'name': 'arbok', 'url': 'https://pokeapi.co/api/v2/pokemon/24/'}\n",
      "{'name': 'pikachu', 'url': 'https://pokeapi.co/api/v2/pokemon/25/'}\n",
      "{'name': 'raichu', 'url': 'https://pokeapi.co/api/v2/pokemon/26/'}\n",
      "{'name': 'sandshrew', 'url': 'https://pokeapi.co/api/v2/pokemon/27/'}\n",
      "{'name': 'sandslash', 'url': 'https://pokeapi.co/api/v2/pokemon/28/'}\n",
      "{'name': 'nidoran-f', 'url': 'https://pokeapi.co/api/v2/pokemon/29/'}\n",
      "{'name': 'nidorina', 'url': 'https://pokeapi.co/api/v2/pokemon/30/'}\n",
      "{'name': 'nidoqueen', 'url': 'https://pokeapi.co/api/v2/pokemon/31/'}\n",
      "{'name': 'nidoran-m', 'url': 'https://pokeapi.co/api/v2/pokemon/32/'}\n",
      "{'name': 'nidorino', 'url': 'https://pokeapi.co/api/v2/pokemon/33/'}\n",
      "{'name': 'nidoking', 'url': 'https://pokeapi.co/api/v2/pokemon/34/'}\n",
      "{'name': 'clefairy', 'url': 'https://pokeapi.co/api/v2/pokemon/35/'}\n",
      "{'name': 'clefable', 'url': 'https://pokeapi.co/api/v2/pokemon/36/'}\n",
      "{'name': 'vulpix', 'url': 'https://pokeapi.co/api/v2/pokemon/37/'}\n",
      "{'name': 'ninetales', 'url': 'https://pokeapi.co/api/v2/pokemon/38/'}\n",
      "{'name': 'jigglypuff', 'url': 'https://pokeapi.co/api/v2/pokemon/39/'}\n",
      "{'name': 'wigglytuff', 'url': 'https://pokeapi.co/api/v2/pokemon/40/'}\n",
      "{'name': 'zubat', 'url': 'https://pokeapi.co/api/v2/pokemon/41/'}\n",
      "{'name': 'golbat', 'url': 'https://pokeapi.co/api/v2/pokemon/42/'}\n",
      "{'name': 'oddish', 'url': 'https://pokeapi.co/api/v2/pokemon/43/'}\n",
      "{'name': 'gloom', 'url': 'https://pokeapi.co/api/v2/pokemon/44/'}\n",
      "{'name': 'vileplume', 'url': 'https://pokeapi.co/api/v2/pokemon/45/'}\n",
      "{'name': 'paras', 'url': 'https://pokeapi.co/api/v2/pokemon/46/'}\n",
      "{'name': 'parasect', 'url': 'https://pokeapi.co/api/v2/pokemon/47/'}\n",
      "{'name': 'venonat', 'url': 'https://pokeapi.co/api/v2/pokemon/48/'}\n",
      "{'name': 'venomoth', 'url': 'https://pokeapi.co/api/v2/pokemon/49/'}\n",
      "{'name': 'diglett', 'url': 'https://pokeapi.co/api/v2/pokemon/50/'}\n",
      "{'name': 'dugtrio', 'url': 'https://pokeapi.co/api/v2/pokemon/51/'}\n",
      "{'name': 'meowth', 'url': 'https://pokeapi.co/api/v2/pokemon/52/'}\n",
      "{'name': 'persian', 'url': 'https://pokeapi.co/api/v2/pokemon/53/'}\n",
      "{'name': 'psyduck', 'url': 'https://pokeapi.co/api/v2/pokemon/54/'}\n",
      "{'name': 'golduck', 'url': 'https://pokeapi.co/api/v2/pokemon/55/'}\n",
      "{'name': 'mankey', 'url': 'https://pokeapi.co/api/v2/pokemon/56/'}\n",
      "{'name': 'primeape', 'url': 'https://pokeapi.co/api/v2/pokemon/57/'}\n",
      "{'name': 'growlithe', 'url': 'https://pokeapi.co/api/v2/pokemon/58/'}\n",
      "{'name': 'arcanine', 'url': 'https://pokeapi.co/api/v2/pokemon/59/'}\n",
      "{'name': 'poliwag', 'url': 'https://pokeapi.co/api/v2/pokemon/60/'}\n",
      "{'name': 'poliwhirl', 'url': 'https://pokeapi.co/api/v2/pokemon/61/'}\n",
      "{'name': 'poliwrath', 'url': 'https://pokeapi.co/api/v2/pokemon/62/'}\n",
      "{'name': 'abra', 'url': 'https://pokeapi.co/api/v2/pokemon/63/'}\n",
      "{'name': 'kadabra', 'url': 'https://pokeapi.co/api/v2/pokemon/64/'}\n",
      "{'name': 'alakazam', 'url': 'https://pokeapi.co/api/v2/pokemon/65/'}\n",
      "{'name': 'machop', 'url': 'https://pokeapi.co/api/v2/pokemon/66/'}\n",
      "{'name': 'machoke', 'url': 'https://pokeapi.co/api/v2/pokemon/67/'}\n",
      "{'name': 'machamp', 'url': 'https://pokeapi.co/api/v2/pokemon/68/'}\n",
      "{'name': 'bellsprout', 'url': 'https://pokeapi.co/api/v2/pokemon/69/'}\n",
      "{'name': 'weepinbell', 'url': 'https://pokeapi.co/api/v2/pokemon/70/'}\n",
      "{'name': 'victreebel', 'url': 'https://pokeapi.co/api/v2/pokemon/71/'}\n",
      "{'name': 'tentacool', 'url': 'https://pokeapi.co/api/v2/pokemon/72/'}\n",
      "{'name': 'tentacruel', 'url': 'https://pokeapi.co/api/v2/pokemon/73/'}\n",
      "{'name': 'geodude', 'url': 'https://pokeapi.co/api/v2/pokemon/74/'}\n",
      "{'name': 'graveler', 'url': 'https://pokeapi.co/api/v2/pokemon/75/'}\n",
      "{'name': 'golem', 'url': 'https://pokeapi.co/api/v2/pokemon/76/'}\n",
      "{'name': 'ponyta', 'url': 'https://pokeapi.co/api/v2/pokemon/77/'}\n",
      "{'name': 'rapidash', 'url': 'https://pokeapi.co/api/v2/pokemon/78/'}\n",
      "{'name': 'slowpoke', 'url': 'https://pokeapi.co/api/v2/pokemon/79/'}\n",
      "{'name': 'slowbro', 'url': 'https://pokeapi.co/api/v2/pokemon/80/'}\n",
      "{'name': 'magnemite', 'url': 'https://pokeapi.co/api/v2/pokemon/81/'}\n",
      "{'name': 'magneton', 'url': 'https://pokeapi.co/api/v2/pokemon/82/'}\n",
      "{'name': 'farfetchd', 'url': 'https://pokeapi.co/api/v2/pokemon/83/'}\n",
      "{'name': 'doduo', 'url': 'https://pokeapi.co/api/v2/pokemon/84/'}\n",
      "{'name': 'dodrio', 'url': 'https://pokeapi.co/api/v2/pokemon/85/'}\n",
      "{'name': 'seel', 'url': 'https://pokeapi.co/api/v2/pokemon/86/'}\n",
      "{'name': 'dewgong', 'url': 'https://pokeapi.co/api/v2/pokemon/87/'}\n",
      "{'name': 'grimer', 'url': 'https://pokeapi.co/api/v2/pokemon/88/'}\n",
      "{'name': 'muk', 'url': 'https://pokeapi.co/api/v2/pokemon/89/'}\n",
      "{'name': 'shellder', 'url': 'https://pokeapi.co/api/v2/pokemon/90/'}\n",
      "{'name': 'cloyster', 'url': 'https://pokeapi.co/api/v2/pokemon/91/'}\n",
      "{'name': 'gastly', 'url': 'https://pokeapi.co/api/v2/pokemon/92/'}\n",
      "{'name': 'haunter', 'url': 'https://pokeapi.co/api/v2/pokemon/93/'}\n",
      "{'name': 'gengar', 'url': 'https://pokeapi.co/api/v2/pokemon/94/'}\n",
      "{'name': 'onix', 'url': 'https://pokeapi.co/api/v2/pokemon/95/'}\n",
      "{'name': 'drowzee', 'url': 'https://pokeapi.co/api/v2/pokemon/96/'}\n",
      "{'name': 'hypno', 'url': 'https://pokeapi.co/api/v2/pokemon/97/'}\n",
      "{'name': 'krabby', 'url': 'https://pokeapi.co/api/v2/pokemon/98/'}\n",
      "{'name': 'kingler', 'url': 'https://pokeapi.co/api/v2/pokemon/99/'}\n",
      "{'name': 'voltorb', 'url': 'https://pokeapi.co/api/v2/pokemon/100/'}\n"
     ]
    }
   ],
   "source": [
    "# https://pokeapi.co/api/v2/pokemon?limit=100&offset=0\n",
    "\n",
    "# usando la pokeapi, obtener los 100 primeros pokemons y que nos diga aquellos cuyo tipo\n",
    "# es el que estamos pidiendo, devuelve o imprime solo el nombre del pokemon\n",
    "\n",
    "type_search = \"electric\"\n",
    "\n",
    "raw = requests.get(\"https://pokeapi.co/api/v2/pokemon?limit=100&offset=0\")\n",
    "data = raw.json()\n",
    "for x in data[\"results\"]:\n",
    "    print(x)\n",
    "    # requests.get\n",
    "    # verificar el tipo\n"
   ]
  }
 ],
 "metadata": {
  "kernelspec": {
   "display_name": ".venv",
   "language": "python",
   "name": "python3"
  },
  "language_info": {
   "codemirror_mode": {
    "name": "ipython",
    "version": 3
   },
   "file_extension": ".py",
   "mimetype": "text/x-python",
   "name": "python",
   "nbconvert_exporter": "python",
   "pygments_lexer": "ipython3",
   "version": "3.11.2"
  }
 },
 "nbformat": 4,
 "nbformat_minor": 5
}
