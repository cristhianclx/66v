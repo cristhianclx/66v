{
 "cells": [
  {
   "cell_type": "markdown",
   "id": "53df96b9",
   "metadata": {},
   "source": [
    "## mongodb"
   ]
  },
  {
   "cell_type": "code",
   "execution_count": null,
   "id": "3880e380",
   "metadata": {},
   "outputs": [],
   "source": [
    "!pip install pymongo[srv]==3.10.1"
   ]
  },
  {
   "cell_type": "code",
   "execution_count": null,
   "id": "98ebe1c1",
   "metadata": {},
   "outputs": [],
   "source": [
    "from pymongo import MongoClient\n",
    "\n",
    "# client = MongoClient('localhost', 27017)\n",
    "client = MongoClient('string')"
   ]
  },
  {
   "cell_type": "code",
   "execution_count": null,
   "id": "20f3c2c7",
   "metadata": {},
   "outputs": [],
   "source": [
    "db = client.pymongo_test"
   ]
  },
  {
   "cell_type": "code",
   "execution_count": null,
   "id": "8b3d3fa4",
   "metadata": {},
   "outputs": [],
   "source": [
    "# ver bases de datos\n",
    "for db_info in client.list_database_names():\n",
    "    print(db_info)"
   ]
  },
  {
   "cell_type": "code",
   "execution_count": null,
   "id": "610e47d4",
   "metadata": {},
   "outputs": [],
   "source": [
    "posts = db.posts\n",
    "data = {\n",
    "    \"title\": \"mongodb2\",\n",
    "    \"content\": \"some content2\",\n",
    "    \"author\": \"MongoDB2\"\n",
    "}\n",
    "result = posts.insert_one(data)\n",
    "print(result.inserted_id)\n"
   ]
  },
  {
   "cell_type": "code",
   "execution_count": null,
   "id": "aec6e7f8",
   "metadata": {},
   "outputs": [],
   "source": [
    "posts = db.posts\n",
    "data_1 = {\n",
    "    \"title\": \"mongodb3\",\n",
    "    \"content\": \"some content3\",\n",
    "    \"author\": \"MongoDB3\",\n",
    "    \"courses\": []\n",
    "}\n",
    "data_2 = {\n",
    "    \"title\": \"mongodb4\",\n",
    "    \"content\": \"some content4\",\n",
    "    \"author\": \"MongoDB4\"\n",
    "}\n",
    "data_3 = {\n",
    "    \"title\": \"mongodb5\",\n",
    "    \"content\": \"some content4\",\n",
    "    \"author\": \"MongoDB4\"\n",
    "}\n",
    "result = posts.insert_many([data_1, data_2, data_3])\n",
    "print(result.inserted_ids)"
   ]
  },
  {
   "cell_type": "code",
   "execution_count": null,
   "id": "a8b66294",
   "metadata": {},
   "outputs": [],
   "source": [
    "posts = db.posts\n",
    "\n",
    "post_found = posts.find_one({\"author\": \"MongoDB4\"})\n",
    "print(post_found)\n",
    "print(\"-------\")\n",
    "\n",
    "posts_found = posts.find({\"author\": \"MongoDB4\"})\n",
    "for x in posts_found:\n",
    "    print(x)"
   ]
  },
  {
   "cell_type": "code",
   "execution_count": null,
   "id": "e9bbb23a",
   "metadata": {},
   "outputs": [],
   "source": [
    "posts = db.posts\n",
    "\n",
    "posts_found = posts.find({\"title\": { \"$regex\": \"^mongo\" }})\n",
    "for x in posts_found:\n",
    "    print(x)"
   ]
  },
  {
   "cell_type": "code",
   "execution_count": null,
   "id": "139e0140",
   "metadata": {},
   "outputs": [],
   "source": [
    "!pip install mongoengine"
   ]
  },
  {
   "cell_type": "code",
   "execution_count": null,
   "id": "8f14c432",
   "metadata": {},
   "outputs": [],
   "source": [
    "from mongoengine import *\n",
    "\n",
    "connect(host = 'string')"
   ]
  },
  {
   "cell_type": "code",
   "execution_count": null,
   "id": "fd2ea343",
   "metadata": {},
   "outputs": [],
   "source": [
    "import datetime\n",
    "\n",
    "class Post(Document):\n",
    "    title = StringField(required=True, max_length=200)\n",
    "    content = StringField(required=True) \n",
    "    author = StringField(required=True, max_length=100)\n",
    "    published = DateTimeField(default=datetime.datetime.now())\n"
   ]
  },
  {
   "cell_type": "code",
   "execution_count": null,
   "id": "9ad3cec9",
   "metadata": {},
   "outputs": [],
   "source": [
    "post_1 = Post(\n",
    "    title=\"MongoEngine 1\",\n",
    "    content=\"MongoEngine 1\",\n",
    "    author=\"MongoEngine\"\n",
    ")\n",
    "post_1.save()\n",
    "print(post_1.id)"
   ]
  },
  {
   "cell_type": "code",
   "execution_count": null,
   "id": "93e80f1d",
   "metadata": {},
   "outputs": [],
   "source": [
    "# mongoimport --db sample_algo --collection data --file ./.../data.json"
   ]
  },
  {
   "cell_type": "code",
   "execution_count": null,
   "id": "0358905c",
   "metadata": {},
   "outputs": [],
   "source": [
    "from pymongo import MongoClient\n",
    "\n",
    "client = MongoClient('string')"
   ]
  },
  {
   "cell_type": "code",
   "execution_count": null,
   "id": "2b4a8acf",
   "metadata": {},
   "outputs": [],
   "source": [
    "db = client.sample_mflix\n",
    "movies = db.movies\n",
    "\n",
    "# view all\n",
    "#results = users.find()\n",
    "#for x in results:\n",
    "#    print(x)\n",
    "\n",
    "movies.find().count()"
   ]
  },
  {
   "cell_type": "code",
   "execution_count": null,
   "id": "4abfb0ea",
   "metadata": {},
   "outputs": [],
   "source": [
    "# view only some columns\n",
    "results = movies.find({}, {\"title\": 1, \"poster\": 1, \"_id\": 0})\n",
    "for x in results:\n",
    "    print(x)"
   ]
  },
  {
   "cell_type": "code",
   "execution_count": null,
   "id": "74ff8e9e",
   "metadata": {},
   "outputs": [],
   "source": [
    "results = movies.find({\"rated\": \"TV-G\", \"year\": {\"$gt\": 1904}}).limit(5)\n",
    "for x in results:\n",
    "    print(x)"
   ]
  },
  {
   "cell_type": "code",
   "execution_count": null,
   "id": "d682f6c3",
   "metadata": {},
   "outputs": [],
   "source": [
    "# filtrar movies cuyo plot empiece con \"A ...\" y que tengan más de un comentario \"num_mflix_comments\""
   ]
  }
 ],
 "metadata": {
  "kernelspec": {
   "display_name": ".venv",
   "language": "python",
   "name": "python3"
  },
  "language_info": {
   "codemirror_mode": {
    "name": "ipython",
    "version": 3
   },
   "file_extension": ".py",
   "mimetype": "text/x-python",
   "name": "python",
   "nbconvert_exporter": "python",
   "pygments_lexer": "ipython3",
   "version": "3.11.2"
  }
 },
 "nbformat": 4,
 "nbformat_minor": 5
}
