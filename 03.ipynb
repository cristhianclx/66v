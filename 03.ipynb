{
 "cells": [
  {
   "cell_type": "markdown",
   "id": "53df96b9",
   "metadata": {},
   "source": [
    "## mongodb"
   ]
  },
  {
   "cell_type": "code",
   "execution_count": null,
   "id": "3880e380",
   "metadata": {},
   "outputs": [],
   "source": [
    "!pip install pymongo[srv]==3.10.1"
   ]
  },
  {
   "cell_type": "code",
   "execution_count": null,
   "id": "98ebe1c1",
   "metadata": {},
   "outputs": [],
   "source": [
    "from pymongo import MongoClient\n",
    "\n",
    "# client = MongoClient('localhost', 27017)\n",
    "client = MongoClient('string')"
   ]
  },
  {
   "cell_type": "code",
   "execution_count": null,
   "id": "20f3c2c7",
   "metadata": {},
   "outputs": [],
   "source": [
    "db = client.pymongo_test"
   ]
  },
  {
   "cell_type": "code",
   "execution_count": null,
   "id": "8b3d3fa4",
   "metadata": {},
   "outputs": [],
   "source": [
    "# ver bases de datos\n",
    "for db_info in client.list_database_names():\n",
    "    print(db_info)"
   ]
  },
  {
   "cell_type": "code",
   "execution_count": null,
   "id": "610e47d4",
   "metadata": {},
   "outputs": [],
   "source": [
    "posts = db.posts\n",
    "data = {\n",
    "    \"title\": \"mongodb2\",\n",
    "    \"content\": \"some content2\",\n",
    "    \"author\": \"MongoDB2\"\n",
    "}\n",
    "result = posts.insert_one(data)\n",
    "print(result.inserted_id)\n"
   ]
  },
  {
   "cell_type": "code",
   "execution_count": null,
   "id": "aec6e7f8",
   "metadata": {},
   "outputs": [],
   "source": [
    "posts = db.posts\n",
    "data_1 = {\n",
    "    \"title\": \"mongodb3\",\n",
    "    \"content\": \"some content3\",\n",
    "    \"author\": \"MongoDB3\",\n",
    "    \"courses\": []\n",
    "}\n",
    "data_2 = {\n",
    "    \"title\": \"mongodb4\",\n",
    "    \"content\": \"some content4\",\n",
    "    \"author\": \"MongoDB4\"\n",
    "}\n",
    "data_3 = {\n",
    "    \"title\": \"mongodb5\",\n",
    "    \"content\": \"some content4\",\n",
    "    \"author\": \"MongoDB4\"\n",
    "}\n",
    "result = posts.insert_many([data_1, data_2, data_3])\n",
    "print(result.inserted_ids)"
   ]
  },
  {
   "cell_type": "code",
   "execution_count": null,
   "id": "a8b66294",
   "metadata": {},
   "outputs": [],
   "source": [
    "posts = db.posts\n",
    "\n",
    "post_found = posts.find_one({\"author\": \"MongoDB4\"})\n",
    "print(post_found)\n",
    "print(\"-------\")\n",
    "\n",
    "posts_found = posts.find({\"author\": \"MongoDB4\"})\n",
    "for x in posts_found:\n",
    "    print(x)"
   ]
  },
  {
   "cell_type": "code",
   "execution_count": null,
   "id": "e9bbb23a",
   "metadata": {},
   "outputs": [],
   "source": [
    "posts = db.posts\n",
    "\n",
    "posts_found = posts.find({\"title\": { \"$regex\": \"^mongo\" }})\n",
    "for x in posts_found:\n",
    "    print(x)"
   ]
  },
  {
   "cell_type": "code",
   "execution_count": null,
   "id": "139e0140",
   "metadata": {},
   "outputs": [],
   "source": [
    "!pip install mongoengine"
   ]
  },
  {
   "cell_type": "code",
   "execution_count": null,
   "id": "8f14c432",
   "metadata": {},
   "outputs": [],
   "source": [
    "from mongoengine import *\n",
    "\n",
    "connect(host = 'string')"
   ]
  },
  {
   "cell_type": "code",
   "execution_count": null,
   "id": "fd2ea343",
   "metadata": {},
   "outputs": [],
   "source": [
    "import datetime\n",
    "\n",
    "class Post(Document):\n",
    "    title = StringField(required=True, max_length=200)\n",
    "    content = StringField(required=True) \n",
    "    author = StringField(required=True, max_length=100)\n",
    "    published = DateTimeField(default=datetime.datetime.now())\n"
   ]
  },
  {
   "cell_type": "code",
   "execution_count": null,
   "id": "9ad3cec9",
   "metadata": {},
   "outputs": [],
   "source": [
    "post_1 = Post(\n",
    "    title=\"MongoEngine 1\",\n",
    "    content=\"MongoEngine 1\",\n",
    "    author=\"MongoEngine\"\n",
    ")\n",
    "post_1.save()\n",
    "print(post_1.id)"
   ]
  },
  {
   "cell_type": "code",
   "execution_count": null,
   "id": "93e80f1d",
   "metadata": {},
   "outputs": [],
   "source": [
    "# mongoimport --db sample_algo --collection data --file ./.../data.json"
   ]
  },
  {
   "cell_type": "code",
   "execution_count": null,
   "id": "0358905c",
   "metadata": {},
   "outputs": [],
   "source": [
    "from pymongo import MongoClient\n",
    "\n",
    "client = MongoClient('string')"
   ]
  },
  {
   "cell_type": "code",
   "execution_count": null,
   "id": "2b4a8acf",
   "metadata": {},
   "outputs": [],
   "source": [
    "db = client.sample_mflix\n",
    "movies = db.movies\n",
    "\n",
    "# view all\n",
    "#results = users.find()\n",
    "#for x in results:\n",
    "#    print(x)\n",
    "\n",
    "movies.find().count()"
   ]
  },
  {
   "cell_type": "code",
   "execution_count": null,
   "id": "4abfb0ea",
   "metadata": {},
   "outputs": [],
   "source": [
    "# view only some columns\n",
    "results = movies.find({}, {\"title\": 1, \"poster\": 1, \"_id\": 0})\n",
    "for x in results:\n",
    "    print(x)"
   ]
  },
  {
   "cell_type": "code",
   "execution_count": null,
   "id": "74ff8e9e",
   "metadata": {},
   "outputs": [],
   "source": [
    "results = movies.find({\"rated\": \"TV-G\", \"year\": {\"$gt\": 1904}}).limit(5)\n",
    "for x in results:\n",
    "    print(x)"
   ]
  },
  {
   "cell_type": "code",
   "execution_count": null,
   "id": "d682f6c3",
   "metadata": {},
   "outputs": [],
   "source": [
    "results = movies.find({\"plot\": { \"$regex\": \"^A \" }, \"num_mflix_comments\": {\"$gt\": 0}})\n",
    "for x in results:\n",
    "    print(x)"
   ]
  },
  {
   "cell_type": "markdown",
   "id": "45155386",
   "metadata": {},
   "source": [
    "## scraping"
   ]
  },
  {
   "cell_type": "code",
   "execution_count": null,
   "id": "7de933f4",
   "metadata": {},
   "outputs": [],
   "source": [
    "!pip install requests beautifulsoup4"
   ]
  },
  {
   "cell_type": "code",
   "execution_count": null,
   "id": "e046257f",
   "metadata": {},
   "outputs": [],
   "source": [
    "# https://cuantoestaeldolar.pe/ # tipo de cambio SUNAT\n",
    "\n",
    "import requests\n",
    "\n",
    "raw = requests.get(\"https://cuantoestaeldolar.pe/\")\n",
    "print(raw.status_code)\n",
    "print(raw.text)\n"
   ]
  },
  {
   "cell_type": "code",
   "execution_count": null,
   "id": "f3411f81",
   "metadata": {},
   "outputs": [],
   "source": [
    "from bs4 import BeautifulSoup\n",
    "\n",
    "soup = BeautifulSoup(raw.text, 'html.parser')\n",
    "data = soup.find_all(\"p\", class_=\"ValueCurrency_item_cost__Eb_37\")\n",
    "tipo_de_cambio = {\n",
    "    \"sunat\": {\n",
    "        \"compra\": float(data[0].text),\n",
    "        \"venta\": float(data[1].text),\n",
    "    },\n",
    "    \"paralelo\": {\n",
    "        \"compra\": float(data[2].text),\n",
    "        \"venta\": float(data[3].text),\n",
    "    }\n",
    "}\n",
    "print(tipo_de_cambio)"
   ]
  },
  {
   "cell_type": "markdown",
   "id": "41ec2006",
   "metadata": {},
   "source": [
    "## apis"
   ]
  },
  {
   "cell_type": "code",
   "execution_count": null,
   "id": "f6d2706d",
   "metadata": {},
   "outputs": [],
   "source": [
    "# https://github.com/public-apis/public-apis\n",
    "\n",
    "import requests\n",
    "\n",
    "x = requests.get(\"https://ipinfo.io\")\n",
    "print(x.status_code)\n",
    "print(x.text)\n",
    "print(\"-----\")\n",
    "print(x.json())\n",
    "\n",
    "data = x.json()\n",
    "print(\"based on your ip, you are in {}\".format(data[\"city\"]))"
   ]
  },
  {
   "cell_type": "code",
   "execution_count": null,
   "id": "5a5308f5",
   "metadata": {},
   "outputs": [],
   "source": [
    "# https://pokeapi.co/\n",
    "\n",
    "def get_pokemon_data(pokemon_name):\n",
    "    raw = requests.get(\"https://pokeapi.co/api/v2/pokemon/{}\".format(pokemon_name))\n",
    "    data = raw.json()\n",
    "    return {\n",
    "        \"weight\": data[\"weight\"],\n",
    "        \"height\": data[\"height\"],\n",
    "        \"name\": data[\"name\"],\n",
    "        \"type\": [x[\"type\"][\"name\"] for x in data[\"types\"]],\n",
    "    }\n",
    "\n",
    "get_pokemon_data(\"pikachu\")"
   ]
  },
  {
   "cell_type": "code",
   "execution_count": null,
   "id": "7dafb83a",
   "metadata": {},
   "outputs": [],
   "source": [
    "type_search = \"electric\"\n",
    "\n",
    "raw = requests.get(\"https://pokeapi.co/api/v2/pokemon?limit=100&offset=0\")\n",
    "data = raw.json()\n",
    "for x in data[\"results\"]:\n",
    "    raw2 = requests.get(x[\"url\"])\n",
    "    data2 = raw2.json()\n",
    "    data2_types = [x[\"type\"][\"name\"] for x in data2[\"types\"]]\n",
    "    if type_search in data2_types:\n",
    "        print(x[\"name\"])"
   ]
  },
  {
   "cell_type": "markdown",
   "id": "e6127ca7",
   "metadata": {},
   "source": [
    "## scraper"
   ]
  },
  {
   "cell_type": "code",
   "execution_count": null,
   "id": "bdc8fb03",
   "metadata": {},
   "outputs": [],
   "source": [
    "raw = requests.get(\"https://www.imdb.com/es-es/list/ls024149810/\", headers={\n",
    "    \"Host\": \"www.imdb.com\",\n",
    "    \"User-Agent\": \"Mozilla/5.0 (X11; Linux x86_64; rv:140.0) Gecko/20100101 Firefox/140.0\",\n",
    "    \"Accept\": \"text/html,application/xhtml+xml,application/xml;q=0.9,*/*;q=0.8\",\n",
    "    \"Accept-Language\": \"es-ES,es;q=0.8,en-US;q=0.5,en;q=0.3\",\n",
    "    \"Accept-Encoding\": \"gzip, deflate, br, zstd\",\n",
    "    \"DNT\": \"1\",\n",
    "    \"Sec-GPC\": \"1\",\n",
    "    \"Alt-Used\": \"www.imdb.com\",\n",
    "    \"Connection\": \"keep-alive\",\n",
    "    \"Upgrade-Insecure-Requests\": \"1\",\n",
    "})\n",
    "print(raw.status_code)\n",
    "print(raw.text)"
   ]
  },
  {
   "cell_type": "code",
   "execution_count": null,
   "id": "cd5e7e6f",
   "metadata": {},
   "outputs": [],
   "source": [
    "soup = BeautifulSoup(raw.text, \"html.parser\")\n",
    "for x in soup.find_all(\"li\", class_=\"ipc-metadata-list-summary-item\")[:25]:\n",
    "    print(x.find(\"h3\", class_=\"ipc-title__text\").text)\n",
    "    for y in x.find_all(\"a\", class_=\"sttd-director-item\"):\n",
    "        print(y.text)"
   ]
  },
  {
   "cell_type": "code",
   "execution_count": null,
   "id": "7ad04b89",
   "metadata": {},
   "outputs": [],
   "source": [
    "soup = BeautifulSoup(raw.text, \"html.parser\")\n",
    "scores = []\n",
    "all_views = 0\n",
    "for x in soup.find_all(\"li\", class_=\"ipc-metadata-list-summary-item\")[:25]:\n",
    "    scores.append(float(x.find(\"span\", class_=\"metacritic-score-box\").get_text()))\n",
    "    views_raw = str(x.find(\"span\", class_=\"ipc-rating-star--voteCount\").get_text()[2:-1])\n",
    "    views_raw_number, views_raw_indicator = views_raw.split(\"\\xa0\")\n",
    "    if views_raw_indicator == \"M\":\n",
    "        all_views = all_views + float(views_raw_number.replace(\",\", \".\")) * 1000000\n",
    "    if views_raw_indicator == \"mil\":\n",
    "        all_views = all_views + float(views_raw_number.replace(\",\", \".\")) * 1000\n",
    "\n",
    "print(\"average punctuation based on meta: {}\".format(sum(scores)/len(scores)))\n",
    "print(\"all views is {}\".format(all_views))"
   ]
  },
  {
   "cell_type": "markdown",
   "id": "d4fadf39",
   "metadata": {},
   "source": [
    "## scraping - \n",
    "## pagina web - machine learning - predecir CV - mejor empleo\n",
    "## mejores empleos"
   ]
  },
  {
   "cell_type": "code",
   "execution_count": null,
   "id": "758e320b",
   "metadata": {},
   "outputs": [],
   "source": [
    "import requests\n",
    "import time\n",
    "\n",
    "# time.sleep(30)\n",
    "\n",
    "raw_data = requests.post(\"https://www.bumeran.com.pe/api/avisos/searchV2?pageSize=100&page=0&sort=RECIENTES\", headers={\n",
    "    \"Host\": \"www.bumeran.com.pe\",\n",
    "    \"User-Agent\": \"Mozilla/5.0 (X11; Linux x86_64; rv:140.0) Gecko/20100101 Firefox/140.0\",\n",
    "    \"Accept\": \"application/json\",\n",
    "    \"Accept-Language\": \"es-ES,es;q=0.8,en-US;q=0.5,en;q=0.3\",\n",
    "    \"Accept-Encoding\": \"gzip, deflate, br, zstd\",\n",
    "    \"Content-Type\": \"application/json\",\n",
    "    \"x-site-id\": \"BMPE\",\n",
    "    \"Origin\": \"https://www.bumeran.com.pe\",\n",
    "    \"DNT\": \"1\",\n",
    "    \"Connection\": \"keep-alive\",\n",
    "    \"Referer\": \"https://www.bumeran.com.pe/empleos.html\",\n",
    "    \"TE\": \"trailers\",\n",
    "})\n",
    "print(raw_data.status_code)\n",
    "print(raw_data.text)"
   ]
  },
  {
   "cell_type": "code",
   "execution_count": null,
   "id": "9bf0a6a8",
   "metadata": {},
   "outputs": [],
   "source": [
    "data = raw_data.json()\n",
    "print(data)"
   ]
  },
  {
   "cell_type": "code",
   "execution_count": null,
   "id": "6c623238",
   "metadata": {},
   "outputs": [],
   "source": [
    "!pip install python-slugify"
   ]
  },
  {
   "cell_type": "code",
   "execution_count": null,
   "id": "6394e604",
   "metadata": {},
   "outputs": [],
   "source": [
    "from slugify import slugify\n",
    "\n",
    "titulo = \"Funcionario de Negocios / Hibrido\"\n",
    "empresa = \" ADN SELECTION S.A.C.\"\n",
    "id = 1117728766\n",
    "\n",
    "# https://www.bumeran.com.pe/empleos/funcionario-de-negocios-hibrido-adn-selection-s.a.c.-1117728766.html\n",
    "\n",
    "url = \"https://www.bumeran.com.pe/empleos/{}-{}-{}.html\".format(slugify(titulo), slugify(empresa), id)\n",
    "print(url)"
   ]
  },
  {
   "cell_type": "code",
   "execution_count": null,
   "id": "22785798",
   "metadata": {},
   "outputs": [],
   "source": [
    "import requests\n",
    "import time\n",
    "\n",
    "results = []\n",
    "for i in range(1, 6):\n",
    "    raw_data = requests.post(\"https://www.bumeran.com.pe/api/avisos/searchV2?pageSize=100&page={}&sort=RECIENTES\".format(i - 1), headers={\n",
    "        \"Host\": \"www.bumeran.com.pe\",\n",
    "        \"User-Agent\": \"Mozilla/5.0 (X11; Linux x86_64; rv:140.0) Gecko/20100101 Firefox/140.0\",\n",
    "        \"Accept\": \"application/json\",\n",
    "        \"Accept-Language\": \"es-ES,es;q=0.8,en-US;q=0.5,en;q=0.3\",\n",
    "        \"Accept-Encoding\": \"gzip, deflate, br, zstd\",\n",
    "        \"Content-Type\": \"application/json\",\n",
    "        \"x-site-id\": \"BMPE\",\n",
    "        \"Origin\": \"https://www.bumeran.com.pe\",\n",
    "        \"DNT\": \"1\",\n",
    "        \"Connection\": \"keep-alive\",\n",
    "        \"Referer\": \"https://www.bumeran.com.pe/empleos.html\",\n",
    "        \"TE\": \"trailers\",\n",
    "    })\n",
    "    if raw_data.ok:\n",
    "        results.extend(raw_data.json()[\"content\"])\n",
    "    time.sleep(5)\n",
    "\n",
    "print(len(results))"
   ]
  },
  {
   "cell_type": "code",
   "execution_count": null,
   "id": "0e5fe633",
   "metadata": {},
   "outputs": [],
   "source": [
    "import csv\n",
    "from slugify import slugify\n",
    "from datetime import datetime\n",
    "\n",
    "def clean_text(text):\n",
    "    return text.lower().replace(\"á\", \"a\").replace(\"é\", \"e\").replace(\"í\", \"i\").replace(\"ó\", \"o\").replace(\"ú\", \"u\").replace(\".\", \"\").replace(\",\", \"\")\n",
    "\n",
    "with open(\"./03/jobs.csv\", \"w\") as csv_file:\n",
    "    writer = csv.DictWriter(\n",
    "        csv_file,\n",
    "        fieldnames = [\n",
    "            \"FECHA_SCRAPING\",\n",
    "            \"EMPRESA\",\n",
    "            \"PUESTO\",\n",
    "            \"PUESTO_LIMPIO\",\n",
    "            \"DESCRIPCION\",\n",
    "            \"DESCRIPCION_LIMPIO\",\n",
    "            \"URL\",\n",
    "        ]\n",
    "    )\n",
    "    writer.writeheader()\n",
    "    for row in results:\n",
    "        writer.writerow({\n",
    "            \"FECHA_SCRAPING\": datetime.now().strftime(\"%Y-%m-%d %H:%M:%S\"),\n",
    "            \"EMPRESA\": row[\"empresa\"],\n",
    "            \"PUESTO\": row[\"titulo\"],\n",
    "            \"PUESTO_LIMPIO\": clean_text(row[\"titulo\"]),\n",
    "            \"DESCRIPCION\": row[\"detalle\"],\n",
    "            \"DESCRIPCION_LIMPIO\": clean_text(row[\"detalle\"]),\n",
    "            \"URL\": \"https://www.bumeran.com.pe/empleos/{}-{}-{}.html\".format(slugify(row[\"titulo\"]), slugify(row[\"empresa\"]), row[\"id\"])\n",
    "        })\n"
   ]
  },
  {
   "cell_type": "code",
   "execution_count": null,
   "id": "960e4998",
   "metadata": {},
   "outputs": [],
   "source": [
    "# usando pickle\n",
    "\n",
    "import pickle\n",
    "\n",
    "pickle.dump(results, open(\"./03/jobs.pickle\", \"wb\"), protocol=pickle.HIGHEST_PROTOCOL)"
   ]
  },
  {
   "cell_type": "markdown",
   "id": "384498ec",
   "metadata": {},
   "source": [
    "## scraping"
   ]
  },
  {
   "cell_type": "code",
   "execution_count": null,
   "id": "36e37050",
   "metadata": {},
   "outputs": [],
   "source": [
    "!pip install playwright==1.48.0\n",
    "!playwright install"
   ]
  },
  {
   "cell_type": "code",
   "execution_count": null,
   "id": "f30304e4",
   "metadata": {},
   "outputs": [],
   "source": [
    "from playwright.async_api import async_playwright\n",
    "\n",
    "pw = await async_playwright().start()\n",
    "browser = await pw.firefox.launch(headless = True)\n",
    "page = await browser.new_page()\n",
    "await page.goto(\"https://www.adondevivir.com/departamentos-en-alquiler-en-lima-provincia.html\")\n",
    "title = await page.title()\n",
    "print(title)\n",
    "await page.screenshot(path=\"./03/screenshot.png\")\n",
    "raw_data = await page.content()\n",
    "print(raw_data)\n",
    "await browser.close()"
   ]
  },
  {
   "cell_type": "code",
   "execution_count": null,
   "id": "c21444fb",
   "metadata": {},
   "outputs": [],
   "source": [
    "!pip install beautifulsoup4"
   ]
  },
  {
   "cell_type": "code",
   "execution_count": null,
   "id": "a6ae601b",
   "metadata": {},
   "outputs": [],
   "source": [
    "from bs4 import BeautifulSoup\n",
    "\n",
    "soup = BeautifulSoup(raw_data, 'html.parser')\n",
    "for x in soup.find_all(\"div\", class_=\"postingsList-module__card-container\"):\n",
    "    size_max = None\n",
    "    size_min = None\n",
    "    for y in x.find_all(\"span\", class_=\"postingMainFeatures-module__posting-main-features-span postingMainFeatures-module__posting-main-features-listing\"):\n",
    "        if \"m² tot.\" in y.text:\n",
    "            size = y.text.replace(\" m² tot.\", \"\")\n",
    "            size_min = size\n",
    "            size_max = size\n",
    "            if \" a \" in size:\n",
    "                size_min, size_max = size.split(\" a \")\n",
    "    if size_min:\n",
    "        size_min = int(size_min)\n",
    "    if size_max:\n",
    "        size_max = int(size_max)\n",
    "    services = [y.text for y in x.find_all(\"span\", class_=\"postingCard-module__pill-item-feature\")]\n",
    "    price = x.find(\"div\", class_=\"postingPrices-module__price\").text\n",
    "    price_PEN = price\n",
    "    price_USD = None\n",
    "    if \" · \" in price:\n",
    "        price_PEN, price_USD = price.split(\" · \")\n",
    "    price_PEN = price_PEN.replace(\"S/ \", \"\")\n",
    "    price_PEN = price_PEN.replace(\",\", \"\")\n",
    "    price_PEN = int(price_PEN)\n",
    "    if price_USD:\n",
    "        price_USD = price_USD.replace(\"USD \", \"\")\n",
    "        price_USD = price_USD.replace(\",\", \"\")\n",
    "        price_USD = int(price_USD)\n",
    "    print({\n",
    "        \"size\": {\n",
    "            \"max\": size_max,\n",
    "            \"min\": size_min,\n",
    "        },\n",
    "        \"price\": {\n",
    "            \"PEN\": price_PEN,\n",
    "            \"USD\": price_USD,\n",
    "        },\n",
    "        \"services\": services,\n",
    "        \"address\": x.find(\"div\", class_=\"postingLocations-module__location-address\").text,\n",
    "        \"location\": x.find(\"h2\", class_=\"postingLocations-module__location-text\").text,\n",
    "    })\n"
   ]
  }
 ],
 "metadata": {
  "kernelspec": {
   "display_name": ".venv",
   "language": "python",
   "name": "python3"
  },
  "language_info": {
   "codemirror_mode": {
    "name": "ipython",
    "version": 3
   },
   "file_extension": ".py",
   "mimetype": "text/x-python",
   "name": "python",
   "nbconvert_exporter": "python",
   "pygments_lexer": "ipython3",
   "version": "3.11.2"
  }
 },
 "nbformat": 4,
 "nbformat_minor": 5
}
