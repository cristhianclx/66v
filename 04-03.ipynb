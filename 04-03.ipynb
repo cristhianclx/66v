{
 "cells": [
  {
   "cell_type": "code",
   "execution_count": null,
   "id": "e9da9b55",
   "metadata": {},
   "outputs": [],
   "source": [
    "import pandas as pd\n",
    "\n",
    "data = pd.read_csv('./04/diabetes.csv')\n",
    "data.head()"
   ]
  },
  {
   "cell_type": "code",
   "execution_count": null,
   "id": "7a62a8b4",
   "metadata": {},
   "outputs": [],
   "source": [
    "data.info()"
   ]
  },
  {
   "cell_type": "code",
   "execution_count": null,
   "id": "27300ff3",
   "metadata": {},
   "outputs": [],
   "source": [
    "features = data[['Pregnancies', 'Glucose', 'BloodPressure', 'SkinThickness', 'Insulin', 'BMI', 'DiabetesPedigreeFunction', 'Age']]\n",
    "target = data.Outcome"
   ]
  },
  {
   "cell_type": "code",
   "execution_count": null,
   "id": "9db30429",
   "metadata": {},
   "outputs": [],
   "source": [
    "from sklearn.model_selection import train_test_split\n",
    "\n",
    "x_train, x_test, y_train, y_test = train_test_split(features, target, test_size=0.25, random_state=42)"
   ]
  },
  {
   "cell_type": "code",
   "execution_count": null,
   "id": "b82bb4a3",
   "metadata": {},
   "outputs": [],
   "source": [
    "from sklearn.linear_model import LogisticRegression\n",
    "from sklearn.metrics import confusion_matrix, classification_report\n",
    "\n",
    "reg_log_model = LogisticRegression()\n",
    "reg_log_model.fit(x_train, y_train)\n",
    "reg_log_model_predictions = reg_log_model.predict(x_test)\n",
    "\n",
    "print(confusion_matrix(y_test, reg_log_model_predictions))"
   ]
  },
  {
   "cell_type": "code",
   "execution_count": null,
   "id": "6838d1c1",
   "metadata": {},
   "outputs": [],
   "source": [
    "print(classification_report(y_test, reg_log_model_predictions))"
   ]
  },
  {
   "cell_type": "code",
   "execution_count": null,
   "id": "ccf987be",
   "metadata": {},
   "outputs": [],
   "source": [
    "import matplotlib.pyplot as plt\n",
    "import seaborn as sns\n",
    "\n",
    "plt.figure(figsize=(12, 10))\n",
    "sns.heatmap(data.corr(), annot=True, cmap=\"coolwarm\")\n",
    "plt.title(\"Correlation Matrix\")\n",
    "plt.show()"
   ]
  },
  {
   "cell_type": "code",
   "execution_count": null,
   "id": "17e52bfc",
   "metadata": {},
   "outputs": [],
   "source": [
    "sns.countplot(x=\"Outcome\", data=data)\n",
    "plt.title(\"Dist by Outcome\")\n",
    "plt.show()"
   ]
  }
 ],
 "metadata": {
  "kernelspec": {
   "display_name": ".venv",
   "language": "python",
   "name": "python3"
  },
  "language_info": {
   "codemirror_mode": {
    "name": "ipython",
    "version": 3
   },
   "file_extension": ".py",
   "mimetype": "text/x-python",
   "name": "python",
   "nbconvert_exporter": "python",
   "pygments_lexer": "ipython3",
   "version": "3.11.2"
  }
 },
 "nbformat": 4,
 "nbformat_minor": 5
}
