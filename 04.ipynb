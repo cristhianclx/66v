{
 "cells": [
  {
   "cell_type": "markdown",
   "id": "9b1fcf5b",
   "metadata": {},
   "source": [
    "## numpy"
   ]
  },
  {
   "cell_type": "code",
   "execution_count": 1,
   "id": "bfc2ecdf",
   "metadata": {},
   "outputs": [
    {
     "name": "stdout",
     "output_type": "stream",
     "text": [
      "Requirement already satisfied: numpy in ./.venv/lib/python3.11/site-packages (2.2.6)\n"
     ]
    }
   ],
   "source": [
    "!pip install numpy"
   ]
  },
  {
   "cell_type": "code",
   "execution_count": 8,
   "id": "5d16997d",
   "metadata": {},
   "outputs": [
    {
     "name": "stdout",
     "output_type": "stream",
     "text": [
      "[[  0   1   2   3   4]\n",
      " [-99   6 -99   8 -99]\n",
      " [-99  11 -99  13 -99]]\n"
     ]
    },
    {
     "data": {
      "text/plain": [
       "array([ 0.75495523, -0.32639148, -0.10550946, ..., -0.39019491,\n",
       "        0.30400119,  0.10813255], shape=(2500,))"
      ]
     },
     "execution_count": 8,
     "metadata": {},
     "output_type": "execute_result"
    }
   ],
   "source": [
    "import numpy as np\n",
    "\n",
    "x = np.arange(15, dtype=np.int64).reshape(3, 5)\n",
    "\n",
    "x[1:, ::2] = -99\n",
    "x\n",
    "print(x)\n",
    "\n",
    "x.max(axis=1)\n",
    "\n",
    "rng = np.random.default_rng()\n",
    "samples = rng.normal(size=2500)\n",
    "samples\n"
   ]
  },
  {
   "cell_type": "code",
   "execution_count": 11,
   "id": "f188fb42",
   "metadata": {},
   "outputs": [
    {
     "name": "stdout",
     "output_type": "stream",
     "text": [
      "[[-0.9855558  -0.1480739  -0.8833142 ]\n",
      " [-0.04871328 -0.25268979 -1.1606089 ]]\n",
      "[[ -9.85555799  -1.48073902  -8.83314201]\n",
      " [ -0.48713276  -2.52689793 -11.60608896]]\n",
      "[[-1.9711116  -0.2961478  -1.7666284 ]\n",
      " [-0.09742655 -0.50537959 -2.32121779]]\n"
     ]
    }
   ],
   "source": [
    "import numpy as np\n",
    "\n",
    "data = np.random.randn(2, 3)\n",
    "print(data)\n",
    "\n",
    "print(data*10)\n",
    "\n",
    "print(data + data)"
   ]
  },
  {
   "cell_type": "code",
   "execution_count": 15,
   "id": "fd1da057",
   "metadata": {},
   "outputs": [
    {
     "name": "stdout",
     "output_type": "stream",
     "text": [
      "[6.  7.  8.  0.  1.  1.5]\n",
      "(6,)\n"
     ]
    }
   ],
   "source": [
    "data = [6, 7, 8, 0, 1, 1.5]\n",
    "datar = np.array(data)\n",
    "print(datar)\n",
    "print(datar.shape)"
   ]
  },
  {
   "cell_type": "code",
   "execution_count": 19,
   "id": "30affa39",
   "metadata": {},
   "outputs": [
    {
     "name": "stdout",
     "output_type": "stream",
     "text": [
      "[[0. 0. 0. 0. 0.]\n",
      " [0. 0. 0. 0. 0.]\n",
      " [0. 0. 0. 0. 0.]\n",
      " [0. 0. 0. 0. 0.]]\n",
      "[[1. 1. 1. 1. 1.]\n",
      " [1. 1. 1. 1. 1.]\n",
      " [1. 1. 1. 1. 1.]\n",
      " [1. 1. 1. 1. 1.]]\n",
      "[ 0  1  2  3  4  5  6  7  8  9 10 11 12 13 14 15 16 17 18 19]\n"
     ]
    }
   ],
   "source": [
    "print(np.zeros((4, 5)))\n",
    "print(np.ones((4, 5)))\n",
    "print(np.arange(20))"
   ]
  },
  {
   "cell_type": "code",
   "execution_count": 23,
   "id": "4ebef99b",
   "metadata": {},
   "outputs": [
    {
     "name": "stdout",
     "output_type": "stream",
     "text": [
      "[[ 1  4  9]\n",
      " [16 25 36]]\n",
      "[[0 0 0]\n",
      " [0 0 0]]\n",
      "[[1.         0.5        0.33333333]\n",
      " [0.25       0.2        0.16666667]]\n"
     ]
    }
   ],
   "source": [
    "data = np.array([\n",
    "    [1, 2, 3],\n",
    "    [4, 5, 6]\n",
    "])\n",
    "print(data * data)\n",
    "print(data - data)\n",
    "print(1 / data)"
   ]
  },
  {
   "cell_type": "code",
   "execution_count": 26,
   "id": "523688a0",
   "metadata": {},
   "outputs": [
    {
     "name": "stdout",
     "output_type": "stream",
     "text": [
      "[0 1 2 3 4 5 6 7 8 9]\n",
      "5\n",
      "[5 6 7]\n"
     ]
    }
   ],
   "source": [
    "data = np.arange(10)\n",
    "print(data)\n",
    "print(data[5])\n",
    "print(data[5:8])"
   ]
  },
  {
   "cell_type": "code",
   "execution_count": 31,
   "id": "3173e74c",
   "metadata": {},
   "outputs": [
    {
     "name": "stdout",
     "output_type": "stream",
     "text": [
      "[[1 2 3]\n",
      " [4 5 6]\n",
      " [7 8 9]]\n",
      "3\n",
      "3\n",
      "[[1 2 3]\n",
      " [4 5 6]]\n",
      "[[1 2]\n",
      " [4 5]\n",
      " [7 8]]\n"
     ]
    }
   ],
   "source": [
    "data = np.array([ [1, 2, 3], [4, 5, 6], [7, 8, 9] ])\n",
    "print(data)\n",
    "print(data[0][2])\n",
    "print(data[0,2])\n",
    "print(data[:2])\n",
    "print(data[:, :2])"
   ]
  },
  {
   "cell_type": "code",
   "execution_count": null,
   "id": "ce32cded",
   "metadata": {},
   "outputs": [
    {
     "name": "stdout",
     "output_type": "stream",
     "text": [
      "[ 0  1  2  3  4  5  6  7  8  9 10 11 12 13 14 15 16 17 18 19 20 21 22 23\n",
      " 24 25 26 27 28 29 30 31]\n",
      "[[ 0  1  2  3]\n",
      " [ 4  5  6  7]\n",
      " [ 8  9 10 11]\n",
      " [12 13 14 15]\n",
      " [16 17 18 19]\n",
      " [20 21 22 23]\n",
      " [24 25 26 27]\n",
      " [28 29 30 31]]\n",
      "[ 0  1  2  3  4  5  6  7  8  9 10 11 12 13 14 15 16 17 18 19 20 21 22 23\n",
      " 24 25 26 27 28 29 30 31]\n"
     ]
    }
   ],
   "source": [
    "data = np.arange(32)\n",
    "print(data)\n",
    "\n",
    "print(data.reshape(8, 4))\n",
    "\n",
    "print(data.T)"
   ]
  },
  {
   "cell_type": "code",
   "execution_count": 36,
   "id": "3c7f33a6",
   "metadata": {},
   "outputs": [
    {
     "name": "stdout",
     "output_type": "stream",
     "text": [
      "[0 1 2 3 4 5 6 7 8 9]\n",
      "[0.         1.         1.41421356 1.73205081 2.         2.23606798\n",
      " 2.44948974 2.64575131 2.82842712 3.        ]\n"
     ]
    }
   ],
   "source": [
    "data = np.arange(10)\n",
    "print(data)\n",
    "print(np.sqrt(data))"
   ]
  },
  {
   "cell_type": "code",
   "execution_count": 56,
   "id": "2175fe0c",
   "metadata": {},
   "outputs": [
    {
     "data": {
      "text/plain": [
       "array([1, 3, 3, 9, 2, 9, 2, 9, 4, 4])"
      ]
     },
     "execution_count": 56,
     "metadata": {},
     "output_type": "execute_result"
    }
   ],
   "source": [
    "np.random.randint(1, 10, 10)"
   ]
  },
  {
   "cell_type": "code",
   "execution_count": 63,
   "id": "e1e9e935",
   "metadata": {},
   "outputs": [
    {
     "data": {
      "text/plain": [
       "array([1, 9, 8, 2, 8, 7, 4, 7, 7, 1])"
      ]
     },
     "execution_count": 63,
     "metadata": {},
     "output_type": "execute_result"
    }
   ],
   "source": [
    "np.random.seed(153)\n",
    "np.random.randint(1, 10, 10)"
   ]
  },
  {
   "cell_type": "code",
   "execution_count": 68,
   "id": "ad1e578b",
   "metadata": {},
   "outputs": [
    {
     "name": "stdout",
     "output_type": "stream",
     "text": [
      "[ 1  2  3  4  5  6  7  8  9 10 11 12 13 14 15 16 17 18 19 20 21 22 23 24\n",
      " 25 26 27 28 29 30 31 32 33 34 35 36 37 38 39 40 41 42 43 44 45 46 47 48\n",
      " 49]\n",
      "25.0\n",
      "1225\n",
      "14.142135623730951\n"
     ]
    }
   ],
   "source": [
    "data = np.arange(1, 50)\n",
    "print(data)\n",
    "\n",
    "print(data.mean())\n",
    "print(data.sum())\n",
    "print(data.std())"
   ]
  },
  {
   "cell_type": "code",
   "execution_count": 71,
   "id": "3366d2c3",
   "metadata": {},
   "outputs": [
    {
     "name": "stdout",
     "output_type": "stream",
     "text": [
      "[5 1 2 6 1 4 2 3 8 1]\n"
     ]
    },
    {
     "data": {
      "text/plain": [
       "[<matplotlib.lines.Line2D at 0x7f01e4fbb550>]"
      ]
     },
     "execution_count": 71,
     "metadata": {},
     "output_type": "execute_result"
    },
    {
     "data": {
      "image/png": "[encoded data removed]",
      "text/plain": [
       "<Figure size 640x480 with 1 Axes>"
      ]
     },
     "metadata": {},
     "output_type": "display_data"
    }
   ],
   "source": [
    "import random\n",
    "import matplotlib.pyplot as plt\n",
    "%matplotlib inline\n",
    "np.random.seed(43)\n",
    "data = np.random.randint(1, 10, 10)\n",
    "print(data)\n",
    "plt.plot(data)"
   ]
  },
  {
   "cell_type": "code",
   "execution_count": 74,
   "id": "c93a5976",
   "metadata": {},
   "outputs": [
    {
     "name": "stdout",
     "output_type": "stream",
     "text": [
      "[5 1 2 6 3 1 4 2 4 4]\n"
     ]
    },
    {
     "data": {
      "text/plain": [
       "[<matplotlib.lines.Line2D at 0x7f01e4ee8fd0>]"
      ]
     },
     "execution_count": 74,
     "metadata": {},
     "output_type": "execute_result"
    },
    {
     "data": {
      "image/png": "[encoded data removed]",
      "text/plain": [
       "<Figure size 640x480 with 1 Axes>"
      ]
     },
     "metadata": {},
     "output_type": "display_data"
    }
   ],
   "source": [
    "import matplotlib.pyplot as plt\n",
    "\n",
    "%matplotlib inline\n",
    "\n",
    "np.random.seed(43)\n",
    "\n",
    "data = np.random.randint(1, 7, 10)\n",
    "print(data)\n",
    "plt.plot(data)"
   ]
  },
  {
   "cell_type": "code",
   "execution_count": 75,
   "id": "462b62cd",
   "metadata": {},
   "outputs": [
    {
     "name": "stdout",
     "output_type": "stream",
     "text": [
      "[3 1 4 3 4 4 2 2 3 4 3 4 6 5 5 1 6 5 1 5 1 3 5 1 2 3 1 5 5 1]\n"
     ]
    },
    {
     "data": {
      "text/plain": [
       "[<matplotlib.lines.Line2D at 0x7f01e4f4e250>]"
      ]
     },
     "execution_count": 75,
     "metadata": {},
     "output_type": "execute_result"
    },
    {
     "data": {
      "image/png": "[encoded data removed]",
      "text/plain": [
       "<Figure size 640x480 with 1 Axes>"
      ]
     },
     "metadata": {},
     "output_type": "display_data"
    }
   ],
   "source": [
    "data = np.random.randint(1, 7, 30)\n",
    "print(data)\n",
    "plt.plot(data)"
   ]
  },
  {
   "cell_type": "markdown",
   "id": "60ff2c91",
   "metadata": {},
   "source": [
    "## pandas"
   ]
  },
  {
   "cell_type": "code",
   "execution_count": 76,
   "id": "b43b83de",
   "metadata": {},
   "outputs": [
    {
     "name": "stdout",
     "output_type": "stream",
     "text": [
      "Requirement already satisfied: pandas in ./.venv/lib/python3.11/site-packages (2.2.3)\n",
      "Requirement already satisfied: numpy>=1.23.2 in ./.venv/lib/python3.11/site-packages (from pandas) (2.2.6)\n",
      "Requirement already satisfied: python-dateutil>=2.8.2 in ./.venv/lib/python3.11/site-packages (from pandas) (2.9.0.post0)\n",
      "Requirement already satisfied: pytz>=2020.1 in ./.venv/lib/python3.11/site-packages (from pandas) (2025.2)\n",
      "Requirement already satisfied: tzdata>=2022.7 in ./.venv/lib/python3.11/site-packages (from pandas) (2025.2)\n",
      "Requirement already satisfied: six>=1.5 in ./.venv/lib/python3.11/site-packages (from python-dateutil>=2.8.2->pandas) (1.17.0)\n"
     ]
    }
   ],
   "source": [
    "!pip install pandas"
   ]
  },
  {
   "cell_type": "code",
   "execution_count": 81,
   "id": "f330c5d3",
   "metadata": {},
   "outputs": [
    {
     "name": "stdout",
     "output_type": "stream",
     "text": [
      "x    4\n",
      "y    5\n",
      "z    6\n",
      "k    7\n",
      "dtype: int64\n",
      "5\n",
      "y    5\n",
      "k    7\n",
      "dtype: int64\n",
      "z    6\n",
      "k    7\n",
      "dtype: int64\n"
     ]
    }
   ],
   "source": [
    "import pandas as pd\n",
    "\n",
    "data = pd.Series([4, 5, 6, 7], index=['x', 'y', 'z', 'k'])\n",
    "print(data)\n",
    "\n",
    "print(data[\"y\"])\n",
    "print(data[['y', 'k']])\n",
    "\n",
    "print(data[data > 5])"
   ]
  },
  {
   "cell_type": "code",
   "execution_count": 84,
   "id": "e41ede91",
   "metadata": {},
   "outputs": [
    {
     "name": "stdout",
     "output_type": "stream",
     "text": [
      "Lima     20000\n",
      "Tacna    71000\n",
      "Ica      50000\n",
      "dtype: int64\n",
      "Tacna    71000\n",
      "Ica      50000\n",
      "dtype: int64\n"
     ]
    }
   ],
   "source": [
    "data = {\"Lima\": 20000, \"Tacna\": 71000, \"Ica\": 50000}\n",
    "data_s = pd.Series(data)\n",
    "print(data_s)\n",
    "\n",
    "print(data_s[data_s > 30000])"
   ]
  },
  {
   "cell_type": "code",
   "execution_count": 90,
   "id": "f1d9ca9b",
   "metadata": {},
   "outputs": [
    {
     "name": "stdout",
     "output_type": "stream",
     "text": [
      "     city  year  hab\n",
      "0    Lima  2000  2.1\n",
      "1   Tacna  2000  1.1\n",
      "2     Ica  2000  1.3\n",
      "3  Callao  2000  0.8\n",
      "4    Lima  2001  2.2\n",
      "5   Tacna  2001  1.2\n",
      "6     Ica  2001  1.4\n",
      "7  Callao  2001  0.7\n",
      "     city  year  hab\n",
      "0    Lima  2000  2.1\n",
      "1   Tacna  2000  1.1\n",
      "2     Ica  2000  1.3\n",
      "3  Callao  2000  0.8\n",
      "     city  year  hab\n",
      "4    Lima  2001  2.2\n",
      "5   Tacna  2001  1.2\n",
      "6     Ica  2001  1.4\n",
      "7  Callao  2001  0.7\n",
      "   year    city  hab\n",
      "0  2000    Lima  2.1\n",
      "1  2000   Tacna  1.1\n",
      "2  2000     Ica  1.3\n",
      "3  2000  Callao  0.8\n",
      "4  2001    Lima  2.2\n",
      "5  2001   Tacna  1.2\n",
      "6  2001     Ica  1.4\n",
      "7  2001  Callao  0.7\n",
      "0      Lima\n",
      "1     Tacna\n",
      "2       Ica\n",
      "3    Callao\n",
      "4      Lima\n",
      "5     Tacna\n",
      "6       Ica\n",
      "7    Callao\n",
      "Name: city, dtype: object\n",
      "0      Lima\n",
      "1     Tacna\n",
      "2       Ica\n",
      "3    Callao\n",
      "4      Lima\n",
      "5     Tacna\n",
      "6       Ica\n",
      "7    Callao\n",
      "Name: city, dtype: object\n"
     ]
    }
   ],
   "source": [
    "data = {\n",
    "    \"city\": [\"Lima\", \"Tacna\", \"Ica\", \"Callao\", \"Lima\", \"Tacna\", \"Ica\", \"Callao\"],\n",
    "    \"year\": [2000, 2000, 2000, 2000, 2001, 2001, 2001, 2001],\n",
    "    \"hab\": [2.1, 1.1, 1.3, 0.8, 2.2, 1.2, 1.4, 0.7]\n",
    "}\n",
    "\n",
    "frame = pd.DataFrame(data)\n",
    "print(frame)\n",
    "\n",
    "print(frame.head(4))\n",
    "print(frame.tail(4))\n",
    "\n",
    "print(pd.DataFrame(data, columns=[\"year\", \"city\" ,\"hab\"]))\n",
    "\n",
    "print(frame[\"city\"])\n",
    "print(frame.city)"
   ]
  },
  {
   "cell_type": "code",
   "execution_count": 92,
   "id": "9b4b7614",
   "metadata": {},
   "outputs": [
    {
     "name": "stdout",
     "output_type": "stream",
     "text": [
      "     city  year  hab\n",
      "0    Lima  2000  2.1\n",
      "1   Tacna  2000  1.1\n",
      "2     Ica  2000  1.3\n",
      "3  Callao  2000  0.8\n",
      "4    Lima  2001  2.2\n",
      "5   Tacna  2001  1.2\n",
      "6     Ica  2001  1.4\n",
      "7  Callao  2001  0.7\n",
      "     city  year  hab  new_data\n",
      "0    Lima  2000  2.1         0\n",
      "1   Tacna  2000  1.1         1\n",
      "2     Ica  2000  1.3         2\n",
      "3  Callao  2000  0.8         3\n",
      "4    Lima  2001  2.2         4\n",
      "5   Tacna  2001  1.2         5\n",
      "6     Ica  2001  1.4         6\n",
      "7  Callao  2001  0.7         7\n"
     ]
    }
   ],
   "source": [
    "print(frame)\n",
    "frame[\"new_data\"] = np.arange(8)\n",
    "print(frame)"
   ]
  },
  {
   "cell_type": "code",
   "execution_count": 93,
   "id": "c4bb344f",
   "metadata": {},
   "outputs": [
    {
     "data": {
      "text/plain": [
       "array([['Lima', 2000, 2.1, 0],\n",
       "       ['Tacna', 2000, 1.1, 1],\n",
       "       ['Ica', 2000, 1.3, 2],\n",
       "       ['Callao', 2000, 0.8, 3],\n",
       "       ['Lima', 2001, 2.2, 4],\n",
       "       ['Tacna', 2001, 1.2, 5],\n",
       "       ['Ica', 2001, 1.4, 6],\n",
       "       ['Callao', 2001, 0.7, 7]], dtype=object)"
      ]
     },
     "execution_count": 93,
     "metadata": {},
     "output_type": "execute_result"
    }
   ],
   "source": [
    "frame.values"
   ]
  },
  {
   "cell_type": "code",
   "execution_count": 95,
   "id": "98707ccb",
   "metadata": {},
   "outputs": [
    {
     "name": "stdout",
     "output_type": "stream",
     "text": [
      "     city  year  hab  new_data\n",
      "0    Lima  2000  2.1         0\n",
      "1   Tacna  2000  1.1         1\n",
      "2     Ica  2000  1.3         2\n",
      "3  Callao  2000  0.8         3\n",
      "4    Lima  2001  2.2         4\n",
      "5   Tacna  2001  1.2         5\n",
      "6     Ica  2001  1.4         6\n",
      "7  Callao  2001  0.7         7\n",
      "     city  year  hab\n",
      "0    Lima  2000  2.1\n",
      "1   Tacna  2000  1.1\n",
      "2     Ica  2000  1.3\n",
      "3  Callao  2000  0.8\n",
      "4    Lima  2001  2.2\n",
      "5   Tacna  2001  1.2\n",
      "6     Ica  2001  1.4\n",
      "7  Callao  2001  0.7\n"
     ]
    }
   ],
   "source": [
    "print(frame)\n",
    "\n",
    "frame.drop('new_data', inplace=True, axis=1)\n",
    "print(frame)"
   ]
  },
  {
   "cell_type": "code",
   "execution_count": 97,
   "id": "0fdee261",
   "metadata": {},
   "outputs": [
    {
     "name": "stdout",
     "output_type": "stream",
     "text": [
      "     city  year  hab\n",
      "0    Lima  2000  2.1\n",
      "1   Tacna  2000  1.1\n",
      "2     Ica  2000  1.3\n",
      "3  Callao  2000  0.8\n",
      "4    Lima  2001  2.2\n",
      "5   Tacna  2001  1.2\n",
      "6     Ica  2001  1.4\n",
      "7  Callao  2001  0.7\n",
      "     city  year  hab\n",
      "1   Tacna  2000  1.1\n",
      "2     Ica  2000  1.3\n",
      "3  Callao  2000  0.8\n",
      "4    Lima  2001  2.2\n",
      "5   Tacna  2001  1.2\n",
      "6     Ica  2001  1.4\n",
      "7  Callao  2001  0.7\n"
     ]
    }
   ],
   "source": [
    "print(frame)\n",
    "frame = frame.drop(0)\n",
    "print(frame)"
   ]
  },
  {
   "cell_type": "code",
   "execution_count": 98,
   "id": "236a97ba",
   "metadata": {},
   "outputs": [
    {
     "name": "stdout",
     "output_type": "stream",
     "text": [
      "a    0\n",
      "b    1\n",
      "c    2\n",
      "d    3\n",
      "e    4\n",
      "f    5\n",
      "dtype: int64\n"
     ]
    }
   ],
   "source": [
    "data = pd.Series(np.arange(6), index=['a', 'b', 'c', 'd', 'e', 'f'])\n",
    "print(data)"
   ]
  },
  {
   "cell_type": "code",
   "execution_count": 104,
   "id": "59d8df9e",
   "metadata": {},
   "outputs": [
    {
     "name": "stdout",
     "output_type": "stream",
     "text": [
      "2\n",
      "d    3\n",
      "e    4\n",
      "dtype: int64\n",
      "c    2\n",
      "a    0\n",
      "dtype: int64\n",
      "a    0\n",
      "b    1\n",
      "dtype: int64\n",
      "b    1\n",
      "c    2\n",
      "dtype: int64\n"
     ]
    }
   ],
   "source": [
    "print(data['c'])\n",
    "\n",
    "print(data[3:5])\n",
    "\n",
    "print(data[['c', 'a']])\n",
    "\n",
    "print(data[data < 2])\n",
    "\n",
    "print(data['b': 'c'])"
   ]
  },
  {
   "cell_type": "code",
   "execution_count": 111,
   "id": "e4365bcb",
   "metadata": {},
   "outputs": [
    {
     "name": "stdout",
     "output_type": "stream",
     "text": [
      "        A1  B1  C1  D1\n",
      "Lima     0   1   2   3\n",
      "Tacna    4   5   6   7\n",
      "Ica      8   9  10  11\n",
      "Callao  12  13  14  15\n",
      "        D1  B1\n",
      "Lima     3   1\n",
      "Tacna    7   5\n",
      "Ica     11   9\n",
      "Callao  15  13\n",
      "        A1  B1  C1  D1\n",
      "Ica      8   9  10  11\n",
      "Callao  12  13  14  15\n",
      "----\n",
      "B1    5\n",
      "C1    6\n",
      "Name: Tacna, dtype: int64\n",
      "B1    5\n",
      "C1    6\n",
      "Name: Tacna, dtype: int64\n"
     ]
    }
   ],
   "source": [
    "data = pd.DataFrame(np.arange(16).reshape(4, 4), index=[\"Lima\", \"Tacna\", \"Ica\", \"Callao\"], columns=['A1', 'B1', 'C1', 'D1'])\n",
    "print(data)\n",
    "\n",
    "print(data[['D1', 'B1']])\n",
    "\n",
    "print(data[data['C1'] > 8])\n",
    "\n",
    "print(\"----\")\n",
    "\n",
    "print(data.loc['Tacna', ['B1', 'C1']])\n",
    "\n",
    "print(data.iloc[1, [1, 2]])"
   ]
  },
  {
   "cell_type": "code",
   "execution_count": 115,
   "id": "2cc9cc79",
   "metadata": {},
   "outputs": [
    {
     "name": "stdout",
     "output_type": "stream",
     "text": [
      "              A1        B1        C1        D1\n",
      "Lima    0.821827 -0.660134 -0.010782  0.815152\n",
      "Tacna   0.352956  2.049493  0.958649 -1.163764\n",
      "Ica    -0.612654 -0.571302 -0.535517 -0.989253\n",
      "Callao -0.535367  1.314330  0.318065  0.994900\n"
     ]
    },
    {
     "data": {
      "text/html": [
       "<div>\n",
       "<style scoped>\n",
       "    .dataframe tbody tr th:only-of-type {\n",
       "        vertical-align: middle;\n",
       "    }\n",
       "\n",
       "    .dataframe tbody tr th {\n",
       "        vertical-align: top;\n",
       "    }\n",
       "\n",
       "    .dataframe thead th {\n",
       "        text-align: right;\n",
       "    }\n",
       "</style>\n",
       "<table border=\"1\" class=\"dataframe\">\n",
       "  <thead>\n",
       "    <tr style=\"text-align: right;\">\n",
       "      <th></th>\n",
       "      <th>A1</th>\n",
       "      <th>B1</th>\n",
       "      <th>C1</th>\n",
       "      <th>D1</th>\n",
       "    </tr>\n",
       "  </thead>\n",
       "  <tbody>\n",
       "    <tr>\n",
       "      <th>Lima</th>\n",
       "      <td>1.643654</td>\n",
       "      <td>-1.320267</td>\n",
       "      <td>-0.021565</td>\n",
       "      <td>1.630304</td>\n",
       "    </tr>\n",
       "    <tr>\n",
       "      <th>Tacna</th>\n",
       "      <td>0.705911</td>\n",
       "      <td>4.098985</td>\n",
       "      <td>1.917298</td>\n",
       "      <td>-2.327527</td>\n",
       "    </tr>\n",
       "    <tr>\n",
       "      <th>Ica</th>\n",
       "      <td>-1.225308</td>\n",
       "      <td>-1.142605</td>\n",
       "      <td>-1.071034</td>\n",
       "      <td>-1.978506</td>\n",
       "    </tr>\n",
       "    <tr>\n",
       "      <th>Callao</th>\n",
       "      <td>-1.070734</td>\n",
       "      <td>2.628660</td>\n",
       "      <td>0.636130</td>\n",
       "      <td>1.989800</td>\n",
       "    </tr>\n",
       "  </tbody>\n",
       "</table>\n",
       "</div>"
      ],
      "text/plain": [
       "              A1        B1        C1        D1\n",
       "Lima    1.643654 -1.320267 -0.021565  1.630304\n",
       "Tacna   0.705911  4.098985  1.917298 -2.327527\n",
       "Ica    -1.225308 -1.142605 -1.071034 -1.978506\n",
       "Callao -1.070734  2.628660  0.636130  1.989800"
      ]
     },
     "execution_count": 115,
     "metadata": {},
     "output_type": "execute_result"
    }
   ],
   "source": [
    "data = pd.DataFrame(np.random.randn(4, 4), index=[\"Lima\", \"Tacna\", \"Ica\", \"Callao\"], columns=['A1', 'B1', 'C1', 'D1'])\n",
    "print(data)\n",
    "\n",
    "np.abs(data)\n",
    "\n",
    "data.apply(lambda x: x * 2)"
   ]
  },
  {
   "cell_type": "code",
   "execution_count": 118,
   "id": "f8f290a0",
   "metadata": {},
   "outputs": [
    {
     "name": "stdout",
     "output_type": "stream",
     "text": [
      "d    0\n",
      "a    1\n",
      "c    2\n",
      "b    3\n",
      "dtype: int64\n",
      "a    1\n",
      "b    3\n",
      "c    2\n",
      "d    0\n",
      "dtype: int64\n"
     ]
    }
   ],
   "source": [
    "data = pd.Series(range(4), index=['d', 'a', 'c', 'b'])\n",
    "print(data)\n",
    "\n",
    "data = data.sort_index()\n",
    "print(data)"
   ]
  },
  {
   "cell_type": "code",
   "execution_count": 120,
   "id": "6ec23762",
   "metadata": {},
   "outputs": [
    {
     "name": "stdout",
     "output_type": "stream",
     "text": [
      "              A1        B1        C1        D1\n",
      "Lima   -0.713674 -0.397854  0.115629 -1.565002\n",
      "Tacna   0.758051 -0.536144  1.810344 -1.639015\n",
      "Ica     1.704125 -0.441614  1.026837 -1.661757\n",
      "Callao  0.920339 -0.720131  1.023493 -0.731351\n"
     ]
    },
    {
     "data": {
      "text/html": [
       "<div>\n",
       "<style scoped>\n",
       "    .dataframe tbody tr th:only-of-type {\n",
       "        vertical-align: middle;\n",
       "    }\n",
       "\n",
       "    .dataframe tbody tr th {\n",
       "        vertical-align: top;\n",
       "    }\n",
       "\n",
       "    .dataframe thead th {\n",
       "        text-align: right;\n",
       "    }\n",
       "</style>\n",
       "<table border=\"1\" class=\"dataframe\">\n",
       "  <thead>\n",
       "    <tr style=\"text-align: right;\">\n",
       "      <th></th>\n",
       "      <th>A1</th>\n",
       "      <th>B1</th>\n",
       "      <th>C1</th>\n",
       "      <th>D1</th>\n",
       "    </tr>\n",
       "  </thead>\n",
       "  <tbody>\n",
       "    <tr>\n",
       "      <th>Tacna</th>\n",
       "      <td>0.758051</td>\n",
       "      <td>-0.536144</td>\n",
       "      <td>1.810344</td>\n",
       "      <td>-1.639015</td>\n",
       "    </tr>\n",
       "    <tr>\n",
       "      <th>Lima</th>\n",
       "      <td>-0.713674</td>\n",
       "      <td>-0.397854</td>\n",
       "      <td>0.115629</td>\n",
       "      <td>-1.565002</td>\n",
       "    </tr>\n",
       "    <tr>\n",
       "      <th>Ica</th>\n",
       "      <td>1.704125</td>\n",
       "      <td>-0.441614</td>\n",
       "      <td>1.026837</td>\n",
       "      <td>-1.661757</td>\n",
       "    </tr>\n",
       "    <tr>\n",
       "      <th>Callao</th>\n",
       "      <td>0.920339</td>\n",
       "      <td>-0.720131</td>\n",
       "      <td>1.023493</td>\n",
       "      <td>-0.731351</td>\n",
       "    </tr>\n",
       "  </tbody>\n",
       "</table>\n",
       "</div>"
      ],
      "text/plain": [
       "              A1        B1        C1        D1\n",
       "Tacna   0.758051 -0.536144  1.810344 -1.639015\n",
       "Lima   -0.713674 -0.397854  0.115629 -1.565002\n",
       "Ica     1.704125 -0.441614  1.026837 -1.661757\n",
       "Callao  0.920339 -0.720131  1.023493 -0.731351"
      ]
     },
     "execution_count": 120,
     "metadata": {},
     "output_type": "execute_result"
    }
   ],
   "source": [
    "data = pd.DataFrame(np.random.randn(4, 4), index=[\"Lima\", \"Tacna\", \"Ica\", \"Callao\"], columns=['A1', 'B1', 'C1', 'D1'])\n",
    "print(data)\n",
    "\n",
    "data.sort_index(ascending=False)"
   ]
  },
  {
   "cell_type": "code",
   "execution_count": 122,
   "id": "a2151b15",
   "metadata": {},
   "outputs": [
    {
     "data": {
      "text/html": [
       "<div>\n",
       "<style scoped>\n",
       "    .dataframe tbody tr th:only-of-type {\n",
       "        vertical-align: middle;\n",
       "    }\n",
       "\n",
       "    .dataframe tbody tr th {\n",
       "        vertical-align: top;\n",
       "    }\n",
       "\n",
       "    .dataframe thead th {\n",
       "        text-align: right;\n",
       "    }\n",
       "</style>\n",
       "<table border=\"1\" class=\"dataframe\">\n",
       "  <thead>\n",
       "    <tr style=\"text-align: right;\">\n",
       "      <th></th>\n",
       "      <th>year</th>\n",
       "      <th>hab</th>\n",
       "    </tr>\n",
       "    <tr>\n",
       "      <th>city</th>\n",
       "      <th></th>\n",
       "      <th></th>\n",
       "    </tr>\n",
       "  </thead>\n",
       "  <tbody>\n",
       "    <tr>\n",
       "      <th>Lima</th>\n",
       "      <td>2000</td>\n",
       "      <td>2.1</td>\n",
       "    </tr>\n",
       "    <tr>\n",
       "      <th>Tacna</th>\n",
       "      <td>2000</td>\n",
       "      <td>1.1</td>\n",
       "    </tr>\n",
       "    <tr>\n",
       "      <th>Ica</th>\n",
       "      <td>2000</td>\n",
       "      <td>1.3</td>\n",
       "    </tr>\n",
       "    <tr>\n",
       "      <th>Callao</th>\n",
       "      <td>2000</td>\n",
       "      <td>0.8</td>\n",
       "    </tr>\n",
       "    <tr>\n",
       "      <th>Lima</th>\n",
       "      <td>2001</td>\n",
       "      <td>2.2</td>\n",
       "    </tr>\n",
       "    <tr>\n",
       "      <th>Tacna</th>\n",
       "      <td>2001</td>\n",
       "      <td>1.2</td>\n",
       "    </tr>\n",
       "    <tr>\n",
       "      <th>Ica</th>\n",
       "      <td>2001</td>\n",
       "      <td>1.4</td>\n",
       "    </tr>\n",
       "    <tr>\n",
       "      <th>Callao</th>\n",
       "      <td>2001</td>\n",
       "      <td>0.7</td>\n",
       "    </tr>\n",
       "  </tbody>\n",
       "</table>\n",
       "</div>"
      ],
      "text/plain": [
       "        year  hab\n",
       "city             \n",
       "Lima    2000  2.1\n",
       "Tacna   2000  1.1\n",
       "Ica     2000  1.3\n",
       "Callao  2000  0.8\n",
       "Lima    2001  2.2\n",
       "Tacna   2001  1.2\n",
       "Ica     2001  1.4\n",
       "Callao  2001  0.7"
      ]
     },
     "execution_count": 122,
     "metadata": {},
     "output_type": "execute_result"
    }
   ],
   "source": [
    "data = {\n",
    "    \"city\": [\"Lima\", \"Tacna\", \"Ica\", \"Callao\", \"Lima\", \"Tacna\", \"Ica\", \"Callao\"],\n",
    "    \"year\": [2000, 2000, 2000, 2000, 2001, 2001, 2001, 2001],\n",
    "    \"hab\": [2.1, 1.1, 1.3, 0.8, 2.2, 1.2, 1.4, 0.7]\n",
    "}\n",
    "frame = pd.DataFrame(data)\n",
    "frame = frame.set_index('city')\n",
    "frame"
   ]
  },
  {
   "cell_type": "code",
   "execution_count": null,
   "id": "010801c4",
   "metadata": {},
   "outputs": [],
   "source": [
    "## crear un dataframe con los departamentos del Peru, incluye\n",
    "## poblacion, capital, numero_de_distritos, el indice sean los departamentos\n",
    "## y añadir columnas en base a la poblacion \"big_departament\": True, False\n",
    "## ** big_departament mas de 1 millon de habitantes\n",
    "## ** La data de numero de distritos y poblacion puede ser inventada\n"
   ]
  }
 ],
 "metadata": {
  "kernelspec": {
   "display_name": ".venv",
   "language": "python",
   "name": "python3"
  },
  "language_info": {
   "codemirror_mode": {
    "name": "ipython",
    "version": 3
   },
   "file_extension": ".py",
   "mimetype": "text/x-python",
   "name": "python",
   "nbconvert_exporter": "python",
   "pygments_lexer": "ipython3",
   "version": "3.11.2"
  }
 },
 "nbformat": 4,
 "nbformat_minor": 5
}
