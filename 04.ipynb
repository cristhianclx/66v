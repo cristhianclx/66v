{
 "cells": [
  {
   "cell_type": "markdown",
   "id": "9b1fcf5b",
   "metadata": {},
   "source": [
    "## numpy"
   ]
  },
  {
   "cell_type": "code",
   "execution_count": 1,
   "id": "bfc2ecdf",
   "metadata": {},
   "outputs": [
    {
     "name": "stdout",
     "output_type": "stream",
     "text": [
      "Requirement already satisfied: numpy in ./.venv/lib/python3.11/site-packages (2.2.6)\n"
     ]
    }
   ],
   "source": [
    "!pip install numpy"
   ]
  },
  {
   "cell_type": "code",
   "execution_count": 8,
   "id": "5d16997d",
   "metadata": {},
   "outputs": [
    {
     "name": "stdout",
     "output_type": "stream",
     "text": [
      "[[  0   1   2   3   4]\n",
      " [-99   6 -99   8 -99]\n",
      " [-99  11 -99  13 -99]]\n"
     ]
    },
    {
     "data": {
      "text/plain": [
       "array([ 0.75495523, -0.32639148, -0.10550946, ..., -0.39019491,\n",
       "        0.30400119,  0.10813255], shape=(2500,))"
      ]
     },
     "execution_count": 8,
     "metadata": {},
     "output_type": "execute_result"
    }
   ],
   "source": [
    "import numpy as np\n",
    "\n",
    "x = np.arange(15, dtype=np.int64).reshape(3, 5)\n",
    "\n",
    "x[1:, ::2] = -99\n",
    "x\n",
    "print(x)\n",
    "\n",
    "x.max(axis=1)\n",
    "\n",
    "rng = np.random.default_rng()\n",
    "samples = rng.normal(size=2500)\n",
    "samples\n"
   ]
  },
  {
   "cell_type": "code",
   "execution_count": 11,
   "id": "f188fb42",
   "metadata": {},
   "outputs": [
    {
     "name": "stdout",
     "output_type": "stream",
     "text": [
      "[[-0.9855558  -0.1480739  -0.8833142 ]\n",
      " [-0.04871328 -0.25268979 -1.1606089 ]]\n",
      "[[ -9.85555799  -1.48073902  -8.83314201]\n",
      " [ -0.48713276  -2.52689793 -11.60608896]]\n",
      "[[-1.9711116  -0.2961478  -1.7666284 ]\n",
      " [-0.09742655 -0.50537959 -2.32121779]]\n"
     ]
    }
   ],
   "source": [
    "import numpy as np\n",
    "\n",
    "data = np.random.randn(2, 3)\n",
    "print(data)\n",
    "\n",
    "print(data*10)\n",
    "\n",
    "print(data + data)"
   ]
  },
  {
   "cell_type": "code",
   "execution_count": 15,
   "id": "fd1da057",
   "metadata": {},
   "outputs": [
    {
     "name": "stdout",
     "output_type": "stream",
     "text": [
      "[6.  7.  8.  0.  1.  1.5]\n",
      "(6,)\n"
     ]
    }
   ],
   "source": [
    "data = [6, 7, 8, 0, 1, 1.5]\n",
    "datar = np.array(data)\n",
    "print(datar)\n",
    "print(datar.shape)"
   ]
  },
  {
   "cell_type": "code",
   "execution_count": 19,
   "id": "30affa39",
   "metadata": {},
   "outputs": [
    {
     "name": "stdout",
     "output_type": "stream",
     "text": [
      "[[0. 0. 0. 0. 0.]\n",
      " [0. 0. 0. 0. 0.]\n",
      " [0. 0. 0. 0. 0.]\n",
      " [0. 0. 0. 0. 0.]]\n",
      "[[1. 1. 1. 1. 1.]\n",
      " [1. 1. 1. 1. 1.]\n",
      " [1. 1. 1. 1. 1.]\n",
      " [1. 1. 1. 1. 1.]]\n",
      "[ 0  1  2  3  4  5  6  7  8  9 10 11 12 13 14 15 16 17 18 19]\n"
     ]
    }
   ],
   "source": [
    "print(np.zeros((4, 5)))\n",
    "print(np.ones((4, 5)))\n",
    "print(np.arange(20))"
   ]
  },
  {
   "cell_type": "code",
   "execution_count": 23,
   "id": "4ebef99b",
   "metadata": {},
   "outputs": [
    {
     "name": "stdout",
     "output_type": "stream",
     "text": [
      "[[ 1  4  9]\n",
      " [16 25 36]]\n",
      "[[0 0 0]\n",
      " [0 0 0]]\n",
      "[[1.         0.5        0.33333333]\n",
      " [0.25       0.2        0.16666667]]\n"
     ]
    }
   ],
   "source": [
    "data = np.array([\n",
    "    [1, 2, 3],\n",
    "    [4, 5, 6]\n",
    "])\n",
    "print(data * data)\n",
    "print(data - data)\n",
    "print(1 / data)"
   ]
  },
  {
   "cell_type": "code",
   "execution_count": 26,
   "id": "523688a0",
   "metadata": {},
   "outputs": [
    {
     "name": "stdout",
     "output_type": "stream",
     "text": [
      "[0 1 2 3 4 5 6 7 8 9]\n",
      "5\n",
      "[5 6 7]\n"
     ]
    }
   ],
   "source": [
    "data = np.arange(10)\n",
    "print(data)\n",
    "print(data[5])\n",
    "print(data[5:8])"
   ]
  },
  {
   "cell_type": "code",
   "execution_count": 31,
   "id": "3173e74c",
   "metadata": {},
   "outputs": [
    {
     "name": "stdout",
     "output_type": "stream",
     "text": [
      "[[1 2 3]\n",
      " [4 5 6]\n",
      " [7 8 9]]\n",
      "3\n",
      "3\n",
      "[[1 2 3]\n",
      " [4 5 6]]\n",
      "[[1 2]\n",
      " [4 5]\n",
      " [7 8]]\n"
     ]
    }
   ],
   "source": [
    "data = np.array([ [1, 2, 3], [4, 5, 6], [7, 8, 9] ])\n",
    "print(data)\n",
    "print(data[0][2])\n",
    "print(data[0,2])\n",
    "print(data[:2])\n",
    "print(data[:, :2])"
   ]
  },
  {
   "cell_type": "code",
   "execution_count": null,
   "id": "ce32cded",
   "metadata": {},
   "outputs": [
    {
     "name": "stdout",
     "output_type": "stream",
     "text": [
      "[ 0  1  2  3  4  5  6  7  8  9 10 11 12 13 14 15 16 17 18 19 20 21 22 23\n",
      " 24 25 26 27 28 29 30 31]\n",
      "[[ 0  1  2  3]\n",
      " [ 4  5  6  7]\n",
      " [ 8  9 10 11]\n",
      " [12 13 14 15]\n",
      " [16 17 18 19]\n",
      " [20 21 22 23]\n",
      " [24 25 26 27]\n",
      " [28 29 30 31]]\n",
      "[ 0  1  2  3  4  5  6  7  8  9 10 11 12 13 14 15 16 17 18 19 20 21 22 23\n",
      " 24 25 26 27 28 29 30 31]\n"
     ]
    }
   ],
   "source": [
    "data = np.arange(32)\n",
    "print(data)\n",
    "\n",
    "print(data.reshape(8, 4))\n",
    "\n",
    "print(data.T)"
   ]
  },
  {
   "cell_type": "code",
   "execution_count": 36,
   "id": "3c7f33a6",
   "metadata": {},
   "outputs": [
    {
     "name": "stdout",
     "output_type": "stream",
     "text": [
      "[0 1 2 3 4 5 6 7 8 9]\n",
      "[0.         1.         1.41421356 1.73205081 2.         2.23606798\n",
      " 2.44948974 2.64575131 2.82842712 3.        ]\n"
     ]
    }
   ],
   "source": [
    "data = np.arange(10)\n",
    "print(data)\n",
    "print(np.sqrt(data))"
   ]
  },
  {
   "cell_type": "code",
   "execution_count": 56,
   "id": "2175fe0c",
   "metadata": {},
   "outputs": [
    {
     "data": {
      "text/plain": [
       "array([1, 3, 3, 9, 2, 9, 2, 9, 4, 4])"
      ]
     },
     "execution_count": 56,
     "metadata": {},
     "output_type": "execute_result"
    }
   ],
   "source": [
    "np.random.randint(1, 10, 10)"
   ]
  },
  {
   "cell_type": "code",
   "execution_count": 63,
   "id": "e1e9e935",
   "metadata": {},
   "outputs": [
    {
     "data": {
      "text/plain": [
       "array([1, 9, 8, 2, 8, 7, 4, 7, 7, 1])"
      ]
     },
     "execution_count": 63,
     "metadata": {},
     "output_type": "execute_result"
    }
   ],
   "source": [
    "np.random.seed(153)\n",
    "np.random.randint(1, 10, 10)"
   ]
  },
  {
   "cell_type": "code",
   "execution_count": 68,
   "id": "ad1e578b",
   "metadata": {},
   "outputs": [
    {
     "name": "stdout",
     "output_type": "stream",
     "text": [
      "[ 1  2  3  4  5  6  7  8  9 10 11 12 13 14 15 16 17 18 19 20 21 22 23 24\n",
      " 25 26 27 28 29 30 31 32 33 34 35 36 37 38 39 40 41 42 43 44 45 46 47 48\n",
      " 49]\n",
      "25.0\n",
      "1225\n",
      "14.142135623730951\n"
     ]
    }
   ],
   "source": [
    "data = np.arange(1, 50)\n",
    "print(data)\n",
    "\n",
    "print(data.mean())\n",
    "print(data.sum())\n",
    "print(data.std())"
   ]
  },
  {
   "cell_type": "code",
   "execution_count": 71,
   "id": "3366d2c3",
   "metadata": {},
   "outputs": [
    {
     "name": "stdout",
     "output_type": "stream",
     "text": [
      "[5 1 2 6 1 4 2 3 8 1]\n"
     ]
    },
    {
     "data": {
      "text/plain": [
       "[<matplotlib.lines.Line2D at 0x7f01e4fbb550>]"
      ]
     },
     "execution_count": 71,
     "metadata": {},
     "output_type": "execute_result"
    },
    {
     "data": {
      "image/png": "[encoded data removed]",
      "text/plain": [
       "<Figure size 640x480 with 1 Axes>"
      ]
     },
     "metadata": {},
     "output_type": "display_data"
    }
   ],
   "source": [
    "import random\n",
    "import matplotlib.pyplot as plt\n",
    "%matplotlib inline\n",
    "np.random.seed(43)\n",
    "data = np.random.randint(1, 10, 10)\n",
    "print(data)\n",
    "plt.plot(data)"
   ]
  },
  {
   "cell_type": "markdown",
   "id": "5ba8091c",
   "metadata": {},
   "source": [
    "## usando numpy, random, matplotlib, simular\n",
    "## 10 lanzamientos de dados\n",
    "## [1,6,4,4,...]\n",
    "## hacer ploteo\n",
    "\n",
    "## simular el mismo con 30 lanzamientos\n",
    "## hacer ploteo"
   ]
  }
 ],
 "metadata": {
  "kernelspec": {
   "display_name": ".venv",
   "language": "python",
   "name": "python3"
  },
  "language_info": {
   "codemirror_mode": {
    "name": "ipython",
    "version": 3
   },
   "file_extension": ".py",
   "mimetype": "text/x-python",
   "name": "python",
   "nbconvert_exporter": "python",
   "pygments_lexer": "ipython3",
   "version": "3.11.2"
  }
 },
 "nbformat": 4,
 "nbformat_minor": 5
}
