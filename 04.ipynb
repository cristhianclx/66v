{
 "cells": [
  {
   "cell_type": "markdown",
   "id": "9b1fcf5b",
   "metadata": {},
   "source": [
    "## numpy"
   ]
  },
  {
   "cell_type": "code",
   "execution_count": null,
   "id": "bfc2ecdf",
   "metadata": {},
   "outputs": [],
   "source": [
    "!pip install numpy"
   ]
  },
  {
   "cell_type": "code",
   "execution_count": null,
   "id": "5d16997d",
   "metadata": {},
   "outputs": [],
   "source": [
    "import numpy as np\n",
    "\n",
    "x = np.arange(15, dtype=np.int64).reshape(3, 5)\n",
    "\n",
    "x[1:, ::2] = -99\n",
    "x\n",
    "print(x)\n",
    "\n",
    "x.max(axis=1)\n",
    "\n",
    "rng = np.random.default_rng()\n",
    "samples = rng.normal(size=2500)\n",
    "samples\n"
   ]
  },
  {
   "cell_type": "code",
   "execution_count": null,
   "id": "f188fb42",
   "metadata": {},
   "outputs": [],
   "source": [
    "import numpy as np\n",
    "\n",
    "data = np.random.randn(2, 3)\n",
    "print(data)\n",
    "\n",
    "print(data*10)\n",
    "\n",
    "print(data + data)"
   ]
  },
  {
   "cell_type": "code",
   "execution_count": null,
   "id": "fd1da057",
   "metadata": {},
   "outputs": [],
   "source": [
    "data = [6, 7, 8, 0, 1, 1.5]\n",
    "datar = np.array(data)\n",
    "print(datar)\n",
    "print(datar.shape)"
   ]
  },
  {
   "cell_type": "code",
   "execution_count": null,
   "id": "30affa39",
   "metadata": {},
   "outputs": [],
   "source": [
    "print(np.zeros((4, 5)))\n",
    "print(np.ones((4, 5)))\n",
    "print(np.arange(20))"
   ]
  },
  {
   "cell_type": "code",
   "execution_count": null,
   "id": "4ebef99b",
   "metadata": {},
   "outputs": [],
   "source": [
    "data = np.array([\n",
    "    [1, 2, 3],\n",
    "    [4, 5, 6]\n",
    "])\n",
    "print(data * data)\n",
    "print(data - data)\n",
    "print(1 / data)"
   ]
  },
  {
   "cell_type": "code",
   "execution_count": null,
   "id": "523688a0",
   "metadata": {},
   "outputs": [],
   "source": [
    "data = np.arange(10)\n",
    "print(data)\n",
    "print(data[5])\n",
    "print(data[5:8])"
   ]
  },
  {
   "cell_type": "code",
   "execution_count": null,
   "id": "3173e74c",
   "metadata": {},
   "outputs": [],
   "source": [
    "data = np.array([ [1, 2, 3], [4, 5, 6], [7, 8, 9] ])\n",
    "print(data)\n",
    "print(data[0][2])\n",
    "print(data[0,2])\n",
    "print(data[:2])\n",
    "print(data[:, :2])"
   ]
  },
  {
   "cell_type": "code",
   "execution_count": null,
   "id": "ce32cded",
   "metadata": {},
   "outputs": [],
   "source": [
    "data = np.arange(32)\n",
    "print(data)\n",
    "\n",
    "print(data.reshape(8, 4))\n",
    "\n",
    "print(data.T)"
   ]
  },
  {
   "cell_type": "code",
   "execution_count": null,
   "id": "3c7f33a6",
   "metadata": {},
   "outputs": [],
   "source": [
    "data = np.arange(10)\n",
    "print(data)\n",
    "print(np.sqrt(data))"
   ]
  },
  {
   "cell_type": "code",
   "execution_count": null,
   "id": "2175fe0c",
   "metadata": {},
   "outputs": [],
   "source": [
    "np.random.randint(1, 10, 10)"
   ]
  },
  {
   "cell_type": "code",
   "execution_count": null,
   "id": "e1e9e935",
   "metadata": {},
   "outputs": [],
   "source": [
    "np.random.seed(153)\n",
    "np.random.randint(1, 10, 10)"
   ]
  },
  {
   "cell_type": "code",
   "execution_count": null,
   "id": "ad1e578b",
   "metadata": {},
   "outputs": [],
   "source": [
    "data = np.arange(1, 50)\n",
    "print(data)\n",
    "\n",
    "print(data.mean())\n",
    "print(data.sum())\n",
    "print(data.std())"
   ]
  },
  {
   "cell_type": "code",
   "execution_count": null,
   "id": "3366d2c3",
   "metadata": {},
   "outputs": [],
   "source": [
    "import random\n",
    "import matplotlib.pyplot as plt\n",
    "%matplotlib inline\n",
    "np.random.seed(43)\n",
    "data = np.random.randint(1, 10, 10)\n",
    "print(data)\n",
    "plt.plot(data)"
   ]
  },
  {
   "cell_type": "code",
   "execution_count": null,
   "id": "c93a5976",
   "metadata": {},
   "outputs": [],
   "source": [
    "import matplotlib.pyplot as plt\n",
    "\n",
    "%matplotlib inline\n",
    "\n",
    "np.random.seed(43)\n",
    "\n",
    "data = np.random.randint(1, 7, 10)\n",
    "print(data)\n",
    "plt.plot(data)"
   ]
  },
  {
   "cell_type": "code",
   "execution_count": null,
   "id": "462b62cd",
   "metadata": {},
   "outputs": [],
   "source": [
    "data = np.random.randint(1, 7, 30)\n",
    "print(data)\n",
    "plt.plot(data)"
   ]
  },
  {
   "cell_type": "markdown",
   "id": "60ff2c91",
   "metadata": {},
   "source": [
    "## pandas"
   ]
  },
  {
   "cell_type": "code",
   "execution_count": null,
   "id": "b43b83de",
   "metadata": {},
   "outputs": [],
   "source": [
    "!pip install pandas"
   ]
  },
  {
   "cell_type": "code",
   "execution_count": null,
   "id": "f330c5d3",
   "metadata": {},
   "outputs": [],
   "source": [
    "import pandas as pd\n",
    "\n",
    "data = pd.Series([4, 5, 6, 7], index=['x', 'y', 'z', 'k'])\n",
    "print(data)\n",
    "\n",
    "print(data[\"y\"])\n",
    "print(data[['y', 'k']])\n",
    "\n",
    "print(data[data > 5])"
   ]
  },
  {
   "cell_type": "code",
   "execution_count": null,
   "id": "e41ede91",
   "metadata": {},
   "outputs": [],
   "source": [
    "data = {\"Lima\": 20000, \"Tacna\": 71000, \"Ica\": 50000}\n",
    "data_s = pd.Series(data)\n",
    "print(data_s)\n",
    "\n",
    "print(data_s[data_s > 30000])"
   ]
  },
  {
   "cell_type": "code",
   "execution_count": null,
   "id": "f1d9ca9b",
   "metadata": {},
   "outputs": [],
   "source": [
    "data = {\n",
    "    \"city\": [\"Lima\", \"Tacna\", \"Ica\", \"Callao\", \"Lima\", \"Tacna\", \"Ica\", \"Callao\"],\n",
    "    \"year\": [2000, 2000, 2000, 2000, 2001, 2001, 2001, 2001],\n",
    "    \"hab\": [2.1, 1.1, 1.3, 0.8, 2.2, 1.2, 1.4, 0.7]\n",
    "}\n",
    "\n",
    "frame = pd.DataFrame(data)\n",
    "print(frame)\n",
    "\n",
    "print(frame.head(4))\n",
    "print(frame.tail(4))\n",
    "\n",
    "print(pd.DataFrame(data, columns=[\"year\", \"city\" ,\"hab\"]))\n",
    "\n",
    "print(frame[\"city\"])\n",
    "print(frame.city)"
   ]
  },
  {
   "cell_type": "code",
   "execution_count": null,
   "id": "9b4b7614",
   "metadata": {},
   "outputs": [],
   "source": [
    "print(frame)\n",
    "frame[\"new_data\"] = np.arange(8)\n",
    "print(frame)"
   ]
  },
  {
   "cell_type": "code",
   "execution_count": null,
   "id": "c4bb344f",
   "metadata": {},
   "outputs": [],
   "source": [
    "frame.values"
   ]
  },
  {
   "cell_type": "code",
   "execution_count": null,
   "id": "98707ccb",
   "metadata": {},
   "outputs": [],
   "source": [
    "print(frame)\n",
    "\n",
    "frame.drop('new_data', inplace=True, axis=1)\n",
    "print(frame)"
   ]
  },
  {
   "cell_type": "code",
   "execution_count": null,
   "id": "0fdee261",
   "metadata": {},
   "outputs": [],
   "source": [
    "print(frame)\n",
    "frame = frame.drop(0)\n",
    "print(frame)"
   ]
  },
  {
   "cell_type": "code",
   "execution_count": null,
   "id": "236a97ba",
   "metadata": {},
   "outputs": [],
   "source": [
    "data = pd.Series(np.arange(6), index=['a', 'b', 'c', 'd', 'e', 'f'])\n",
    "print(data)"
   ]
  },
  {
   "cell_type": "code",
   "execution_count": null,
   "id": "59d8df9e",
   "metadata": {},
   "outputs": [],
   "source": [
    "print(data['c'])\n",
    "\n",
    "print(data[3:5])\n",
    "\n",
    "print(data[['c', 'a']])\n",
    "\n",
    "print(data[data < 2])\n",
    "\n",
    "print(data['b': 'c'])"
   ]
  },
  {
   "cell_type": "code",
   "execution_count": null,
   "id": "e4365bcb",
   "metadata": {},
   "outputs": [],
   "source": [
    "data = pd.DataFrame(np.arange(16).reshape(4, 4), index=[\"Lima\", \"Tacna\", \"Ica\", \"Callao\"], columns=['A1', 'B1', 'C1', 'D1'])\n",
    "print(data)\n",
    "\n",
    "print(data[['D1', 'B1']])\n",
    "\n",
    "print(data[data['C1'] > 8])\n",
    "\n",
    "print(\"----\")\n",
    "\n",
    "print(data.loc['Tacna', ['B1', 'C1']])\n",
    "\n",
    "print(data.iloc[1, [1, 2]])"
   ]
  },
  {
   "cell_type": "code",
   "execution_count": null,
   "id": "2cc9cc79",
   "metadata": {},
   "outputs": [],
   "source": [
    "data = pd.DataFrame(np.random.randn(4, 4), index=[\"Lima\", \"Tacna\", \"Ica\", \"Callao\"], columns=['A1', 'B1', 'C1', 'D1'])\n",
    "print(data)\n",
    "\n",
    "np.abs(data)\n",
    "\n",
    "data.apply(lambda x: x * 2)"
   ]
  },
  {
   "cell_type": "code",
   "execution_count": null,
   "id": "f8f290a0",
   "metadata": {},
   "outputs": [],
   "source": [
    "data = pd.Series(range(4), index=['d', 'a', 'c', 'b'])\n",
    "print(data)\n",
    "\n",
    "data = data.sort_index()\n",
    "print(data)"
   ]
  },
  {
   "cell_type": "code",
   "execution_count": null,
   "id": "6ec23762",
   "metadata": {},
   "outputs": [],
   "source": [
    "data = pd.DataFrame(np.random.randn(4, 4), index=[\"Lima\", \"Tacna\", \"Ica\", \"Callao\"], columns=['A1', 'B1', 'C1', 'D1'])\n",
    "print(data)\n",
    "\n",
    "data.sort_index(ascending=False)"
   ]
  },
  {
   "cell_type": "code",
   "execution_count": null,
   "id": "a2151b15",
   "metadata": {},
   "outputs": [],
   "source": [
    "data = {\n",
    "    \"city\": [\"Lima\", \"Tacna\", \"Ica\", \"Callao\", \"Lima\", \"Tacna\", \"Ica\", \"Callao\"],\n",
    "    \"year\": [2000, 2000, 2000, 2000, 2001, 2001, 2001, 2001],\n",
    "    \"hab\": [2.1, 1.1, 1.3, 0.8, 2.2, 1.2, 1.4, 0.7]\n",
    "}\n",
    "frame = pd.DataFrame(data)\n",
    "frame = frame.set_index('city')\n",
    "frame"
   ]
  },
  {
   "cell_type": "code",
   "execution_count": null,
   "id": "010801c4",
   "metadata": {},
   "outputs": [],
   "source": [
    "data = {\n",
    "    \"departments\": [\"Lima\", \"Tacna\", \"Ica\", \"Callao\", \"Junin\"],\n",
    "    \"pob\": [1.2, 1.1, 1, 1, 1.1],\n",
    "    \"capital\": [\"Lima\", \"Tacna\", \"Ica\", \"Callao\", \"Huancayo\"],\n",
    "    \"districts\": [5, 6, 7, 8, 9],\n",
    "}\n",
    "frame = pd.DataFrame(data)\n",
    "frame = frame.set_index('departments')\n",
    "frame['big_deparment'] = frame[\"pob\"] > 1\n",
    "frame"
   ]
  }
 ],
 "metadata": {
  "kernelspec": {
   "display_name": ".venv",
   "language": "python",
   "name": "python3"
  },
  "language_info": {
   "codemirror_mode": {
    "name": "ipython",
    "version": 3
   },
   "file_extension": ".py",
   "mimetype": "text/x-python",
   "name": "python",
   "nbconvert_exporter": "python",
   "pygments_lexer": "ipython3",
   "version": "3.11.2"
  }
 },
 "nbformat": 4,
 "nbformat_minor": 5
}
